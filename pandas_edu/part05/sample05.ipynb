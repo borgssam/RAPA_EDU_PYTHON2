{
 "cells": [
  {
   "cell_type": "code",
   "execution_count": 25,
   "metadata": {},
   "outputs": [
    {
     "name": "stdout",
     "output_type": "stream",
     "text": [
      "원본 데이터프레임:\n",
      "   mpg  cylinders  displacement  horsepower  weight  acceleration  model year  \\\n",
      "0   18          8           307         130    3504          12.0          70   \n",
      "1   15          8           350         165    3693          11.5          70   \n",
      "2   36          4            97          95    2130          14.0          80   \n",
      "3   22          6           140         110    2695          15.0          80   \n",
      "4   20          6           160         115    2825          14.5          80   \n",
      "\n",
      "  origin  \n",
      "0    USA  \n",
      "1    USA  \n",
      "2     Eu  \n",
      "3    USA  \n",
      "4     Eu  \n"
     ]
    }
   ],
   "source": [
    "import pandas as pd\n",
    "\n",
    "# 가상의 자동차 연비 데이터 생성\n",
    "data = {\n",
    "    'mpg': [18, 15, 36, 22, 20],\n",
    "    'cylinders': [8, 8, 4, 6, 6],\n",
    "    'displacement': [307, 350, 97, 140, 160],\n",
    "    'horsepower': [130, 165, 95, 110, 115],\n",
    "    'weight': [3504, 3693, 2130, 2695, 2825],\n",
    "    'acceleration': [12.0, 11.5, 14.0, 15.0, 14.5],\n",
    "    'model year': [70, 70, 80, 80, 80],\n",
    "    'origin': ['USA', 'USA', 'Eu', 'USA', 'Eu'],\n",
    "}\n",
    "\n",
    "# 데이터프레임 생성\n",
    "df = pd.DataFrame(data)\n",
    "\n",
    "print(\"원본 데이터프레임:\")\n",
    "print(df)\n"
   ]
  },
  {
   "cell_type": "code",
   "execution_count": 26,
   "metadata": {},
   "outputs": [
    {
     "name": "stdout",
     "output_type": "stream",
     "text": [
      "\n",
      "원-핫 인코딩 후 데이터프레임:\n",
      "   mpg  cylinders  displacement  horsepower  weight  acceleration  model year  \\\n",
      "0   18          8           307         130    3504          12.0          70   \n",
      "1   15          8           350         165    3693          11.5          70   \n",
      "2   36          4            97          95    2130          14.0          80   \n",
      "3   22          6           140         110    2695          15.0          80   \n",
      "4   20          6           160         115    2825          14.5          80   \n",
      "\n",
      "  origin  origin_Eu  origin_USA  \n",
      "0    USA          0           1  \n",
      "1    USA          0           1  \n",
      "2     Eu          1           0  \n",
      "3    USA          0           1  \n",
      "4     Eu          1           0  \n"
     ]
    }
   ],
   "source": [
    "# 원-핫 인코딩 수행\n",
    "onehot_encoded = pd.get_dummies(df['origin'], prefix='origin')\n",
    "\n",
    "# 원본 데이터프레임에 원-핫 인코딩된 데이터프레임을 추가\n",
    "df = pd.concat([df, onehot_encoded], axis=1)\n",
    "\n",
    "# True/False를 1/0으로 변환\n",
    "df['origin_Eu'] = df['origin_Eu'].astype(int)\n",
    "df['origin_USA'] = df['origin_USA'].astype(int)\n",
    "\n",
    "# 결과 출력\n",
    "print(\"\\n원-핫 인코딩 후 데이터프레임:\")\n",
    "print(df)\n"
   ]
  },
  {
   "cell_type": "code",
   "execution_count": 27,
   "metadata": {},
   "outputs": [
    {
     "name": "stdout",
     "output_type": "stream",
     "text": [
      "원본 데이터프레임:\n",
      "   mpg  cylinders  displacement  horsepower  weight  acceleration  model year  \\\n",
      "0   18          8           307         130    3504          12.0          70   \n",
      "1   15          8           350         165    3693          11.5          70   \n",
      "2   36          4            97          95    2130          14.0          80   \n",
      "3   22          6           140         110    2695          15.0          80   \n",
      "4   20          6           160         115    2825          14.5          80   \n",
      "\n",
      "  origin  \n",
      "0    USA  \n",
      "1    USA  \n",
      "2     Eu  \n",
      "3    USA  \n",
      "4     Eu  \n"
     ]
    }
   ],
   "source": [
    "import pandas as pd\n",
    "\n",
    "# 가상의 자동차 연비 데이터 생성\n",
    "data = {\n",
    "    'mpg': [18, 15, 36, 22, 20],\n",
    "    'cylinders': [8, 8, 4, 6, 6],\n",
    "    'displacement': [307, 350, 97, 140, 160],\n",
    "    'horsepower': [130, 165, 95, 110, 115],\n",
    "    'weight': [3504, 3693, 2130, 2695, 2825],\n",
    "    'acceleration': [12.0, 11.5, 14.0, 15.0, 14.5],\n",
    "    'model year': [70, 70, 80, 80, 80],\n",
    "    'origin': ['USA', 'USA', 'Eu', 'USA', 'Eu'],\n",
    "}\n",
    "\n",
    "# 데이터프레임 생성\n",
    "df = pd.DataFrame(data)\n",
    "\n",
    "print(\"원본 데이터프레임:\")\n",
    "print(df)"
   ]
  },
  {
   "cell_type": "code",
   "execution_count": 28,
   "metadata": {},
   "outputs": [
    {
     "name": "stdout",
     "output_type": "stream",
     "text": [
      "\n",
      "원-핫 인코딩 후 데이터프레임:\n",
      "   mpg  cylinders  displacement  horsepower  weight  acceleration  model year  \\\n",
      "0   18          8           307         130    3504          12.0          70   \n",
      "1   15          8           350         165    3693          11.5          70   \n",
      "2   36          4            97          95    2130          14.0          80   \n",
      "3   22          6           140         110    2695          15.0          80   \n",
      "4   20          6           160         115    2825          14.5          80   \n",
      "\n",
      "  origin  origin_Eu  origin_USA  \n",
      "0    USA        0.0         1.0  \n",
      "1    USA        0.0         1.0  \n",
      "2     Eu        1.0         0.0  \n",
      "3    USA        0.0         1.0  \n",
      "4     Eu        1.0         0.0  \n"
     ]
    }
   ],
   "source": [
    "from sklearn.preprocessing import OneHotEncoder\n",
    "\n",
    "# OneHotEncoder 객체 생성\n",
    "encoder = OneHotEncoder(sparse_output=False)  # 희소 행렬이 아닌 일반 배열로 반환\n",
    "\n",
    "# 'origin' 열에 대해 원-핫 인코딩 수행\n",
    "onehot_encoded = encoder.fit_transform(df[['origin']])\n",
    "\n",
    "# 원-핫 인코딩 결과를 DataFrame으로 변환\n",
    "onehot_df = pd.DataFrame(onehot_encoded, columns=encoder.get_feature_names_out(['origin']))\n",
    "\n",
    "# 원본 데이터프레임에 원-핫 인코딩된 데이터프레임을 추가\n",
    "df = pd.concat([df, onehot_df], axis=1)\n",
    "\n",
    "# 결과 출력\n",
    "print(\"\\n원-핫 인코딩 후 데이터프레임:\")\n",
    "print(df)\n"
   ]
  },
  {
   "cell_type": "code",
   "execution_count": null,
   "metadata": {},
   "outputs": [],
   "source": []
  }
 ],
 "metadata": {
  "kernelspec": {
   "display_name": "rapa3103",
   "language": "python",
   "name": "python3"
  },
  "language_info": {
   "codemirror_mode": {
    "name": "ipython",
    "version": 3
   },
   "file_extension": ".py",
   "mimetype": "text/x-python",
   "name": "python",
   "nbconvert_exporter": "python",
   "pygments_lexer": "ipython3",
   "version": "3.10.5"
  }
 },
 "nbformat": 4,
 "nbformat_minor": 2
}
