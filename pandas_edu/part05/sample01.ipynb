{
 "cells": [
  {
   "cell_type": "code",
   "execution_count": 15,
   "metadata": {},
   "outputs": [
    {
     "name": "stdout",
     "output_type": "stream",
     "text": [
      "최대: 30.625 최소: 1.625\n",
      "전체데이터------\n",
      "   values\n",
      "0       1\n",
      "1      10\n",
      "2      12\n",
      "3      14\n",
      "4      15\n",
      "5     100\n",
      "6     200\n",
      "7      18\n",
      "8      19\n",
      "9      20\n",
      "이상치제거마스크-------\n",
      "0    False\n",
      "1     True\n",
      "2     True\n",
      "3     True\n",
      "4     True\n",
      "5    False\n",
      "6    False\n",
      "7     True\n",
      "8     True\n",
      "9     True\n",
      "Name: values, dtype: bool\n",
      "크린데이터-------\n",
      "   values\n",
      "1      10\n",
      "2      12\n",
      "3      14\n",
      "4      15\n",
      "7      18\n",
      "8      19\n",
      "9      20\n"
     ]
    }
   ],
   "source": [
    "#iqr 이상치 제거하기\n",
    "\n",
    "import pandas as pd\n",
    "\n",
    "data= {'values':[1,10,12,14,15,100,200,18,19,20]}\n",
    "df = pd.DataFrame(data)\n",
    "# print(df)\n",
    "\n",
    "#iqr값 구하기\n",
    "q1 = df['values'].quantile(0.25)\n",
    "q3 = df['values'].quantile(0.75)\n",
    "# print(q1, q3)\n",
    "\n",
    "iqr = q3-q1\n",
    "max = q3+ (iqr*1.5)\n",
    "min = q1 - (iqr*1.5)\n",
    "print(\"최대:\", max, \"최소:\", min)\n",
    "print(\"전체데이터------\")\n",
    "print(df)\n",
    "mark = (df['values'] <= max) & (df['values'] >= min)\n",
    "\n",
    "print(\"이상치제거마스크-------\")\n",
    "print(mark)\n",
    "\n",
    "df_clean = df[mark]\n",
    "print(\"크린데이터-------\")\n",
    "print(df[mark])\n",
    "\n",
    "# df.describe()"
   ]
  },
  {
   "cell_type": "code",
   "execution_count": 16,
   "metadata": {},
   "outputs": [
    {
     "name": "stdout",
     "output_type": "stream",
     "text": [
      "   values    zscore\n",
      "0       1 -0.674213\n",
      "1      10 -0.522135\n",
      "2      12 -0.488339\n",
      "3      14 -0.454544\n",
      "4      15 -0.437647\n",
      "5     100  0.998646\n",
      "6     200  2.688401\n",
      "7      18 -0.386954\n",
      "8      19 -0.370057\n",
      "9      20 -0.353159\n"
     ]
    }
   ],
   "source": [
    "from scipy import stats\n",
    "df['zscore'] = stats.zscore(df['values'])\n",
    "print(df)"
   ]
  },
  {
   "cell_type": "code",
   "execution_count": 17,
   "metadata": {},
   "outputs": [
    {
     "name": "stdout",
     "output_type": "stream",
     "text": [
      "0     True\n",
      "1     True\n",
      "2     True\n",
      "3     True\n",
      "4     True\n",
      "5     True\n",
      "6    False\n",
      "7     True\n",
      "8     True\n",
      "9     True\n",
      "Name: zscore, dtype: bool\n",
      "   values    zscore\n",
      "0       1 -0.674213\n",
      "1      10 -0.522135\n",
      "2      12 -0.488339\n",
      "3      14 -0.454544\n",
      "4      15 -0.437647\n",
      "5     100  0.998646\n",
      "7      18 -0.386954\n",
      "8      19 -0.370057\n",
      "9      20 -0.353159\n"
     ]
    }
   ],
   "source": [
    "mark = (-2<=df['zscore']) & (df['zscore']<=2)\n",
    "print(mark)\n",
    "df_clean = df[mark]\n",
    "print(df_clean)"
   ]
  }
 ],
 "metadata": {
  "kernelspec": {
   "display_name": "rapa3103",
   "language": "python",
   "name": "python3"
  },
  "language_info": {
   "codemirror_mode": {
    "name": "ipython",
    "version": 3
   },
   "file_extension": ".py",
   "mimetype": "text/x-python",
   "name": "python",
   "nbconvert_exporter": "python",
   "pygments_lexer": "ipython3",
   "version": "3.10.5"
  }
 },
 "nbformat": 4,
 "nbformat_minor": 2
}
