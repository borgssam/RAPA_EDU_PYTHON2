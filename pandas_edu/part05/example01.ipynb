{
 "cells": [
  {
   "cell_type": "code",
   "execution_count": 3,
   "metadata": {},
   "outputs": [
    {
     "name": "stdout",
     "output_type": "stream",
     "text": [
      "\n",
      "판다스 방식 원-핫 인코딩 결과:\n",
      "   height  width   color species  Daisy  Fern  Rose\n",
      "0      10      5   Green    Fern      0     1     0\n",
      "1      15      7  Yellow   Daisy      1     0     0\n",
      "2      20     10     Red    Rose      0     0     1\n",
      "3      12      6    Blue    Fern      0     1     0\n",
      "4      18      9  Yellow   Daisy      1     0     0\n"
     ]
    }
   ],
   "source": [
    "import pandas as pd\n",
    "\n",
    "# 새로운 데이터 생성\n",
    "data = {\n",
    "    'height': [10, 15, 20, 12, 18],\n",
    "    'width': [5, 7, 10, 6, 9],\n",
    "    'color': ['Green', 'Yellow', 'Red', 'Blue', 'Yellow'],\n",
    "    'species': ['Fern', 'Daisy', 'Rose', 'Fern', 'Daisy'],\n",
    "}\n",
    "\n",
    "# 데이터프레임 생성\n",
    "df = pd.DataFrame(data)\n",
    "\n",
    "################# 이곳에 코드를 넣으세요 ##########################\n",
    "\n",
    "# 결과 출력\n",
    "print(\"\\n판다스 방식 원-핫 인코딩 결과:\")\n",
    "print(df)\n"
   ]
  },
  {
   "cell_type": "code",
   "execution_count": 4,
   "metadata": {},
   "outputs": [
    {
     "name": "stdout",
     "output_type": "stream",
     "text": [
      "\n",
      "사이킷런 방식 원-핫 인코딩 결과:\n",
      "   height  width   color species  species_Daisy  species_Fern  species_Rose\n",
      "0      10      5   Green    Fern            0.0           1.0           0.0\n",
      "1      15      7  Yellow   Daisy            1.0           0.0           0.0\n",
      "2      20     10     Red    Rose            0.0           0.0           1.0\n",
      "3      12      6    Blue    Fern            0.0           1.0           0.0\n",
      "4      18      9  Yellow   Daisy            1.0           0.0           0.0\n"
     ]
    }
   ],
   "source": [
    "from sklearn.preprocessing import OneHotEncoder\n",
    "\n",
    "# 새로운 데이터 생성\n",
    "data = {\n",
    "    'height': [10, 15, 20, 12, 18],\n",
    "    'width': [5, 7, 10, 6, 9],\n",
    "    'color': ['Green', 'Yellow', 'Red', 'Blue', 'Yellow'],\n",
    "    'species': ['Fern', 'Daisy', 'Rose', 'Fern', 'Daisy'],\n",
    "}\n",
    "\n",
    "# 데이터프레임 생성\n",
    "df = pd.DataFrame(data)\n",
    "\n",
    "#######################  이곳에 코드를 입력하시요 ############################\n",
    "\n",
    "# 결과 출력\n",
    "print(\"\\n사이킷런 방식 원-핫 인코딩 결과:\")\n",
    "print(df)\n"
   ]
  }
 ],
 "metadata": {
  "kernelspec": {
   "display_name": "rapa3103",
   "language": "python",
   "name": "python3"
  },
  "language_info": {
   "codemirror_mode": {
    "name": "ipython",
    "version": 3
   },
   "file_extension": ".py",
   "mimetype": "text/x-python",
   "name": "python",
   "nbconvert_exporter": "python",
   "pygments_lexer": "ipython3",
   "version": "3.10.5"
  }
 },
 "nbformat": 4,
 "nbformat_minor": 2
}
