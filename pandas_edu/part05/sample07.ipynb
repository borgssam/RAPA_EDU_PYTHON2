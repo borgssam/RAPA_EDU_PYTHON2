{
 "cells": [
  {
   "cell_type": "code",
   "execution_count": 8,
   "metadata": {},
   "outputs": [
    {
     "name": "stdout",
     "output_type": "stream",
     "text": [
      "   height   weight\n",
      "0     150   65.000\n",
      "1     160   70.000\n",
      "2     170   81.248\n",
      "3     180   90.000\n",
      "4     190  100.000\n",
      "           height      weight\n",
      "count    5.000000    5.000000\n",
      "mean   170.000000   81.249600\n",
      "std     15.811388   14.306904\n",
      "min    150.000000   65.000000\n",
      "25%    160.000000   70.000000\n",
      "50%    170.000000   81.248000\n",
      "75%    180.000000   90.000000\n",
      "max    190.000000  100.000000\n",
      "<class 'sklearn.preprocessing._data.StandardScaler'> <class 'numpy.ndarray'>\n",
      "          키       몸무게\n",
      "0 -1.414214 -1.269849\n",
      "1 -0.707107 -0.879116\n",
      "2  0.000000 -0.000125\n",
      "3  0.707107  0.683813\n",
      "4  1.414214  1.465278\n"
     ]
    }
   ],
   "source": [
    "#표준화\n",
    "from sklearn.preprocessing import StandardScaler\n",
    "import pandas as pd \n",
    "data = {\n",
    "  'height':[150,160,170,180,190],\n",
    "  'weight':[65,70,81.248,90,100] \n",
    "}\n",
    "df = pd.DataFrame(data)\n",
    "print(df)\n",
    "print(df.describe())\n",
    "\n",
    "scaler = StandardScaler()\n",
    "scaled_data = scaler.fit_transform(df)\n",
    "print(type(scaler), type(scaled_data))\n",
    "df_scaled = pd.DataFrame(scaled_data, columns=['키','몸무게'])\n",
    "print(df_scaled)\n",
    "\n"
   ]
  },
  {
   "cell_type": "code",
   "execution_count": 9,
   "metadata": {},
   "outputs": [
    {
     "name": "stdout",
     "output_type": "stream",
     "text": [
      "   height   weight\n",
      "0     150   65.000\n",
      "1     160   70.000\n",
      "2     170   81.248\n",
      "3     180   90.000\n",
      "4     190  100.000\n",
      "      키       몸무게\n",
      "0  0.00  0.000000\n",
      "1  0.25  0.142857\n",
      "2  0.50  0.464229\n",
      "3  0.75  0.714286\n",
      "4  1.00  1.000000\n"
     ]
    }
   ],
   "source": [
    "#minmax스케일\n",
    "#표준화\n",
    "from sklearn.preprocessing import MinMaxScaler\n",
    "import pandas as pd \n",
    "data = {\n",
    "  'height':[150,160,170,180,190],\n",
    "  'weight':[65,70,81.248,90,100] \n",
    "}\n",
    "df = pd.DataFrame(data)\n",
    "print(df)\n",
    "\n",
    "scaler = MinMaxScaler()\n",
    "normalized_data = scaler.fit_transform(df)\n",
    "df_normal = pd.DataFrame(normalized_data, columns=['키','몸무게'])\n",
    "print(df_normal)\n"
   ]
  }
 ],
 "metadata": {
  "kernelspec": {
   "display_name": "rapa3103",
   "language": "python",
   "name": "python3"
  },
  "language_info": {
   "codemirror_mode": {
    "name": "ipython",
    "version": 3
   },
   "file_extension": ".py",
   "mimetype": "text/x-python",
   "name": "python",
   "nbconvert_exporter": "python",
   "pygments_lexer": "ipython3",
   "version": "3.10.5"
  }
 },
 "nbformat": 4,
 "nbformat_minor": 2
}
