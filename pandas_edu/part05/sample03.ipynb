{
 "cells": [
  {
   "cell_type": "code",
   "execution_count": null,
   "metadata": {
    "vscode": {
     "languageId": "plaintext"
    }
   },
   "outputs": [],
   "source": [
    "import pandas as pd\n",
    "import numpy as np\n",
    "\n",
    "# DataFrame 생성\n",
    "data = {'A': [1, 2, np.nan, 1],\n",
    "        'B': [5, np.nan, np.nan, 5]}\n",
    "\n",
    "df = pd.DataFrame(data)\n",
    "\n",
    "print(\"원본 데이터프레임:\\n\", df)\n",
    "\n",
    "# 중복 데이터 탐지\n",
    "duplicates = df.duplicated()\n",
    "print(\"중복 데이터:\\n\", duplicates)\n",
    "\n",
    "# 중복 데이터 제거\n",
    "df_no_duplicates = df.drop_duplicates()\n",
    "print(\"중복 제거 후 데이터:\\n\", df_no_duplicates)\n"
   ]
  }
 ],
 "metadata": {
  "language_info": {
   "name": "python"
  }
 },
 "nbformat": 4,
 "nbformat_minor": 2
}
