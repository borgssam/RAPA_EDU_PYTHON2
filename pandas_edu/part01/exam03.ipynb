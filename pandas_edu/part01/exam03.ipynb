{
 "cells": [
  {
   "cell_type": "code",
   "execution_count": 13,
   "metadata": {},
   "outputs": [],
   "source": [
    "import pandas as pd\n",
    "exam_data = {\n",
    "    '이름': ['서준', '우현', '인아'],\n",
    "    '수학': [90, 80, 70],\n",
    "    '영어': [98, 89, 95],\n",
    "    '음악': [85, 95, 100],\n",
    "    '체육': [100, 90, 90]\n",
    "}\n",
    "org_df = pd.DataFrame(exam_data)\n"
   ]
  },
  {
   "cell_type": "markdown",
   "metadata": {},
   "source": [
    "문제 1: set_index 사용\n",
    "문제: 주어진 DataFrame에서 '이름' 열을 인덱스로 설정하고, 변경된 DataFrame을 출력하는 코드를 작성하시오."
   ]
  },
  {
   "cell_type": "code",
   "execution_count": 14,
   "metadata": {},
   "outputs": [
    {
     "name": "stdout",
     "output_type": "stream",
     "text": [
      "    수학  영어   음악   체육\n",
      "이름                  \n",
      "서준  90  98   85  100\n",
      "우현  80  89   95   90\n",
      "인아  70  95  100   90\n"
     ]
    }
   ],
   "source": [
    "df=org_df.copy()\n",
    "df = df.set_index('이름')\n",
    "print(df)\n"
   ]
  },
  {
   "cell_type": "markdown",
   "metadata": {},
   "source": [
    "문제 2: reindex 사용\n",
    "문제: 주어진 DataFrame에서 '서준', '우현', '인아', '정수' 순서로 인덱스를 재배치하시오. '정수'는 새로운 학생이므로 NaN으로 표시되도록 하시오."
   ]
  },
  {
   "cell_type": "code",
   "execution_count": 15,
   "metadata": {},
   "outputs": [
    {
     "name": "stdout",
     "output_type": "stream",
     "text": [
      "      수학    영어     음악     체육\n",
      "이름                          \n",
      "서준  90.0  98.0   85.0  100.0\n",
      "우현  80.0  89.0   95.0   90.0\n",
      "인아  70.0  95.0  100.0   90.0\n",
      "정수   NaN   NaN    NaN    NaN\n"
     ]
    }
   ],
   "source": [
    "# df=org_df.copy()\n",
    "new_index = ['서준', '우현', '인아', '정수']\n",
    "df_reindexed = df.reindex(new_index)\n",
    "print(df_reindexed)\n"
   ]
  },
  {
   "cell_type": "markdown",
   "metadata": {},
   "source": [
    "문제 3: reset_index 사용\n",
    "문제: 주어진 DataFrame에서 인덱스를 초기화하고, 초기화된 인덱스를 새로운 열로 추가하는 코드를 작성하시오."
   ]
  },
  {
   "cell_type": "code",
   "execution_count": 16,
   "metadata": {},
   "outputs": [
    {
     "name": "stdout",
     "output_type": "stream",
     "text": [
      "   이름  수학  영어   음악   체육\n",
      "0  서준  90  98   85  100\n",
      "1  우현  80  89   95   90\n",
      "2  인아  70  95  100   90\n"
     ]
    }
   ],
   "source": [
    "df_reset = df.reset_index()\n",
    "print(df_reset)\n"
   ]
  },
  {
   "cell_type": "markdown",
   "metadata": {},
   "source": [
    "문제 4: set_index와 reset_index 복합 사용\n",
    "문제: 주어진 DataFrame에서 '이름'을 인덱스로 설정한 후, 인덱스를 초기화하여 다시 기본 숫자 인덱스로 돌아가는 코드를 작성하시오."
   ]
  },
  {
   "cell_type": "code",
   "execution_count": 17,
   "metadata": {},
   "outputs": [
    {
     "name": "stdout",
     "output_type": "stream",
     "text": [
      "   이름  수학  영어   음악   체육\n",
      "0  서준  90  98   85  100\n",
      "1  우현  80  89   95   90\n",
      "2  인아  70  95  100   90\n"
     ]
    }
   ],
   "source": [
    "df=org_df.copy()\n",
    "df = df.set_index('이름')  # 인덱스 설정\n",
    "df_reset = df.reset_index()  # 인덱스 초기화\n",
    "print(df_reset)\n"
   ]
  },
  {
   "cell_type": "markdown",
   "metadata": {},
   "source": [
    "문제 5: reindex와 drop 사용\n",
    "문제: 주어진 DataFrame에서 특정 인덱스를 삭제하고 남은 인덱스만으로 재배치하는 코드를 작성하시오. 인덱스를 '서준'과 '우현'으로만 남겨두고 나머지 인덱스는 삭제하시오."
   ]
  },
  {
   "cell_type": "code",
   "execution_count": 18,
   "metadata": {},
   "outputs": [
    {
     "name": "stdout",
     "output_type": "stream",
     "text": [
      "    수학  영어  음악   체육\n",
      "이름                 \n",
      "서준  90  98  85  100\n",
      "우현  80  89  95   90\n"
     ]
    }
   ],
   "source": [
    "df_dropped = df.drop(index='인아')  # '인아' 인덱스 삭제\n",
    "df_reindexed = df_dropped.reindex(['서준', '우현'])\n",
    "print(df_reindexed)\n"
   ]
  },
  {
   "cell_type": "markdown",
   "metadata": {},
   "source": []
  },
  {
   "cell_type": "code",
   "execution_count": null,
   "metadata": {},
   "outputs": [],
   "source": []
  }
 ],
 "metadata": {
  "kernelspec": {
   "display_name": "rapa3103",
   "language": "python",
   "name": "python3"
  },
  "language_info": {
   "codemirror_mode": {
    "name": "ipython",
    "version": 3
   },
   "file_extension": ".py",
   "mimetype": "text/x-python",
   "name": "python",
   "nbconvert_exporter": "python",
   "pygments_lexer": "ipython3",
   "version": "3.10.5"
  }
 },
 "nbformat": 4,
 "nbformat_minor": 2
}
