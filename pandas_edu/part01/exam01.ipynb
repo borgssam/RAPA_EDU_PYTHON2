{
 "cells": [
  {
   "cell_type": "markdown",
   "metadata": {},
   "source": [
    "문제 1: 데이터프레임에 행 추가하고, 인덱스 변경하기\n",
    "주어진 데이터프레임에 새로운 행을 추가하고, 데이터프레임의 인덱스를 변경하세요.\n",
    "조건:\n",
    "df 데이터프레임이 주어졌습니다.\n",
    "새로운 행 데이터를 추가하세요.\n",
    "기존의 인덱스를 'A', 'B', 'C', ... 형식으로 변경하세요.\n",
    "import pandas as pd\n",
    "### 주어진 데이터프레임\n",
    "data = {'Name': ['Alice', 'Bob'],\n",
    "        'Age': [24, 27],\n",
    "        'City': ['New York', 'San Francisco']}\n",
    "df = pd.DataFrame(data)\n",
    "#### 문제:\n",
    "#### 1. 새로운 행 추가하기 (예: 'Charlie', 22, 'Chicago')\n",
    "#### 2. 인덱스를 'A', 'B', 'C'로 변경하세요.\n",
    "print(df)"
   ]
  },
  {
   "cell_type": "code",
   "execution_count": 5,
   "metadata": {},
   "outputs": [
    {
     "name": "stdout",
     "output_type": "stream",
     "text": [
      "      Name  Age           City\n",
      "A    Alice   24       New York\n",
      "B      Bob   27  San Francisco\n",
      "C  Charlie   22        Chicago\n"
     ]
    }
   ],
   "source": [
    "import pandas as pd\n",
    "\n",
    "# 주어진 데이터프레임\n",
    "data = {'Name': ['Alice', 'Bob'],\n",
    "        'Age': [24, 27],\n",
    "        'City': ['New York', 'San Francisco']}\n",
    "df = pd.DataFrame(data)\n",
    "\n",
    "# 1. 새로운 행 추가 ('Charlie', 22, 'Chicago')\n",
    "new_row = pd.DataFrame({'Name': ['Charlie'], 'Age': [22], 'City': ['Chicago']})\n",
    "df = pd.concat([df, new_row], ignore_index=True)  # 새로운 행을 추가\n",
    "\n",
    "# 2. 인덱스를 'A', 'B', 'C'로 변경하기\n",
    "df.index = ['A', 'B', 'C']  # 기존 인덱스를 'A', 'B', 'C' 형식으로 변경\n",
    "\n",
    "# 결과 출력\n",
    "print(df)\n"
   ]
  },
  {
   "cell_type": "markdown",
   "metadata": {},
   "source": [
    "문제2: 아래의 데이터프레임에서 열 삭제하기\n",
    "주어진 df 데이터프레임에서 City 열을 삭제하세요.\n",
    "문제3: 여러 열 삭제하기\n",
    "df 데이터프레임에서 Age와 City 열을 모두 삭제하세요.\n",
    "각 문제를 풀고, Pandas에서 열을 어떻게 삭제하는지 직접 확인해보세요\n",
    "<코드>\n",
    "import pandas as pd\n",
    "#### 주어진 데이터프레임\n",
    "data = {'Name': ['Alice', 'Bob', 'Charlie'],\n",
    "        'Age': [24, 27, 22],\n",
    "        'City': ['New York', 'San Francisco', 'Chicago']}\n",
    "df = pd.DataFrame(data)"
   ]
  },
  {
   "cell_type": "code",
   "execution_count": 6,
   "metadata": {},
   "outputs": [
    {
     "name": "stdout",
     "output_type": "stream",
     "text": [
      "      Name  Age\n",
      "0    Alice   24\n",
      "1      Bob   27\n",
      "2  Charlie   22\n"
     ]
    }
   ],
   "source": [
    "import pandas as pd\n",
    "\n",
    "# 주어진 데이터프레임\n",
    "data = {'Name': ['Alice', 'Bob', 'Charlie'],\n",
    "        'Age': [24, 27, 22],\n",
    "        'City': ['New York', 'San Francisco', 'Chicago']}\n",
    "df = pd.DataFrame(data)\n",
    "\n",
    "# 1. 'City' 열 삭제하기\n",
    "df = df.drop('City', axis=1)  # axis=1은 열을 의미\n",
    "\n",
    "print(df)\n"
   ]
  },
  {
   "cell_type": "code",
   "execution_count": 7,
   "metadata": {},
   "outputs": [
    {
     "name": "stdout",
     "output_type": "stream",
     "text": [
      "      Name\n",
      "0    Alice\n",
      "1      Bob\n",
      "2  Charlie\n"
     ]
    }
   ],
   "source": [
    "import pandas as pd\n",
    "\n",
    "# 주어진 데이터프레임\n",
    "data = {'Name': ['Alice', 'Bob', 'Charlie'],\n",
    "        'Age': [24, 27, 22],\n",
    "        'City': ['New York', 'San Francisco', 'Chicago']}\n",
    "df = pd.DataFrame(data)\n",
    "\n",
    "# 2. 'Age'와 'City' 열 모두 삭제하기\n",
    "df = df.drop(['Age', 'City'], axis=1)  # 여러 열을 리스트로 지정하여 삭제\n",
    "\n",
    "print(df)\n"
   ]
  },
  {
   "cell_type": "markdown",
   "metadata": {},
   "source": [
    "문제 4: 열의 순서 바꾸기\n",
    "다음으로, 데이터프레임에서 열의 순서를 바꿔보세요.\n",
    "조건:\n",
    "주어진 데이터프레임에서 열의 순서를 City, Name, Age로 변경하세요.\n",
    "import pandas as pd\n",
    "##### 주어진 데이터프레임\n",
    "data = {'Name': ['Alice', 'Bob', 'Charlie'],\n",
    "        'Age': [24, 27, 22],\n",
    "        'City': ['New York', 'San Francisco', 'Chicago']}\n",
    "df = pd.DataFrame(data)\n",
    "###### 문제:\n",
    "###### 1. 열의 순서를 'City', 'Name', 'Age'로 변경하세요.\n",
    "print(df)"
   ]
  },
  {
   "cell_type": "code",
   "execution_count": 8,
   "metadata": {},
   "outputs": [
    {
     "name": "stdout",
     "output_type": "stream",
     "text": [
      "            City     Name  Age\n",
      "0       New York    Alice   24\n",
      "1  San Francisco      Bob   27\n",
      "2        Chicago  Charlie   22\n"
     ]
    }
   ],
   "source": [
    "import pandas as pd\n",
    "\n",
    "# 주어진 데이터프레임\n",
    "data = {'Name': ['Alice', 'Bob', 'Charlie'],\n",
    "        'Age': [24, 27, 22],\n",
    "        'City': ['New York', 'San Francisco', 'Chicago']}\n",
    "df = pd.DataFrame(data)\n",
    "\n",
    "# 1. 열의 순서를 'City', 'Name', 'Age'로 변경하기\n",
    "df = df[['City', 'Name', 'Age']]  # 열 이름의 순서를 리스트로 재정렬\n",
    "\n",
    "# 결과 출력\n",
    "print(df)"
   ]
  }
 ],
 "metadata": {
  "kernelspec": {
   "display_name": "rapa3103",
   "language": "python",
   "name": "python3"
  },
  "language_info": {
   "codemirror_mode": {
    "name": "ipython",
    "version": 3
   },
   "file_extension": ".py",
   "mimetype": "text/x-python",
   "name": "python",
   "nbconvert_exporter": "python",
   "pygments_lexer": "ipython3",
   "version": "3.10.5"
  }
 },
 "nbformat": 4,
 "nbformat_minor": 2
}
