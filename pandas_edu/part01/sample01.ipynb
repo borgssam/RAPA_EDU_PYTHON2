{
 "cells": [
  {
   "cell_type": "markdown",
   "metadata": {},
   "source": [
    "리스트로 시리즈 만들기 "
   ]
  },
  {
   "cell_type": "code",
   "execution_count": 19,
   "metadata": {},
   "outputs": [
    {
     "name": "stdout",
     "output_type": "stream",
     "text": [
      "0    10\n",
      "1    20\n",
      "2    30\n",
      "3    40\n",
      "dtype: int64\n",
      "0    10\n",
      "1    20\n",
      "2    30\n",
      "3    40\n",
      "dtype: int64\n"
     ]
    }
   ],
   "source": [
    "import pandas as pd \n",
    "#리스트로 시리즈 만들기\n",
    "s_list = pd.Series([10,20,30,40])\n",
    "print(s_list) #123\n",
    "# i = s_list.index\n",
    "# v = s_list.values\n",
    "# print(i)\n",
    "# print(v)\n",
    "\n",
    "print(s_list[:5])"
   ]
  },
  {
   "cell_type": "code",
   "execution_count": 25,
   "metadata": {},
   "outputs": [
    {
     "name": "stdout",
     "output_type": "stream",
     "text": [
      "a    10\n",
      "b    20\n",
      "c    30\n",
      "d    40\n",
      "dtype: int64\n",
      "b    20\n",
      "d    40\n",
      "dtype: int64\n",
      "------\n",
      "b    20\n",
      "d    40\n",
      "dtype: int64\n"
     ]
    },
    {
     "name": "stderr",
     "output_type": "stream",
     "text": [
      "C:\\Users\\rapa\\AppData\\Local\\Temp\\ipykernel_14776\\4015048377.py:11: FutureWarning: Series.__getitem__ treating keys as positions is deprecated. In a future version, integer keys will always be treated as labels (consistent with DataFrame behavior). To access a value by position, use `ser.iloc[pos]`\n",
      "  print(s_list[[1,3]])\n"
     ]
    }
   ],
   "source": [
    "import pandas as pd \n",
    "#리스트로 시리즈 만들기\n",
    "s_list = pd.Series([10,20,30,40],index=['a','b','c','d'])\n",
    "print(s_list)\n",
    "# i = s_list.index\n",
    "# v = s_list.values\n",
    "# print(i)\n",
    "# print(v)\n",
    "print(s_list[['b','d']])\n",
    "print(\"------\")\n",
    "print(s_list[[1,3]])"
   ]
  },
  {
   "cell_type": "code",
   "execution_count": 6,
   "metadata": {},
   "outputs": [
    {
     "name": "stdout",
     "output_type": "stream",
     "text": [
      "a    10\n",
      "b    20\n",
      "c    30\n",
      "d    40\n",
      "dtype: int64\n",
      "Index(['a', 'b', 'c', 'd'], dtype='object')\n",
      "[10 20 30 40]\n"
     ]
    }
   ],
   "source": [
    "import pandas as pd\n",
    "#딕셔너리로 시리즈 만들기\n",
    "s_list = pd.Series({\"a\":10,\"b\":20,\"c\":30,\"d\":40})\n",
    "print(s_list)\n",
    "i = s_list.index\n",
    "v = s_list.values\n",
    "print(i)\n",
    "print(v)"
   ]
  }
 ],
 "metadata": {
  "kernelspec": {
   "display_name": "rapa3103",
   "language": "python",
   "name": "python3"
  },
  "language_info": {
   "codemirror_mode": {
    "name": "ipython",
    "version": 3
   },
   "file_extension": ".py",
   "mimetype": "text/x-python",
   "name": "python",
   "nbconvert_exporter": "python",
   "pygments_lexer": "ipython3",
   "version": "3.10.5"
  }
 },
 "nbformat": 4,
 "nbformat_minor": 2
}
