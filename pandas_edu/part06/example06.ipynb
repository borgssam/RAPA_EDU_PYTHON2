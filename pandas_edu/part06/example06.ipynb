{
 "cells": [
  {
   "cell_type": "markdown",
   "metadata": {},
   "source": [
    "\n",
    "문제 1: 복잡한 다중 인덱스 조작 및 그룹 통계\n",
    "문제: 다중 인덱스를 설정한 후, 'Product' 열을 기준으로 각 'Region' 내에서 매출 상위 2개의 제품만 선택하고, 이들의 'Sales' 총합을 구하세요."
   ]
  },
  {
   "cell_type": "code",
   "execution_count": 1,
   "metadata": {},
   "outputs": [
    {
     "name": "stdout",
     "output_type": "stream",
     "text": [
      "Region\n",
      "East     500\n",
      "North    500\n",
      "South    750\n",
      "West     625\n",
      "Name: Sales, dtype: int64\n"
     ]
    }
   ],
   "source": [
    "import pandas as pd\n",
    "\n",
    "data = {\n",
    "    'Region': ['North', 'North', 'North', 'South', 'South', 'East', 'East', 'West', 'West', 'West'],\n",
    "    'Product': ['A', 'B', 'C', 'A', 'C', 'A', 'B', 'A', 'B', 'C'],\n",
    "    'Sales': [200, 300, 150, 500, 250, 100, 400, 350, 275, 125]\n",
    "}\n",
    "\n",
    "df = pd.DataFrame(data)\n",
    "\n",
    "# 다중 인덱스 설정\n",
    "df = df.set_index(['Region', 'Product'])\n",
    "\n",
    "# 매출 순으로 정렬 후 각 지역에서 상위 2개 제품만 선택\n",
    "result = df.groupby('Region').apply(lambda x: x.nlargest(2, 'Sales'))\n",
    "\n",
    "# 각 지역별로 상위 2개 제품의 매출 합계 계산\n",
    "sales_sum = result.groupby('Region')['Sales'].sum()\n",
    "\n",
    "print(sales_sum)"
   ]
  },
  {
   "cell_type": "markdown",
   "metadata": {},
   "source": [
    "문제 2: 열을 이용한 동적 피벗 테이블 생성\n",
    "문제: Category 열을 기준으로 피벗 테이블을 생성하고, 각 Year에 대한 평균 판매량(Sales)을 구하세요. 이후 각 Category의 판매량이 100을 넘는 해의 수를 카운트하세요."
   ]
  },
  {
   "cell_type": "code",
   "execution_count": 2,
   "metadata": {},
   "outputs": [
    {
     "name": "stdout",
     "output_type": "stream",
     "text": [
      "Year       2019   2020   2021\n",
      "Category                     \n",
      "Fashion   200.0  150.0    NaN\n",
      "Home        NaN   80.0  140.0\n",
      "Tech      120.0  300.0   90.0\n",
      "\n",
      "각 Category에서 판매량이 100을 넘는 해의 수:\n",
      "Category\n",
      "Fashion    2\n",
      "Home       1\n",
      "Tech       2\n",
      "dtype: int64\n"
     ]
    }
   ],
   "source": [
    "import pandas as pd\n",
    "\n",
    "data = {\n",
    "    'Year': [2019, 2020, 2021, 2020, 2019, 2021, 2020, 2021],\n",
    "    'Category': ['Tech', 'Home', 'Tech', 'Fashion', 'Fashion', 'Home', 'Tech', 'Home'],\n",
    "    'Sales': [120, 80, 90, 150, 200, 110, 300, 170]\n",
    "}\n",
    "\n",
    "df = pd.DataFrame(data)\n",
    "\n",
    "# 피벗 테이블 생성 (Year별 Category의 평균 Sales)\n",
    "pivot_table = df.pivot_table(values='Sales', index='Category', columns='Year', aggfunc='mean')\n",
    "\n",
    "# 각 Category에서 Sales가 100을 넘는 Year의 수를 카운트\n",
    "result = (pivot_table > 100).sum(axis=1)\n",
    "\n",
    "print(pivot_table)\n",
    "print(\"\\n각 Category에서 판매량이 100을 넘는 해의 수:\")\n",
    "print(result)\n"
   ]
  },
  {
   "cell_type": "markdown",
   "metadata": {},
   "source": [
    "문제 3: 문자열 처리 및 복잡한 조건 필터링\n",
    "문제: Email 열을 분리하여 Username과 Domain 열을 추가하세요. 그런 다음, 'Username'이 숫자로 시작하거나 'Domain'이 'example.com'인 행만 필터링하여 출력하세요.\n"
   ]
  },
  {
   "cell_type": "code",
   "execution_count": 3,
   "metadata": {},
   "outputs": [
    {
     "name": "stdout",
     "output_type": "stream",
     "text": [
      "    Name               Email Username       Domain\n",
      "0  Alice   alice@example.com    alice  example.com\n",
      "3  David  1david@service.org   1david  service.org\n",
      "4    Eve     eve@example.com      eve  example.com\n"
     ]
    }
   ],
   "source": [
    "import pandas as pd\n",
    "\n",
    "data = {\n",
    "    'Name': ['Alice', 'Bob', 'Charlie', 'David', 'Eve'],\n",
    "    'Email': ['alice@example.com', 'bob123@company.com', 'charlie@domain.com', '1david@service.org', 'eve@example.com']\n",
    "}\n",
    "\n",
    "df = pd.DataFrame(data)\n",
    "\n",
    "# Email에서 Username과 Domain 분리\n",
    "df[['Username', 'Domain']] = df['Email'].str.split('@', expand=True)\n",
    "\n",
    "# Username이 숫자로 시작하거나 Domain이 'example.com'인 행 필터링\n",
    "filtered_df = df[(df['Username'].str[0].str.isdigit()) | (df['Domain'] == 'example.com')]\n",
    "\n",
    "print(filtered_df)"
   ]
  },
  {
   "cell_type": "markdown",
   "metadata": {},
   "source": [
    "문제 4: 그룹화 및 사용자 정의 함수 적용\n",
    "문제: 'Team'별로 'Score'의 중앙값을 계산하고, 이 중앙값보다 높은 점수를 가진 선수들만 필터링하세요. 그런 다음, 필터링된 데이터에서 각 팀의 최고 점수를 가진 선수의 정보를 출력하세요."
   ]
  },
  {
   "cell_type": "code",
   "execution_count": 4,
   "metadata": {},
   "outputs": [
    {
     "name": "stdout",
     "output_type": "stream",
     "text": [
      "  Player   Team  Score\n",
      "7   Hank   Blue     91\n",
      "4    Eve  Green     95\n",
      "1    Bob    Red     92\n"
     ]
    }
   ],
   "source": [
    "import pandas as pd\n",
    "\n",
    "data = {\n",
    "    'Player': ['Alice', 'Bob', 'Charlie', 'David', 'Eve', 'Frank', 'Grace', 'Hank'],\n",
    "    'Team': ['Red', 'Red', 'Blue', 'Blue', 'Green', 'Green', 'Red', 'Blue'],\n",
    "    'Score': [85, 92, 88, 77, 95, 85, 90, 91]\n",
    "}\n",
    "\n",
    "df = pd.DataFrame(data)\n",
    "\n",
    "# 팀별 중앙값 계산\n",
    "median_scores = df.groupby('Team')['Score'].median()\n",
    "\n",
    "# 각 팀의 중앙값보다 높은 점수를 가진 선수 필터링\n",
    "filtered_df = df[df.apply(lambda row: row['Score'] > median_scores[row['Team']], axis=1)]\n",
    "\n",
    "# 각 팀별 최고 점수의 선수 출력\n",
    "top_players = filtered_df.loc[filtered_df.groupby('Team')['Score'].idxmax()]\n",
    "\n",
    "print(top_players)\n"
   ]
  },
  {
   "cell_type": "markdown",
   "metadata": {},
   "source": [
    "문제 5: 복잡한 조건을 통한 데이터 변환 및 결합\n",
    "문제: 첫 번째 데이터프레임에서 성별(Gender)이 'M'이면서 연령(Age)이 30 이상인 사람들의 정보를 필터링하고, 두 번째 데이터프레임과 'ID'를 기준으로 병합하세요. 병합된 데이터에서 'Income'이 50,000 이상인 사람들의 평균 연령을 구하세요."
   ]
  },
  {
   "cell_type": "code",
   "execution_count": 5,
   "metadata": {},
   "outputs": [
    {
     "name": "stdout",
     "output_type": "stream",
     "text": [
      "    ID     Name Gender  Age  Income\n",
      "0  101     John      M   34   60000\n",
      "1  103      Bob      M   40   52000\n",
      "2  105  Charlie      M   30   75000\n",
      "\n",
      "Income이 50,000 이상인 사람들의 평균 연령: 34.666666666666664\n"
     ]
    }
   ],
   "source": [
    "import pandas as pd\n",
    "\n",
    "# 첫 번째 데이터프레임\n",
    "df1 = pd.DataFrame({\n",
    "    'ID': [101, 102, 103, 104, 105],\n",
    "    'Name': ['John', 'Alice', 'Bob', 'Eve', 'Charlie'],\n",
    "    'Gender': ['M', 'F', 'M', 'F', 'M'],\n",
    "    'Age': [34, 29, 40, 22, 30]\n",
    "})\n",
    "\n",
    "# 두 번째 데이터프레임\n",
    "df2 = pd.DataFrame({\n",
    "    'ID': [101, 102, 103, 104, 105],\n",
    "    'Income': [60000, 45000, 52000, 48000, 75000]\n",
    "})\n",
    "\n",
    "# 성별이 'M'이면서 연령이 30 이상인 사람 필터링\n",
    "filtered_df1 = df1[(df1['Gender'] == 'M') & (df1['Age'] >= 30)]\n",
    "\n",
    "# 두 번째 데이터프레임과 병합\n",
    "merged_df = pd.merge(filtered_df1, df2, on='ID')\n",
    "\n",
    "# Income이 50,000 이상인 사람들의 평균 연령 계산\n",
    "avg_age = merged_df[merged_df['Income'] >= 50000]['Age'].mean()\n",
    "\n",
    "print(merged_df)\n",
    "print(\"\\nIncome이 50,000 이상인 사람들의 평균 연령:\", avg_age)\n"
   ]
  }
 ],
 "metadata": {
  "kernelspec": {
   "display_name": "rapa3103",
   "language": "python",
   "name": "python3"
  },
  "language_info": {
   "codemirror_mode": {
    "name": "ipython",
    "version": 3
   },
   "file_extension": ".py",
   "mimetype": "text/x-python",
   "name": "python",
   "nbconvert_exporter": "python",
   "pygments_lexer": "ipython3",
   "version": "3.10.5"
  }
 },
 "nbformat": 4,
 "nbformat_minor": 2
}
