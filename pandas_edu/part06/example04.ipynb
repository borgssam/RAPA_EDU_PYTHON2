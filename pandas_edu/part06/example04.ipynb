{
 "cells": [
  {
   "cell_type": "markdown",
   "metadata": {},
   "source": [
    "문제 1: merge를 사용한 공통 열 병합\n",
    "두 개의 데이터프레임이 있을 때, 공통 열인 ID를 기준으로 병합하시오. 병합 방식은 기본값을 사용하시오.\n",
    "\n",
    "데이터프레임\n",
    "import pandas as pd\n",
    "\n",
    "df1 = pd.DataFrame({\n",
    "    'ID': [1, 2, 3],\n",
    "    'Name': ['Alice', 'Bob', 'Charlie']\n",
    "})\n",
    "\n",
    "df2 = pd.DataFrame({\n",
    "    'ID': [1, 2, 4],\n",
    "    'Score': [85, 90, 88]\n",
    "})"
   ]
  },
  {
   "cell_type": "code",
   "execution_count": 4,
   "metadata": {},
   "outputs": [
    {
     "name": "stdout",
     "output_type": "stream",
     "text": [
      "   ID   Name  Score\n",
      "0   1  Alice     85\n",
      "1   2    Bob     90\n"
     ]
    }
   ],
   "source": [
    "import pandas as pd\n",
    "\n",
    "df1 = pd.DataFrame({\n",
    "    'ID': [1, 2, 3],\n",
    "    'Name': ['Alice', 'Bob', 'Charlie']\n",
    "})\n",
    "\n",
    "df2 = pd.DataFrame({\n",
    "    'ID': [1, 2, 4],\n",
    "    'Score': [85, 90, 88]\n",
    "})\n",
    "\n",
    "merged_df1 = pd.merge(df1, df2, on='ID')\n",
    "print(merged_df1)"
   ]
  },
  {
   "cell_type": "markdown",
   "metadata": {},
   "source": [
    "문제 2: join을 사용한 인덱스 기준 병합\n",
    "두 개의 데이터프레임이 있을 때, 인덱스를 기준으로 inner join을 사용하여 병합하시오.\n",
    "\n",
    "데이터프레임\n",
    "df1 = pd.DataFrame({\n",
    "    'Name': ['Alice', 'Bob', 'Charlie'],\n",
    "    'Age': [25, 30, 35]\n",
    "}, index=[1, 2, 3])\n",
    "\n",
    "df2 = pd.DataFrame({\n",
    "    'Score': [85, 90, 88],\n",
    "    'Grade': ['A', 'B', 'A']\n",
    "}, index=[1, 3, 4])"
   ]
  },
  {
   "cell_type": "code",
   "execution_count": 5,
   "metadata": {},
   "outputs": [
    {
     "name": "stdout",
     "output_type": "stream",
     "text": [
      "      Name  Age  Score Grade\n",
      "1    Alice   25     85     A\n",
      "3  Charlie   35     90     B\n"
     ]
    }
   ],
   "source": [
    "\n",
    "df1 = pd.DataFrame({\n",
    "    'Name': ['Alice', 'Bob', 'Charlie'],\n",
    "    'Age': [25, 30, 35]\n",
    "}, index=[1, 2, 3])\n",
    "\n",
    "df2 = pd.DataFrame({\n",
    "    'Score': [85, 90, 88],\n",
    "    'Grade': ['A', 'B', 'A']\n",
    "}, index=[1, 3, 4])\n",
    "joined_df2 = df1.join(df2, how='inner')\n",
    "print(joined_df2)"
   ]
  },
  {
   "cell_type": "markdown",
   "metadata": {},
   "source": [
    "문제 3: concat을 사용한 행 단위 연결\n",
    "두 개의 데이터프레임을 행 단위로 연결하여 새로운 데이터프레임을 생성하시오. 인덱스를 재설정하지 않고 기존 인덱스를 유지하시오.\n",
    "\n",
    "데이터프레임\n",
    "df1 = pd.DataFrame({\n",
    "    'A': [1, 2, 3],\n",
    "    'B': [4, 5, 6]\n",
    "})\n",
    "\n",
    "df2 = pd.DataFrame({\n",
    "    'A': [7, 8, 9],\n",
    "    'B': [10, 11, 12]\n",
    "})"
   ]
  },
  {
   "cell_type": "code",
   "execution_count": 6,
   "metadata": {},
   "outputs": [
    {
     "name": "stdout",
     "output_type": "stream",
     "text": [
      "   A   B\n",
      "0  1   4\n",
      "1  2   5\n",
      "2  3   6\n",
      "0  7  10\n",
      "1  8  11\n",
      "2  9  12\n"
     ]
    }
   ],
   "source": [
    "df1 = pd.DataFrame({\n",
    "    'A': [1, 2, 3],\n",
    "    'B': [4, 5, 6]\n",
    "})\n",
    "\n",
    "df2 = pd.DataFrame({\n",
    "    'A': [7, 8, 9],\n",
    "    'B': [10, 11, 12]\n",
    "})\n",
    "concat_df3 = pd.concat([df1, df2], axis=0)\n",
    "print(concat_df3)"
   ]
  },
  {
   "cell_type": "markdown",
   "metadata": {},
   "source": [
    "문제 4: concat을 사용한 열 단위 연결\n",
    "두 개의 데이터프레임을 열 단위로 연결하여 새로운 데이터프레임을 생성하시오. 인덱스는 기본값을 유지하시오.\n",
    "\n",
    "데이터프레임\n",
    "df1 = pd.DataFrame({\n",
    "    'A': [1, 2, 3]\n",
    "})\n",
    "\n",
    "df2 = pd.DataFrame({\n",
    "    'B': [4, 5, 6]\n",
    "})"
   ]
  },
  {
   "cell_type": "code",
   "execution_count": 7,
   "metadata": {},
   "outputs": [
    {
     "name": "stdout",
     "output_type": "stream",
     "text": [
      "   A  B\n",
      "0  1  4\n",
      "1  2  5\n",
      "2  3  6\n"
     ]
    }
   ],
   "source": [
    "df1 = pd.DataFrame({\n",
    "    'A': [1, 2, 3]\n",
    "})\n",
    "\n",
    "df2 = pd.DataFrame({\n",
    "    'B': [4, 5, 6]\n",
    "})\n",
    "concat_df4 = pd.concat([df1, df2], axis=1)\n",
    "print(concat_df4)"
   ]
  },
  {
   "cell_type": "markdown",
   "metadata": {},
   "source": [
    "문제 5: merge에서 다양한 병합 방식 사용\n",
    "두 개의 데이터프레임이 있을 때, ID를 기준으로 outer 방식으로 병합하시오. 또한, 결과에서 결측치가 발생하는 경우 -1로 채우시오.\n",
    "\n",
    "데이터프레임\n",
    "df1 = pd.DataFrame({\n",
    "    'ID': [1, 2, 3],\n",
    "    'Name': ['Alice', 'Bob', 'Charlie']\n",
    "})\n",
    "\n",
    "df2 = pd.DataFrame({\n",
    "    'ID': [2, 3, 4],\n",
    "    'Score': [90, 88, 92]\n",
    "})"
   ]
  },
  {
   "cell_type": "code",
   "execution_count": 8,
   "metadata": {},
   "outputs": [
    {
     "name": "stdout",
     "output_type": "stream",
     "text": [
      "   ID     Name  Score\n",
      "0   1    Alice   -1.0\n",
      "1   2      Bob   90.0\n",
      "2   3  Charlie   88.0\n",
      "3   4       -1   92.0\n"
     ]
    }
   ],
   "source": [
    "\n",
    "df1 = pd.DataFrame({\n",
    "    'ID': [1, 2, 3],\n",
    "    'Name': ['Alice', 'Bob', 'Charlie']\n",
    "})\n",
    "\n",
    "df2 = pd.DataFrame({\n",
    "    'ID': [2, 3, 4],\n",
    "    'Score': [90, 88, 92]\n",
    "})\n",
    "merged_df5 = pd.merge(df1, df2, on='ID', how='outer').fillna(-1)\n",
    "print(merged_df5)"
   ]
  }
 ],
 "metadata": {
  "kernelspec": {
   "display_name": "rapa3103",
   "language": "python",
   "name": "python3"
  },
  "language_info": {
   "codemirror_mode": {
    "name": "ipython",
    "version": 3
   },
   "file_extension": ".py",
   "mimetype": "text/x-python",
   "name": "python",
   "nbconvert_exporter": "python",
   "pygments_lexer": "ipython3",
   "version": "3.10.5"
  }
 },
 "nbformat": 4,
 "nbformat_minor": 2
}
