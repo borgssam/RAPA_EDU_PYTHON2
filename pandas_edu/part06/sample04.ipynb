{
 "cells": [
  {
   "cell_type": "code",
   "execution_count": 8,
   "metadata": {},
   "outputs": [
    {
     "name": "stdout",
     "output_type": "stream",
     "text": [
      "   A  B\n",
      "0  1  3\n",
      "1  2  4\n",
      "-----------\n",
      "   K  m\n",
      "0  5  7\n",
      "1  6  8\n"
     ]
    }
   ],
   "source": [
    "import pandas as pd \n",
    "data1 = pd.DataFrame({'A':[1,2], 'B':[3,4]})\n",
    "data2 = pd.DataFrame({'A':[5,6], 'B':[7,8]})\n",
    "\n",
    "print(data1)\n",
    "print(\"-----------\")\n",
    "print(data2)\n"
   ]
  },
  {
   "cell_type": "code",
   "execution_count": 6,
   "metadata": {},
   "outputs": [
    {
     "name": "stdout",
     "output_type": "stream",
     "text": [
      "     K  B    A\n",
      "0  5.0  7  NaN\n",
      "1  6.0  8  NaN\n",
      "0  NaN  3  1.0\n",
      "1  NaN  4  2.0\n"
     ]
    }
   ],
   "source": [
    "df_con = pd.concat([data2,data1])\n",
    "print(df_con)"
   ]
  },
  {
   "cell_type": "code",
   "execution_count": 13,
   "metadata": {},
   "outputs": [
    {
     "name": "stdout",
     "output_type": "stream",
     "text": [
      "   A  B  K  M\n",
      "0  1  3  5  7\n",
      "1  2  4  6  8\n"
     ]
    }
   ],
   "source": [
    "data1 = pd.DataFrame({'A':[1,2], 'B':[3,4]})\n",
    "data2 = pd.DataFrame({'K':[5,6], 'M':[7,8]})\n",
    "\n",
    "df_join = data1.join(data2)\n",
    "print(df_join)\n"
   ]
  },
  {
   "cell_type": "code",
   "execution_count": 19,
   "metadata": {},
   "outputs": [
    {
     "name": "stdout",
     "output_type": "stream",
     "text": [
      "  key  value1\n",
      "0   A       1\n",
      "1   C       2\n",
      "-----------\n",
      "  key  value2\n",
      "0   C       3\n",
      "1   B       4\n",
      "-----------\n",
      "  key  value1  value2\n",
      "0   C       2       3\n",
      "-----------\n",
      "  key  value1  value2\n",
      "0   C       2       3\n"
     ]
    }
   ],
   "source": [
    "data1 = pd.DataFrame({'key':['A','C'], 'value1':[1,2]})\n",
    "data2 = pd.DataFrame({'key':['C','B'], 'value2':[3,4]})\n",
    "print(data1)\n",
    "print(\"-----------\")\n",
    "print(data2)\n",
    "df_merg = pd.merge(data1,data2)\n",
    "print(\"-----------\")\n",
    "print(df_merg)\n",
    "df_merg = pd.merge(data1,data2, on='key')\n",
    "print(\"-----------\")\n",
    "print(df_merg)"
   ]
  },
  {
   "cell_type": "code",
   "execution_count": 29,
   "metadata": {},
   "outputs": [
    {
     "data": {
      "text/html": [
       "<div>\n",
       "<style scoped>\n",
       "    .dataframe tbody tr th:only-of-type {\n",
       "        vertical-align: middle;\n",
       "    }\n",
       "\n",
       "    .dataframe tbody tr th {\n",
       "        vertical-align: top;\n",
       "    }\n",
       "\n",
       "    .dataframe thead th {\n",
       "        text-align: right;\n",
       "    }\n",
       "</style>\n",
       "<table border=\"1\" class=\"dataframe\">\n",
       "  <thead>\n",
       "    <tr style=\"text-align: right;\">\n",
       "      <th></th>\n",
       "      <th>국어</th>\n",
       "      <th>영어</th>\n",
       "      <th>수학</th>\n",
       "    </tr>\n",
       "  </thead>\n",
       "  <tbody>\n",
       "    <tr>\n",
       "      <th>1학년 남</th>\n",
       "      <td>100</td>\n",
       "      <td>50</td>\n",
       "      <td>10</td>\n",
       "    </tr>\n",
       "    <tr>\n",
       "      <th>1학년 녀</th>\n",
       "      <td>89</td>\n",
       "      <td>60</td>\n",
       "      <td>20</td>\n",
       "    </tr>\n",
       "    <tr>\n",
       "      <th>2학년 남</th>\n",
       "      <td>70</td>\n",
       "      <td>70</td>\n",
       "      <td>30</td>\n",
       "    </tr>\n",
       "    <tr>\n",
       "      <th>2학년 녀</th>\n",
       "      <td>70</td>\n",
       "      <td>80</td>\n",
       "      <td>50</td>\n",
       "    </tr>\n",
       "    <tr>\n",
       "      <th>3학년 남</th>\n",
       "      <td>60</td>\n",
       "      <td>90</td>\n",
       "      <td>60</td>\n",
       "    </tr>\n",
       "    <tr>\n",
       "      <th>3학년 녀</th>\n",
       "      <td>30</td>\n",
       "      <td>100</td>\n",
       "      <td>70</td>\n",
       "    </tr>\n",
       "  </tbody>\n",
       "</table>\n",
       "</div>"
      ],
      "text/plain": [
       "        국어   영어  수학\n",
       "1학년 남  100   50  10\n",
       "1학년 녀   89   60  20\n",
       "2학년 남   70   70  30\n",
       "2학년 녀   70   80  50\n",
       "3학년 남   60   90  60\n",
       "3학년 녀   30  100  70"
      ]
     },
     "execution_count": 29,
     "metadata": {},
     "output_type": "execute_result"
    }
   ],
   "source": [
    "#멀티인덱스\n",
    "\n",
    "import pandas as pd\n",
    "\n",
    "dict = {\"국어\":[100,89,70,70,60,30],\n",
    "        \"영어\":[50,60,70,80,90,100],\n",
    "        \"수학\":[10,20,30,50,60,70]}\n",
    "\n",
    "df = pd.DataFrame(dict)\n",
    "df.index = ['1학년 남', '1학년 녀','2학년 남', '2학년 녀','3학년 남', '3학년 녀']\n",
    "tidx = [('1학년','남'),('1학년','녀'),('2학년','남'),('2학년','녀'),('3학년','남'),('3학년','녀')]\n",
    "mindex = pd.MultiIndex.from_tuples(tidx);\n",
    "#df.index = mindex\n",
    "\n",
    "df\n"
   ]
  },
  {
   "cell_type": "code",
   "execution_count": 30,
   "metadata": {},
   "outputs": [
    {
     "data": {
      "text/html": [
       "<div>\n",
       "<style scoped>\n",
       "    .dataframe tbody tr th:only-of-type {\n",
       "        vertical-align: middle;\n",
       "    }\n",
       "\n",
       "    .dataframe tbody tr th {\n",
       "        vertical-align: top;\n",
       "    }\n",
       "\n",
       "    .dataframe thead th {\n",
       "        text-align: right;\n",
       "    }\n",
       "</style>\n",
       "<table border=\"1\" class=\"dataframe\">\n",
       "  <thead>\n",
       "    <tr style=\"text-align: right;\">\n",
       "      <th></th>\n",
       "      <th>Date</th>\n",
       "      <th>Category</th>\n",
       "      <th>Value</th>\n",
       "    </tr>\n",
       "  </thead>\n",
       "  <tbody>\n",
       "    <tr>\n",
       "      <th>0</th>\n",
       "      <td>2021-01-01</td>\n",
       "      <td>A</td>\n",
       "      <td>1</td>\n",
       "    </tr>\n",
       "    <tr>\n",
       "      <th>1</th>\n",
       "      <td>2021-01-01</td>\n",
       "      <td>B</td>\n",
       "      <td>2</td>\n",
       "    </tr>\n",
       "    <tr>\n",
       "      <th>2</th>\n",
       "      <td>2021-01-02</td>\n",
       "      <td>A</td>\n",
       "      <td>3</td>\n",
       "    </tr>\n",
       "  </tbody>\n",
       "</table>\n",
       "</div>"
      ],
      "text/plain": [
       "         Date Category  Value\n",
       "0  2021-01-01        A      1\n",
       "1  2021-01-01        B      2\n",
       "2  2021-01-02        A      3"
      ]
     },
     "execution_count": 30,
     "metadata": {},
     "output_type": "execute_result"
    }
   ],
   "source": [
    "import pandas as pd \n",
    "   \n",
    "# 데이터프레임 생성 \n",
    "df = pd.DataFrame({ \n",
    "'Date': ['2021-01-01', '2021-01-01', '2021-01-02'],'Category': ['A', 'B', 'A'], 'Value': [1, 2, 3]}) \n",
    "   \n",
    "df\n",
    "# 피벗 테이블 생성 \n",
    "# pivot_table = data.pivot(index='Date', columns='Category', values='Value') \n",
    "# print(pivot_table) "
   ]
  },
  {
   "cell_type": "code",
   "execution_count": 31,
   "metadata": {},
   "outputs": [
    {
     "name": "stdout",
     "output_type": "stream",
     "text": [
      "Category      A    B\n",
      "Date                \n",
      "2021-01-01  1.0  2.0\n",
      "2021-01-02  3.0  NaN\n"
     ]
    }
   ],
   "source": [
    "import pandas as pd \n",
    "\n",
    "# 데이터프레임 생성 \n",
    "df = pd.DataFrame({ \n",
    "'Date': ['2021-01-01', '2021-01-01', '2021-01-02'],'Category': ['A', 'B', 'A'], 'Value': [1, 2, 3]}) \n",
    "\n",
    "# 피벗 테이블 생성 \n",
    "pivot_table = df.pivot(index='Date', columns='Category', values='Value') \n",
    "print(pivot_table) "
   ]
  }
 ],
 "metadata": {
  "kernelspec": {
   "display_name": "rapa3103",
   "language": "python",
   "name": "python3"
  },
  "language_info": {
   "codemirror_mode": {
    "name": "ipython",
    "version": 3
   },
   "file_extension": ".py",
   "mimetype": "text/x-python",
   "name": "python",
   "nbconvert_exporter": "python",
   "pygments_lexer": "ipython3",
   "version": "3.10.5"
  }
 },
 "nbformat": 4,
 "nbformat_minor": 2
}
