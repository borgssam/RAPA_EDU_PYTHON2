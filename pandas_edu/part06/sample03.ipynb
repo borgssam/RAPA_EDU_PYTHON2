{
 "cells": [
  {
   "cell_type": "markdown",
   "metadata": {},
   "source": [
    "1. GroupBy의 개념\n",
    "groupby는 pandas 라이브러리에서 데이터를 그룹화하여 집계하는 데 사용되는 메소드이다. 데이터를 특정 기준에 따라 그룹으로 묶고, 각 그룹에 대해 통계 계산, 변형 또는 필터링을 수행할 수 있다.\n",
    "\n",
    "2. GroupBy의 기본 사용법\n",
    "groupby 메소드는 다음과 같은 기본 구조를 가진다.\n",
    "\n",
    "-------------------------------------------------------------------\n",
    "df.groupby(by='column_name')\n",
    "df: 데이터프레임\n",
    "by: 그룹화할 열의 이름\n",
    "--------------------------------------------------------------------\n",
    "\n",
    "3. GroupBy의 기능\n",
    "groupby 메소드를 통해 수행할 수 있는 주요 기능은 다음과 같다.\n",
    "\n",
    "집계(aggregation): 각 그룹에 대해 통계 값을 계산 (예: 합계, 평균 등)\n",
    "변형(transformation): 각 그룹의 데이터에 대해 변형을 적용\n",
    "필터링(filtering): 특정 조건을 만족하는 그룹을 선택\n",
    "4. 기본 예제"
   ]
  },
  {
   "cell_type": "code",
   "execution_count": 6,
   "metadata": {},
   "outputs": [
    {
     "name": "stdout",
     "output_type": "stream",
     "text": [
      "          Values\n",
      "Category        \n",
      "A             30\n",
      "B             70\n",
      "C            110\n"
     ]
    }
   ],
   "source": [
    "import pandas as pd\n",
    "\n",
    "# 데이터프레임 생성\n",
    "data = {\n",
    "    'Category': ['A', 'A', 'B', 'B', 'C', 'C'],\n",
    "    'Values': [10, 20, 30, 40, 50, 60]\n",
    "}\n",
    "\n",
    "df = pd.DataFrame(data)\n",
    "\n",
    "# 'Category'별로 값의 합계 계산\n",
    "grouped = df.groupby('Category').sum()\n",
    "print(grouped)"
   ]
  },
  {
   "cell_type": "markdown",
   "metadata": {},
   "source": [
    "5. GroupBy의 집계 함수 사용\n",
    "groupby와 함께 다양한 집계 함수를 사용할 수 있다. 예를 들어, mean(), sum(), count(), min(), max() 등이 있다."
   ]
  },
  {
   "cell_type": "code",
   "execution_count": 7,
   "metadata": {},
   "outputs": [
    {
     "name": "stdout",
     "output_type": "stream",
     "text": [
      "          Values\n",
      "Category        \n",
      "A           15.0\n",
      "B           35.0\n",
      "C           55.0\n"
     ]
    }
   ],
   "source": [
    "# 평균 값 계산\n",
    "mean_values = df.groupby('Category').mean()\n",
    "print(mean_values)"
   ]
  },
  {
   "cell_type": "markdown",
   "metadata": {},
   "source": [
    "6. 여러 열로 그룹화\n",
    "여러 열을 기준으로 그룹화하려면 리스트 형태로 열 이름을 지정하면 된다."
   ]
  },
  {
   "cell_type": "code",
   "execution_count": 8,
   "metadata": {},
   "outputs": [
    {
     "name": "stdout",
     "output_type": "stream",
     "text": [
      "                      Values  Values2\n",
      "Category Subcategory                 \n",
      "A        X                10      310\n",
      "         Y                20      320\n",
      "B        X                30      330\n",
      "         Y                40      340\n",
      "C        X                50      350\n",
      "         Y                60      360\n",
      "<class 'pandas.core.frame.DataFrame'>\n"
     ]
    }
   ],
   "source": [
    "# 데이터프레임 생성\n",
    "data = {\n",
    "    'Category': ['A', 'A', 'B', 'B', 'C', 'C'],\n",
    "    'Subcategory': ['X', 'Y', 'X', 'Y', 'X', 'Y'],\n",
    "    'Values': [10, 20, 30, 40, 50, 60],\n",
    "    'Values2': [310, 320, 330, 340, 350, 360],\n",
    "}\n",
    "\n",
    "df = pd.DataFrame(data)\n",
    "\n",
    "# 'Category'와 'Subcategory'로 그룹화하여 값의 합계 계산\n",
    "grouped_multiple = df.groupby(['Category', 'Subcategory']).sum()\n",
    "print(grouped_multiple)\n",
    "print(type(grouped_multiple))"
   ]
  },
  {
   "cell_type": "markdown",
   "metadata": {},
   "source": [
    "실습 문제\n",
    "문제 1: 집계 함수 사용\n",
    "다음 데이터프레임을 사용하여 groupby를 통해 Category별로 Values의 최대값을 계산하세요\n",
    "\n",
    "data = {\n",
    "    'Category': ['A', 'A', 'B', 'B', 'C', 'C'],\n",
    "    'Values': [10, 20, 30, 40, 50, 60]\n",
    "}\n",
    "df = pd.DataFrame(data)"
   ]
  },
  {
   "cell_type": "code",
   "execution_count": 9,
   "metadata": {},
   "outputs": [
    {
     "name": "stdout",
     "output_type": "stream",
     "text": [
      "         Subcategory  Values  Values2\n",
      "Category                             \n",
      "A                  Y      20      320\n",
      "B                  Y      40      340\n",
      "C                  Y      60      360\n"
     ]
    }
   ],
   "source": [
    "max_values = df.groupby('Category').max()\n",
    "print(max_values)\n"
   ]
  },
  {
   "cell_type": "markdown",
   "metadata": {},
   "source": [
    "문제 2: 여러 열로 그룹화\n",
    "다음 데이터프레임에서 Category와 Subcategory로 그룹화하여 Values의 평균을 계산하세요.\n",
    "\n",
    "data = {\n",
    "    'Category': ['A', 'A', 'B', 'B', 'C', 'C'],\n",
    "    'Subcategory': ['X', 'Y', 'X', 'Y', 'X', 'Y'],\n",
    "    'Values': [10, 20, 30, 40, 50, 60]\n",
    "}\n",
    "df = pd.DataFrame(data)\n"
   ]
  },
  {
   "cell_type": "code",
   "execution_count": 10,
   "metadata": {},
   "outputs": [
    {
     "name": "stdout",
     "output_type": "stream",
     "text": [
      "                      Values  Values2\n",
      "Category Subcategory                 \n",
      "A        X              10.0    310.0\n",
      "         Y              20.0    320.0\n",
      "B        X              30.0    330.0\n",
      "         Y              40.0    340.0\n",
      "C        X              50.0    350.0\n",
      "         Y              60.0    360.0\n"
     ]
    }
   ],
   "source": [
    "mean_values = df.groupby(['Category', 'Subcategory']).mean()\n",
    "print(mean_values)\n"
   ]
  }
 ],
 "metadata": {
  "kernelspec": {
   "display_name": "rapa310",
   "language": "python",
   "name": "python3"
  },
  "language_info": {
   "codemirror_mode": {
    "name": "ipython",
    "version": 3
   },
   "file_extension": ".py",
   "mimetype": "text/x-python",
   "name": "python",
   "nbconvert_exporter": "python",
   "pygments_lexer": "ipython3",
   "version": "3.10.5"
  }
 },
 "nbformat": 4,
 "nbformat_minor": 2
}
