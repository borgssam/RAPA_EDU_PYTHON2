{
 "cells": [
  {
   "cell_type": "markdown",
   "metadata": {},
   "source": [
    "1. GroupBy의 개념\n",
    "groupby는 pandas 라이브러리에서 데이터를 그룹화하여 집계하는 데 사용되는 메소드이다. 데이터를 특정 기준에 따라 그룹으로 묶고, 각 그룹에 대해 통계 계산, 변형 또는 필터링을 수행할 수 있다.\n",
    "\n",
    "2. GroupBy의 기본 사용법\n",
    "groupby 메소드는 다음과 같은 기본 구조를 가진다.\n",
    "\n",
    "-------------------------------------------------------------------\n",
    "df.groupby(by='column_name')\n",
    "df: 데이터프레임\n",
    "by: 그룹화할 열의 이름\n",
    "--------------------------------------------------------------------\n",
    "\n",
    "3. GroupBy의 기능\n",
    "groupby 메소드를 통해 수행할 수 있는 주요 기능은 다음과 같다.\n",
    "\n",
    "집계(aggregation): 각 그룹에 대해 통계 값을 계산 (예: 합계, 평균 등)\n",
    "변형(transformation): 각 그룹의 데이터에 대해 변형을 적용\n",
    "필터링(filtering): 특정 조건을 만족하는 그룹을 선택\n",
    "4. 기본 예제"
   ]
  },
  {
   "cell_type": "code",
   "execution_count": null,
   "metadata": {
    "vscode": {
     "languageId": "plaintext"
    }
   },
   "outputs": [],
   "source": [
    "import pandas as pd\n",
    "\n",
    "# 데이터프레임 생성\n",
    "data = {\n",
    "    'Category': ['A', 'A', 'B', 'B', 'C', 'C'],\n",
    "    'Values': [10, 20, 30, 40, 50, 60]\n",
    "}\n",
    "\n",
    "df = pd.DataFrame(data)\n",
    "\n",
    "# 'Category'별로 값의 합계 계산\n",
    "grouped = df.groupby('Category').sum()\n",
    "print(grouped)"
   ]
  },
  {
   "cell_type": "markdown",
   "metadata": {},
   "source": [
    "5. GroupBy의 집계 함수 사용\n",
    "groupby와 함께 다양한 집계 함수를 사용할 수 있다. 예를 들어, mean(), sum(), count(), min(), max() 등이 있다."
   ]
  },
  {
   "cell_type": "code",
   "execution_count": null,
   "metadata": {
    "vscode": {
     "languageId": "plaintext"
    }
   },
   "outputs": [],
   "source": [
    "# 평균 값 계산\n",
    "mean_values = df.groupby('Category').mean()\n",
    "print(mean_values)"
   ]
  },
  {
   "cell_type": "markdown",
   "metadata": {},
   "source": [
    "6. 여러 열로 그룹화\n",
    "여러 열을 기준으로 그룹화하려면 리스트 형태로 열 이름을 지정하면 된다."
   ]
  },
  {
   "cell_type": "code",
   "execution_count": null,
   "metadata": {
    "vscode": {
     "languageId": "plaintext"
    }
   },
   "outputs": [],
   "source": [
    "# 데이터프레임 생성\n",
    "data = {\n",
    "    'Category': ['A', 'A', 'B', 'B', 'C', 'C'],\n",
    "    'Subcategory': ['X', 'Y', 'X', 'Y', 'X', 'Y'],\n",
    "    'Values': [10, 20, 30, 40, 50, 60]\n",
    "}\n",
    "\n",
    "df = pd.DataFrame(data)\n",
    "\n",
    "# 'Category'와 'Subcategory'로 그룹화하여 값의 합계 계산\n",
    "grouped_multiple = df.groupby(['Category', 'Subcategory']).sum()\n",
    "print(grouped_multiple)"
   ]
  },
  {
   "cell_type": "markdown",
   "metadata": {},
   "source": [
    "실습 문제\n",
    "문제 1: 집계 함수 사용\n",
    "다음 데이터프레임을 사용하여 groupby를 통해 Category별로 Values의 최대값을 계산하세요\n",
    "\n",
    "data = {\n",
    "    'Category': ['A', 'A', 'B', 'B', 'C', 'C'],\n",
    "    'Values': [10, 20, 30, 40, 50, 60]\n",
    "}\n",
    "df = pd.DataFrame(data)"
   ]
  },
  {
   "cell_type": "code",
   "execution_count": null,
   "metadata": {
    "vscode": {
     "languageId": "plaintext"
    }
   },
   "outputs": [],
   "source": []
  },
  {
   "cell_type": "markdown",
   "metadata": {},
   "source": [
    "문제 2: 여러 열로 그룹화\n",
    "다음 데이터프레임에서 Category와 Subcategory로 그룹화하여 Values의 평균을 계산하세요.\n",
    "\n",
    "data = {\n",
    "    'Category': ['A', 'A', 'B', 'B', 'C', 'C'],\n",
    "    'Subcategory': ['X', 'Y', 'X', 'Y', 'X', 'Y'],\n",
    "    'Values': [10, 20, 30, 40, 50, 60]\n",
    "}\n",
    "df = pd.DataFrame(data)\n"
   ]
  },
  {
   "cell_type": "code",
   "execution_count": null,
   "metadata": {
    "vscode": {
     "languageId": "plaintext"
    }
   },
   "outputs": [],
   "source": []
  }
 ],
 "metadata": {
  "language_info": {
   "name": "python"
  }
 },
 "nbformat": 4,
 "nbformat_minor": 2
}
