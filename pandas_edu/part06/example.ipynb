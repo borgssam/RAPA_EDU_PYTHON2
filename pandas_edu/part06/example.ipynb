{
 "cells": [
  {
   "cell_type": "markdown",
   "metadata": {},
   "source": [
    "문제 1: apply()를 사용한 열별 평균 계산\n",
    "다음과 같은 데이터프레임이 있습니다. 각 열의 평균을 계산하는 함수를 apply()를 사용해 작성하세요.\n",
    "조건\n",
    "각 열의 평균을 계산하는 함수를 작성하세요.\n",
    "이 함수를 apply()를 사용하여 적용한 후 결과를 출력하세요.\n",
    "import pandas as pd\n",
    "data = {'A': [10, 15, 20],\n",
    "        'B': [5, 10, 15],\n",
    "        'C': [2, 4, 6]}\n",
    "df = pd.DataFrame(data)"
   ]
  },
  {
   "cell_type": "code",
   "execution_count": 2,
   "metadata": {},
   "outputs": [
    {
     "name": "stdout",
     "output_type": "stream",
     "text": [
      "A    15.0\n",
      "B    10.0\n",
      "C     4.0\n",
      "dtype: float64\n"
     ]
    }
   ],
   "source": [
    "import pandas as pd\n",
    "\n",
    "# 데이터프레임 생성\n",
    "data = {'A': [10, 15, 20],\n",
    "        'B': [5, 10, 15],\n",
    "        'C': [2, 4, 6]}\n",
    "df = pd.DataFrame(data)\n",
    "\n",
    "# apply()를 사용해 각 열의 평균 계산\n",
    "mean_values = df.apply(lambda x: x.mean())\n",
    "\n",
    "print(mean_values)\n"
   ]
  },
  {
   "cell_type": "code",
   "execution_count": 3,
   "metadata": {},
   "outputs": [
    {
     "name": "stdout",
     "output_type": "stream",
     "text": [
      "A    15.0\n",
      "B    10.0\n",
      "C     4.0\n",
      "dtype: float64\n"
     ]
    }
   ],
   "source": [
    "import pandas as pd\n",
    "\n",
    "# 데이터프레임 생성\n",
    "data = {'A': [10, 15, 20],\n",
    "        'B': [5, 10, 15],\n",
    "        'C': [2, 4, 6]}\n",
    "df = pd.DataFrame(data)\n",
    "def avg(x):\n",
    "  return x.mean()\n",
    "# apply()를 사용해 각 열의 평균 계산\n",
    "mean_values = df.apply(avg)\n",
    "\n",
    "print(mean_values)"
   ]
  },
  {
   "cell_type": "markdown",
   "metadata": {},
   "source": [
    "문제 2: map()을 사용해 값 변환\n",
    "다음과 같은 데이터프레임이 있습니다. map()을 사용하여 Grade 열의 점수를 \"Pass\" 또는 \"Fail\"로 변환하세요. 점수가 60 이상이면 \"Pass\", 60 미만이면 \"Fail\"입니다.\n",
    "조건\n",
    "map()을 사용하여 Grade 값을 \"Pass\" 또는 \"Fail\"로 변환하세요.\n",
    "변환된 결과를 새로운 Result 열에 저장하세요.\n",
    "[데이터프레임]\n",
    "import pandas as pd\n",
    "data = {'Name': ['Alice', 'Bob', 'Charlie', 'David', 'Eve'],\n",
    "        'Grade': [85, 58, 72, 45, 90]}\n",
    "df = pd.DataFrame(data)"
   ]
  },
  {
   "cell_type": "code",
   "execution_count": 4,
   "metadata": {},
   "outputs": [
    {
     "name": "stdout",
     "output_type": "stream",
     "text": [
      "      Name  Grade Result\n",
      "0    Alice     85   Pass\n",
      "1      Bob     58   Fail\n",
      "2  Charlie     72   Pass\n",
      "3    David     45   Fail\n",
      "4      Eve     90   Pass\n"
     ]
    }
   ],
   "source": [
    "import pandas as pd\n",
    "\n",
    "# 데이터프레임 생성\n",
    "data = {'Name': ['Alice', 'Bob', 'Charlie', 'David', 'Eve'],\n",
    "        'Grade': [85, 58, 72, 45, 90]}\n",
    "df = pd.DataFrame(data)\n",
    "\n",
    "# map()을 사용해 Pass/Fail 변환\n",
    "df['Result'] = df['Grade'].map(lambda x: 'Pass' if x >= 60 else 'Fail')\n",
    "\n",
    "print(df)\n"
   ]
  },
  {
   "cell_type": "markdown",
   "metadata": {},
   "source": [
    "문제 3: apply()와 lambda 함수로 데이터 변환\n",
    "다음과 같은 데이터프레임이 있습니다. apply()와 lambda 함수를 사용하여 X 열의 값을 제곱한 값을 새로운 열 X_squared에 추가하세요.\n",
    "조건\n",
    "apply()와 lambda를 사용해 X 열의 값을 제곱하세요.\n",
    "변환된 값을 새로운 열 X_squared에 저장하세요.\n",
    "[데이터프레임]\n",
    "import pandas as pd\n",
    "data = {'X': [2, 3, 4, 5, 6]}\n",
    "df = pd.DataFrame(data)"
   ]
  },
  {
   "cell_type": "code",
   "execution_count": 5,
   "metadata": {},
   "outputs": [
    {
     "name": "stdout",
     "output_type": "stream",
     "text": [
      "   X  X_squared\n",
      "0  2          4\n",
      "1  3          9\n",
      "2  4         16\n",
      "3  5         25\n",
      "4  6         36\n"
     ]
    }
   ],
   "source": [
    "import pandas as pd\n",
    "\n",
    "# 데이터프레임 생성\n",
    "data = {'X': [2, 3, 4, 5, 6]}\n",
    "df = pd.DataFrame(data)\n",
    "\n",
    "# apply()와 lambda를 사용해 X 열의 값을 제곱\n",
    "df['X_squared'] = df['X'].apply(lambda x: x**2)\n",
    "\n",
    "print(df)\n"
   ]
  },
  {
   "cell_type": "markdown",
   "metadata": {},
   "source": [
    "문제 4: IQR을 구하고 이상치 추출하기\n",
    "문제 설명\n",
    "다음과 같은 데이터프레임이 주어졌습니다. 이 데이터에서 IQR(Interquartile Range, 사분위 범위)을 구하고, IQR을 사용하여 이상치(Outlier)를 추출하는 코드를 작성하세요.\n",
    "\n",
    "데이터프레임\n",
    "python\n",
    "코드 복사\n",
    "import pandas as pd\n",
    "\n",
    "data = {'A': [10, 12, 14, 15, 18, 20, 21, 24, 30, 100],\n",
    "        'B': [5, 6, 8, 9, 12, 14, 18, 20, 22, 30]}\n",
    "df = pd.DataFrame(data)\n",
    "조건\n",
    "각 열에 대해 IQR을 계산하세요.\n",
    "IQR을 기준으로 각 열에서 이상치를 구하세요. (IQR을 기준으로 1.5배를 초과하는 범위 밖의 값)\n",
    "이상치만을 출력하는 코드를 작성하세요."
   ]
  },
  {
   "cell_type": "code",
   "execution_count": 6,
   "metadata": {},
   "outputs": [
    {
     "name": "stdout",
     "output_type": "stream",
     "text": [
      "'A' 열의 이상치:\n",
      "9    100\n",
      "Name: A, dtype: int64\n",
      "\n",
      "'B' 열의 이상치:\n",
      "Series([], Name: B, dtype: int64)\n",
      "\n"
     ]
    }
   ],
   "source": [
    "import pandas as pd\n",
    "\n",
    "# 데이터프레임 생성\n",
    "data = {'A': [10, 12, 14, 15, 18, 20, 21, 24, 30, 100],\n",
    "        'B': [5, 6, 8, 9, 12, 14, 18, 20, 22, 30]}\n",
    "df = pd.DataFrame(data)\n",
    "\n",
    "# IQR을 계산하고 이상치를 추출하는 함수\n",
    "def find_outliers_iqr(df):\n",
    "    outliers = {}\n",
    "    \n",
    "    for column in df.columns:\n",
    "        Q1 = df[column].quantile(0.25)  # 1사분위 (25%)\n",
    "        Q3 = df[column].quantile(0.75)  # 3사분위 (75%)\n",
    "        IQR = Q3 - Q1  # IQR 계산\n",
    "\n",
    "        # 이상치 기준 계산 (IQR * 1.5 초과 범위)\n",
    "        lower_bound = Q1 - 1.5 * IQR\n",
    "        upper_bound = Q3 + 1.5 * IQR\n",
    "\n",
    "        # 이상치 추출\n",
    "        outliers[column] = df[(df[column] < lower_bound) | (df[column] > upper_bound)][column]\n",
    "\n",
    "    return outliers\n",
    "\n",
    "# 이상치 추출\n",
    "outliers = find_outliers_iqr(df)\n",
    "\n",
    "# 이상치 출력\n",
    "for column, outlier_values in outliers.items():\n",
    "    print(f\"'{column}' 열의 이상치:\\n{outlier_values}\\n\")\n"
   ]
  },
  {
   "cell_type": "markdown",
   "metadata": {},
   "source": [
    "문제4:\n",
    "\n",
    "열 재배열: Score 열을 데이터프레임의 가장 앞쪽으로 이동시키고, Age 열을 마지막으로 이동시키세요.\n",
    "\n",
    "열 분리: Score 열의 값을 분리하여 새로운 데이터프레임 df_scores를 생성합니다. 각 점수는 별도의 열로 나뉘어야 하며, 새로운 열 이름은 Score1, Score2, Score3입니다.\n",
    "\n",
    "data = {\n",
    "    'ID': [1, 2, 3],\n",
    "    'Name': ['John Doe', 'Jane Smith', 'Alice Lee'],\n",
    "    'Age': [28, 22, 30],\n",
    "    'Score': ['85, 90, 95', '78, 88, 90', '95, 100, 92']\n",
    "}"
   ]
  },
  {
   "cell_type": "code",
   "execution_count": 7,
   "metadata": {},
   "outputs": [
    {
     "name": "stdout",
     "output_type": "stream",
     "text": [
      "   ID        Name  Age Score1 Score2 Score3\n",
      "0   1    John Doe   28     85     90     95\n",
      "1   2  Jane Smith   22     78     88     90\n",
      "2   3   Alice Lee   30     95    100     92\n"
     ]
    }
   ],
   "source": [
    "import pandas as pd\n",
    "\n",
    "# 데이터프레임 생성\n",
    "data = {\n",
    "    'ID': [1, 2, 3],\n",
    "    'Name': ['John Doe', 'Jane Smith', 'Alice Lee'],\n",
    "    'Age': [28, 22, 30],\n",
    "    'Score': ['85, 90, 95', '78, 88, 90', '95, 100, 92']\n",
    "}\n",
    "\n",
    "df = pd.DataFrame(data)\n",
    "\n",
    "# 1. 열 재배열: Score 열을 앞쪽으로, Age 열을 마지막으로 이동\n",
    "df = df[['Score', 'ID', 'Name', 'Age']]\n",
    "\n",
    "# 2. 열 분리: Score 열을 분리하여 새로운 데이터프레임 생성\n",
    "df_scores = df['Score'].str.split(', ', expand=True)\n",
    "df_scores.columns = ['Score1', 'Score2', 'Score3']\n",
    "\n",
    "# 원래 데이터프레임에서 Score 열 제거\n",
    "df = df.drop('Score', axis=1)\n",
    "\n",
    "# 새로운 데이터프레임과 합치기\n",
    "df = pd.concat([df, df_scores], axis=1)\n",
    "\n",
    "print(df)"
   ]
  }
 ],
 "metadata": {
  "kernelspec": {
   "display_name": "rapa310",
   "language": "python",
   "name": "python3"
  },
  "language_info": {
   "codemirror_mode": {
    "name": "ipython",
    "version": 3
   },
   "file_extension": ".py",
   "mimetype": "text/x-python",
   "name": "python",
   "nbconvert_exporter": "python",
   "pygments_lexer": "ipython3",
   "version": "3.10.5"
  }
 },
 "nbformat": 4,
 "nbformat_minor": 2
}
