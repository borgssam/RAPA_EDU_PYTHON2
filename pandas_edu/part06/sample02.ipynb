{
 "cells": [
  {
   "cell_type": "markdown",
   "metadata": {},
   "source": [
    "pipe()를 사용하지 않는 예시"
   ]
  },
  {
   "cell_type": "code",
   "execution_count": 2,
   "metadata": {},
   "outputs": [
    {
     "name": "stdout",
     "output_type": "stream",
     "text": [
      "   A   B\n",
      "0  3  12\n",
      "1  4  15\n",
      "2  5  18\n"
     ]
    }
   ],
   "source": [
    "import pandas as pd\n",
    "\n",
    "df = pd.DataFrame({'A': [1, 2, 3], 'B': [4, 5, 6]})\n",
    "\n",
    "# 함수 정의\n",
    "def add_two_to_A(df):\n",
    "    df['A'] = df['A'] + 2\n",
    "    return df\n",
    "\n",
    "def multiply_B_by_three(df):\n",
    "    df['B'] = df['B'] * 3\n",
    "    return df\n",
    "\n",
    "# 중간 변수를 이용한 데이터 처리\n",
    "df = add_two_to_A(df)\n",
    "df = multiply_B_by_three(df)\n",
    "\n",
    "print(df)"
   ]
  },
  {
   "cell_type": "markdown",
   "metadata": {},
   "source": [
    "\n",
    "pipe()를 사용한 예시"
   ]
  },
  {
   "cell_type": "code",
   "execution_count": 3,
   "metadata": {},
   "outputs": [
    {
     "name": "stdout",
     "output_type": "stream",
     "text": [
      "   A   B\n",
      "0  3  12\n",
      "1  4  15\n",
      "2  5  18\n"
     ]
    }
   ],
   "source": [
    "import pandas as pd\n",
    "\n",
    "df = pd.DataFrame({'A': [1, 2, 3], 'B': [4, 5, 6]})\n",
    "\n",
    "# pipe()를 이용한 메소드 체이닝\n",
    "df = (df.pipe(add_two_to_A)\n",
    "        .pipe(multiply_B_by_three))\n",
    "\n",
    "print(df)\n"
   ]
  },
  {
   "cell_type": "markdown",
   "metadata": {},
   "source": [
    "apply()를 사용하여 체이닝을 할 수 있다. \n",
    "그러나 apply()는 데이터프레임의 행 또는 열을 기준으로 함수를 적용하기 때문에, \n",
    "위에서 정의한 두 개의 함수(add_two_to_A와 multiply_B_by_three)를 조금 수정해야 한다."
   ]
  },
  {
   "cell_type": "code",
   "execution_count": 4,
   "metadata": {},
   "outputs": [
    {
     "name": "stdout",
     "output_type": "stream",
     "text": [
      "   A   B\n",
      "0  3  12\n",
      "1  4  15\n",
      "2  5  18\n"
     ]
    }
   ],
   "source": [
    "import pandas as pd\n",
    "\n",
    "# 데이터프레임 생성\n",
    "df = pd.DataFrame({'A': [1, 2, 3], 'B': [4, 5, 6]})\n",
    "\n",
    "# 'A' 열에 2를 더하는 함수\n",
    "def add_two(x):\n",
    "    return x + 2\n",
    "\n",
    "# 'B' 열에 3을 곱하는 함수\n",
    "def multiply_by_three(x):\n",
    "    return x * 3\n",
    "\n",
    "# apply를 사용한 체이닝\n",
    "df['A'] = df['A'].apply(add_two)  # 'A' 열에 2 더하기\n",
    "df['B'] = df['B'].apply(multiply_by_three)  # 'B' 열에 3 곱하기\n",
    "\n",
    "print(df)\n"
   ]
  },
  {
   "cell_type": "markdown",
   "metadata": {},
   "source": []
  }
 ],
 "metadata": {
  "kernelspec": {
   "display_name": "rapa3103",
   "language": "python",
   "name": "python3"
  },
  "language_info": {
   "codemirror_mode": {
    "name": "ipython",
    "version": 3
   },
   "file_extension": ".py",
   "mimetype": "text/x-python",
   "name": "python",
   "nbconvert_exporter": "python",
   "pygments_lexer": "ipython3",
   "version": "3.10.5"
  }
 },
 "nbformat": 4,
 "nbformat_minor": 2
}
