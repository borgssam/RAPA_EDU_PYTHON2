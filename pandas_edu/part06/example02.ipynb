{
 "cells": [
  {
   "cell_type": "markdown",
   "metadata": {},
   "source": [
    "문제 1: 평균과 최대 점수 계산\n",
    "주어진 데이터프레임에서 각 Department별로 평균 점수(Score)와 최대 점수를 계산하시오.\n",
    "\n",
    "데이터프레임\n",
    "import pandas as pd\n",
    "\n",
    "data1 = {\n",
    "    'Department': ['HR', 'Finance', 'HR', 'Finance', 'IT', 'IT', 'HR'],\n",
    "    'Score': [85, 90, 78, 92, 88, 95, 80]\n",
    "}\n",
    "df1 = pd.DataFrame(data1)"
   ]
  },
  {
   "cell_type": "code",
   "execution_count": 2,
   "metadata": {},
   "outputs": [
    {
     "name": "stdout",
     "output_type": "stream",
     "text": [
      "           Score    \n",
      "            mean max\n",
      "Department          \n",
      "Finance     91.0  92\n",
      "HR          81.0  85\n",
      "IT          91.5  95\n"
     ]
    }
   ],
   "source": [
    "import pandas as pd\n",
    "\n",
    "data1 = {\n",
    "    'Department': ['HR', 'Finance', 'HR', 'Finance', 'IT', 'IT', 'HR'],\n",
    "    'Score': [85, 90, 78, 92, 88, 95, 80]\n",
    "}\n",
    "df1 = pd.DataFrame(data1)\n",
    "\n",
    "result1 = df1.groupby('Department').aggregate({\n",
    "    'Score': ['mean', 'max']\n",
    "})\n",
    "\n",
    "print(result1)"
   ]
  },
  {
   "cell_type": "markdown",
   "metadata": {},
   "source": [
    "\n",
    "문제 2: 그룹별 개수 및 최소 점수\n",
    "각 City별로 학생 수와 최소 점수를 구하시오.\n",
    "\n",
    "데이터프레임\n",
    "data2 = {\n",
    "    'City': ['Seoul', 'Busan', 'Seoul', 'Incheon', 'Busan', 'Incheon'],\n",
    "    'Score': [75, 80, 85, 90, 78, 88]\n",
    "}\n",
    "df2 = pd.DataFrame(data2)"
   ]
  },
  {
   "cell_type": "code",
   "execution_count": 3,
   "metadata": {},
   "outputs": [
    {
     "name": "stdout",
     "output_type": "stream",
     "text": [
      "        Score    \n",
      "        count min\n",
      "City             \n",
      "Busan       2  78\n",
      "Incheon     2  88\n",
      "Seoul       2  75\n"
     ]
    }
   ],
   "source": [
    "data2 = {\n",
    "    'City': ['Seoul', 'Busan', 'Seoul', 'Incheon', 'Busan', 'Incheon'],\n",
    "    'Score': [75, 80, 85, 90, 78, 88]\n",
    "}\n",
    "df2 = pd.DataFrame(data2)\n",
    "\n",
    "result2 = df2.groupby('City').aggregate({\n",
    "    'Score': ['count', 'min']\n",
    "})\n",
    "\n",
    "print(result2)\n"
   ]
  },
  {
   "cell_type": "markdown",
   "metadata": {},
   "source": [
    "\n",
    "\n",
    "문제 3: 판매량 통계\n",
    "각 Product별로 평균 판매량(Sales)과 총 판매량(Sales)을 구하시오.\n",
    "\n",
    "데이터프레임\n",
    "data3 = {\n",
    "    'Product': ['A', 'B', 'A', 'C', 'B', 'C', 'A'],\n",
    "    'Sales': [100, 150, 200, 250, 175, 225, 300]\n",
    "}\n",
    "df3 = pd.DataFrame(data3)\n"
   ]
  },
  {
   "cell_type": "code",
   "execution_count": 4,
   "metadata": {},
   "outputs": [
    {
     "name": "stdout",
     "output_type": "stream",
     "text": [
      "         Sales     \n",
      "          mean  sum\n",
      "Product            \n",
      "A        200.0  600\n",
      "B        162.5  325\n",
      "C        237.5  475\n"
     ]
    }
   ],
   "source": [
    "data3 = {\n",
    "    'Product': ['A', 'B', 'A', 'C', 'B', 'C', 'A'],\n",
    "    'Sales': [100, 150, 200, 250, 175, 225, 300]\n",
    "}\n",
    "\n",
    "df3 = pd.DataFrame(data3)\n",
    "result3 = df3.groupby('Product').aggregate({\n",
    "    'Sales': ['mean', 'sum']\n",
    "})\n",
    "\n",
    "print(result3)\n",
    "\n"
   ]
  },
  {
   "cell_type": "markdown",
   "metadata": {},
   "source": [
    "\n",
    "문제 4: 연령대 통계\n",
    "각 Age Group별로 평균 연령(Age)과 최대 연령을 구하시오.\n",
    "\n",
    "데이터프레임\n",
    "data4 = {\n",
    "    'Age Group': ['20-30', '30-40', '20-30', '30-40', '40-50', '20-30'],\n",
    "    'Age': [25, 35, 29, 38, 45, 22]\n",
    "}\n",
    "df4 = pd.DataFrame(data4)\n"
   ]
  },
  {
   "cell_type": "code",
   "execution_count": 5,
   "metadata": {},
   "outputs": [
    {
     "name": "stdout",
     "output_type": "stream",
     "text": [
      "                 Age    \n",
      "                mean max\n",
      "Age Group               \n",
      "20-30      25.333333  29\n",
      "30-40      36.500000  38\n",
      "40-50      45.000000  45\n"
     ]
    }
   ],
   "source": [
    "data4 = {\n",
    "    'Age Group': ['20-30', '30-40', '20-30', '30-40', '40-50', '20-30'],\n",
    "    'Age': [25, 35, 29, 38, 45, 22]\n",
    "}\n",
    "df4 = pd.DataFrame(data4)\n",
    "\n",
    "result4 = df4.groupby('Age Group').aggregate({\n",
    "    'Age': ['mean', 'max']\n",
    "})\n",
    "\n",
    "print(result4)"
   ]
  },
  {
   "cell_type": "markdown",
   "metadata": {},
   "source": [
    "\n",
    "문제 5: 판매자별 통계\n",
    "각 Salesperson별로 총 판매(Total Sales)와 평균 판매를 계산하시오.\n",
    "\n",
    "데이터프레임\n",
    "data5 = {\n",
    "    'Salesperson': ['John', 'Jane', 'John', 'Doe', 'Jane', 'Doe'],\n",
    "    'Total Sales': [500, 600, 700, 800, 900, 600]\n",
    "}\n",
    "df5 = pd.DataFrame(data5)"
   ]
  },
  {
   "cell_type": "code",
   "execution_count": 6,
   "metadata": {},
   "outputs": [
    {
     "name": "stdout",
     "output_type": "stream",
     "text": [
      "            Total Sales       \n",
      "                    sum   mean\n",
      "Salesperson                   \n",
      "Doe                1400  700.0\n",
      "Jane               1500  750.0\n",
      "John               1200  600.0\n"
     ]
    }
   ],
   "source": [
    "data5 = {\n",
    "    'Salesperson': ['John', 'Jane', 'John', 'Doe', 'Jane', 'Doe'],\n",
    "    'Total Sales': [500, 600, 700, 800, 900, 600]\n",
    "}\n",
    "df5 = pd.DataFrame(data5)\n",
    "\n",
    "result5 = df5.groupby('Salesperson').aggregate({\n",
    "    'Total Sales': ['sum', 'mean']\n",
    "})\n",
    "\n",
    "print(result5)\n"
   ]
  }
 ],
 "metadata": {
  "kernelspec": {
   "display_name": "rapa3103",
   "language": "python",
   "name": "python3"
  },
  "language_info": {
   "codemirror_mode": {
    "name": "ipython",
    "version": 3
   },
   "file_extension": ".py",
   "mimetype": "text/x-python",
   "name": "python",
   "nbconvert_exporter": "python",
   "pygments_lexer": "ipython3",
   "version": "3.10.5"
  }
 },
 "nbformat": 4,
 "nbformat_minor": 2
}
