{
 "cells": [
  {
   "cell_type": "markdown",
   "metadata": {},
   "source": [
    "문제 1: 특정 범위 내의 점수 필터링\n",
    "주어진 데이터프레임에서 Score가 80 이상 90 이하인 행만 필터링하여 새로운 데이터프레임을 생성하시오.\n",
    "\n",
    "데이터프레임\n",
    "python\n",
    "코드 복사\n",
    "import pandas as pd\n",
    "\n",
    "data1 = {\n",
    "    'Student': ['Alice', 'Bob', 'Charlie', 'David', 'Eva'],\n",
    "    'Score': [85, 78, 92, 88, 90]\n",
    "}\n",
    "df1 = pd.DataFrame(data1)"
   ]
  },
  {
   "cell_type": "code",
   "execution_count": 1,
   "metadata": {},
   "outputs": [
    {
     "name": "stdout",
     "output_type": "stream",
     "text": [
      "  Student  Score\n",
      "0   Alice     85\n",
      "3   David     88\n",
      "4     Eva     90\n"
     ]
    }
   ],
   "source": [
    "import pandas as pd\n",
    "\n",
    "data1 = {\n",
    "    'Student': ['Alice', 'Bob', 'Charlie', 'David', 'Eva'],\n",
    "    'Score': [85, 78, 92, 88, 90]\n",
    "}\n",
    "df1 = pd.DataFrame(data1)\n",
    "\n",
    "filtered_df1 = df1[(df1['Score'] >= 80) & (df1['Score'] <= 90)]\n",
    "print(filtered_df1)"
   ]
  },
  {
   "cell_type": "markdown",
   "metadata": {},
   "source": [
    "문제 2: 특정 문자열 포함 필터링\n",
    "Comments 열에서 'good'이라는 단어가 포함된 행만 필터링하여 새로운 데이터프레임을 생성하시오.\n",
    "\n",
    "데이터프레임\n",
    "data2 = {\n",
    "    'Name': ['Alice', 'Bob', 'Charlie', 'David', 'Eva'],\n",
    "    'Comments': ['good job', 'needs improvement', 'good effort', 'average', 'good']\n",
    "}\n",
    "df2 = pd.DataFrame(data2)"
   ]
  },
  {
   "cell_type": "code",
   "execution_count": 2,
   "metadata": {},
   "outputs": [
    {
     "name": "stdout",
     "output_type": "stream",
     "text": [
      "      Name     Comments\n",
      "0    Alice     good job\n",
      "2  Charlie  good effort\n",
      "4      Eva         good\n"
     ]
    }
   ],
   "source": [
    "data2 = {\n",
    "    'Name': ['Alice', 'Bob', 'Charlie', 'David', 'Eva'],\n",
    "    'Comments': ['good job', 'needs improvement', 'good effort', 'average', 'good']\n",
    "}\n",
    "df2 = pd.DataFrame(data2)\n",
    "filtered_df2 = df2[df2['Comments'].str.contains('good')]\n",
    "print(filtered_df2)"
   ]
  },
  {
   "cell_type": "markdown",
   "metadata": {},
   "source": [
    "문제 3: 두 개의 조건으로 필터링\n",
    "Category가 'A'이면서 Sales가 200 이상인 행만 필터링하여 새로운 데이터프레임을 생성하시오.\n",
    "\n",
    "데이터프레임\n",
    "data3 = {\n",
    "    'Category': ['A', 'B', 'A', 'C', 'B', 'A'],\n",
    "    'Sales': [150, 250, 300, 100, 200, 220]\n",
    "}\n",
    "df3 = pd.DataFrame(data3)"
   ]
  },
  {
   "cell_type": "code",
   "execution_count": 3,
   "metadata": {},
   "outputs": [
    {
     "name": "stdout",
     "output_type": "stream",
     "text": [
      "  Category  Sales\n",
      "2        A    300\n",
      "5        A    220\n"
     ]
    }
   ],
   "source": [
    "data3 = {\n",
    "    'Category': ['A', 'B', 'A', 'C', 'B', 'A'],\n",
    "    'Sales': [150, 250, 300, 100, 200, 220]\n",
    "}\n",
    "df3 = pd.DataFrame(data3)\n",
    "filtered_df3 = df3[(df3['Category'] == 'A') & (df3['Sales'] >= 200)]\n",
    "print(filtered_df3)"
   ]
  },
  {
   "cell_type": "markdown",
   "metadata": {},
   "source": [
    "문제 4: 날짜 필터링\n",
    "주어진 데이터프레임에서 Date가 2023년 1월 1일 이후인 행만 필터링하여 새로운 데이터프레임을 생성하시오.\n",
    "\n",
    "데이터프레임\n",
    "data4 = {\n",
    "    'ID': [1, 2, 3, 4, 5],\n",
    "    'Date': ['2022-12-31', '2023-01-01', '2023-01-15', '2022-11-25', '2023-02-20']\n",
    "}\n",
    "df4 = pd.DataFrame(data4)\n",
    "df4['Date'] = pd.to_datetime(df4['Date'])"
   ]
  },
  {
   "cell_type": "code",
   "execution_count": 4,
   "metadata": {},
   "outputs": [
    {
     "name": "stdout",
     "output_type": "stream",
     "text": [
      "   ID       Date\n",
      "2   3 2023-01-15\n",
      "4   5 2023-02-20\n"
     ]
    }
   ],
   "source": [
    "data4 = {\n",
    "    'ID': [1, 2, 3, 4, 5],\n",
    "    'Date': ['2022-12-31', '2023-01-01', '2023-01-15', '2022-11-25', '2023-02-20']\n",
    "}\n",
    "df4 = pd.DataFrame(data4)\n",
    "df4['Date'] = pd.to_datetime(df4['Date'])\n",
    "filtered_df4 = df4[df4['Date'] > '2023-01-01']\n",
    "print(filtered_df4)"
   ]
  },
  {
   "cell_type": "markdown",
   "metadata": {},
   "source": [
    "문제 5: 복합 조건 필터링\n",
    "Gender가 'F'이고, Age가 30세 이상인 행만 필터링하여 새로운 데이터프레임을 생성하시오.\n",
    "\n",
    "데이터프레임\n",
    "data5 = {\n",
    "    'Name': ['Alice', 'Bob', 'Charlie', 'David', 'Eva'],\n",
    "    'Gender': ['F', 'M', 'M', 'M', 'F'],\n",
    "    'Age': [29, 34, 45, 28, 31]\n",
    "}\n",
    "df5 = pd.DataFrame(data5)"
   ]
  },
  {
   "cell_type": "code",
   "execution_count": 5,
   "metadata": {},
   "outputs": [
    {
     "name": "stdout",
     "output_type": "stream",
     "text": [
      "  Name Gender  Age\n",
      "4  Eva      F   31\n"
     ]
    }
   ],
   "source": [
    "data5 = {\n",
    "    'Name': ['Alice', 'Bob', 'Charlie', 'David', 'Eva'],\n",
    "    'Gender': ['F', 'M', 'M', 'M', 'F'],\n",
    "    'Age': [29, 34, 45, 28, 31]\n",
    "}\n",
    "df5 = pd.DataFrame(data5)\n",
    "filtered_df5 = df5[(df5['Gender'] == 'F') & (df5['Age'] >= 30)]\n",
    "print(filtered_df5)\n"
   ]
  }
 ],
 "metadata": {
  "kernelspec": {
   "display_name": "rapa3103",
   "language": "python",
   "name": "python3"
  },
  "language_info": {
   "codemirror_mode": {
    "name": "ipython",
    "version": 3
   },
   "file_extension": ".py",
   "mimetype": "text/x-python",
   "name": "python",
   "nbconvert_exporter": "python",
   "pygments_lexer": "ipython3",
   "version": "3.10.5"
  }
 },
 "nbformat": 4,
 "nbformat_minor": 2
}
