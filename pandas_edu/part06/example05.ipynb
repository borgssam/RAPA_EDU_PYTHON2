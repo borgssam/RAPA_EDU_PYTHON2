{
 "cells": [
  {
   "cell_type": "markdown",
   "metadata": {},
   "source": [
    "문제 1: 여러 조건을 만족하는 필터링 및 변환\n",
    "주어진 데이터프레임에서 국어 점수가 80점 이상이면서, 영어 점수가 70점 이하인 학생들의 수학 점수를 두 배로 증가시키세요."
   ]
  },
  {
   "cell_type": "code",
   "execution_count": 1,
   "metadata": {},
   "outputs": [
    {
     "name": "stdout",
     "output_type": "stream",
     "text": [
      "    국어  영어  수학\n",
      "0  100  50  20\n",
      "1   75  70  20\n",
      "2   89  60  60\n",
      "3   60  80  50\n",
      "4   30  90  60\n"
     ]
    }
   ],
   "source": [
    "#데이터프레임:\n",
    "import pandas as pd\n",
    "df = pd.DataFrame({\n",
    "    \"국어\": [100, 75, 89, 60, 30],\n",
    "    \"영어\": [50, 70, 60, 80, 90],\n",
    "    \"수학\": [10, 20, 30, 50, 60]\n",
    "})\n",
    "# 조건을 만족하는 학생들의 수학 점수를 두 배로 변경\n",
    "df.loc[(df['국어'] >= 80) & (df['영어'] <= 70), '수학'] *= 2\n",
    "print(df)"
   ]
  },
  {
   "cell_type": "markdown",
   "metadata": {},
   "source": [
    "문제 2: 결측치가 있는 열을 기준으로 평균값으로 대체\n",
    "아래 데이터프레임에서 결측치가 포함된 열에 대해, 그 열의 평균값으로 결측치를 대체하세요. 단, 소수점 이하 두 자리까지 반올림한 값을 사용합니다."
   ]
  },
  {
   "cell_type": "code",
   "execution_count": 2,
   "metadata": {},
   "outputs": [
    {
     "name": "stdout",
     "output_type": "stream",
     "text": [
      "      A    B    C\n",
      "0  1.20  2.2  5.0\n",
      "1  2.30  1.1  3.0\n",
      "2  3.28  2.2  3.0\n",
      "3  4.50  3.3  3.0\n",
      "4  5.10  2.2  1.0\n"
     ]
    }
   ],
   "source": [
    "#데이터프레임:\n",
    "import pandas as pd\n",
    "import numpy as np\n",
    "df = pd.DataFrame({\n",
    "    \"A\": [1.2, 2.3, np.nan, 4.5, 5.1],\n",
    "    \"B\": [np.nan, 1.1, 2.2, 3.3, np.nan],\n",
    "    \"C\": [5, np.nan, 3, np.nan, 1]\n",
    "})\n",
    "# 평균값으로 결측치를 대체하고 소수점 둘째 자리까지 반올림\n",
    "df = df.apply(lambda col: col.fillna(round(col.mean(), 2)))\n",
    "print(df)"
   ]
  },
  {
   "cell_type": "markdown",
   "metadata": {},
   "source": [
    "문제 3: 그룹별로 조건을 만족하는 값의 합계 구하기\n",
    "아래 데이터프레임에서 'Group' 열을 기준으로 그룹을 나누고, 각 그룹 내에서 'Value' 열이 50 이상인 값들의 합계를 구하세요."
   ]
  },
  {
   "cell_type": "code",
   "execution_count": 3,
   "metadata": {},
   "outputs": [
    {
     "name": "stdout",
     "output_type": "stream",
     "text": [
      "Group\n",
      "A     60\n",
      "B    130\n",
      "C     65\n",
      "Name: Value, dtype: int64\n"
     ]
    }
   ],
   "source": [
    "#데이터프레임:\n",
    "import pandas as pd\n",
    "df = pd.DataFrame({\n",
    "    'Group': ['A', 'A', 'B', 'B', 'C', 'C'],\n",
    "    'Value': [45, 60, 75, 55, 40, 65]\n",
    "})\n",
    "# 그룹별로 50 이상인 값들의 합계를 구함\n",
    "result = df[df['Value'] >= 50].groupby('Group')['Value'].sum()\n",
    "print(result)"
   ]
  },
  {
   "cell_type": "markdown",
   "metadata": {},
   "source": [
    "문제 4: 특정 열을 기준으로 랭킹 계산하기\n",
    "아래 데이터프레임에서 'Score' 열에 대해 랭킹을 구하고, 랭킹이 1인 데이터만 출력하세요. 단, 동일한 점수일 경우 같은 순위를 부여하고, 이후 순위는 생략된 순번 없이 연속되게 처리합니다."
   ]
  },
  {
   "cell_type": "code",
   "execution_count": 4,
   "metadata": {},
   "outputs": [
    {
     "name": "stdout",
     "output_type": "stream",
     "text": [
      "    Name  Score  Rank\n",
      "1   Jane     92   1.0\n",
      "2  Alice     92   1.0\n"
     ]
    }
   ],
   "source": [
    "#데이터프레임:\n",
    "import pandas as pd\n",
    "df = pd.DataFrame({\n",
    "    'Name': ['John', 'Jane', 'Alice', 'Bob', 'Charlie'],\n",
    "    'Score': [88, 92, 92, 85, 90]\n",
    "})\n",
    "# 랭킹 계산 (동일 점수에 동일 랭크 부여)\n",
    "df['Rank'] = df['Score'].rank(method='min', ascending=False)\n",
    "# 랭킹이 1인 데이터만 출력\n",
    "result = df[df['Rank'] == 1]\n",
    "print(result)"
   ]
  },
  {
   "cell_type": "markdown",
   "metadata": {},
   "source": [
    "문제 5: 여러 열에 걸친 값 변환 및 그룹별 통계\n",
    "아래 데이터프레임에서 'A'와 'B' 열의 값을 각각 제곱하고, 'Group' 열을 기준으로 그룹별로 'A', 'B' 열의 합계를 구하세요."
   ]
  },
  {
   "cell_type": "code",
   "execution_count": 5,
   "metadata": {},
   "outputs": [
    {
     "name": "stdout",
     "output_type": "stream",
     "text": [
      "        A    B\n",
      "Group         \n",
      "X      13   17\n",
      "Y      41  100\n",
      "Z      36   81\n"
     ]
    }
   ],
   "source": [
    "#데이터프레임:\n",
    "import pandas as pd\n",
    "df = pd.DataFrame({\n",
    "    'Group': ['X', 'X', 'Y', 'Y', 'Z'],\n",
    "    'A': [2, 3, 4, 5, 6],\n",
    "    'B': [1, 4, 6, 8, 9]\n",
    "})\n",
    "# A, B 열을 제곱한 후 그룹별로 합계 계산\n",
    "df[['A', 'B']] = df[['A', 'B']] ** 2\n",
    "result = df.groupby('Group')[['A', 'B']].sum()\n",
    "print(result)"
   ]
  }
 ],
 "metadata": {
  "kernelspec": {
   "display_name": "rapa3103",
   "language": "python",
   "name": "python3"
  },
  "language_info": {
   "codemirror_mode": {
    "name": "ipython",
    "version": 3
   },
   "file_extension": ".py",
   "mimetype": "text/x-python",
   "name": "python",
   "nbconvert_exporter": "python",
   "pygments_lexer": "ipython3",
   "version": "3.10.5"
  }
 },
 "nbformat": 4,
 "nbformat_minor": 2
}
