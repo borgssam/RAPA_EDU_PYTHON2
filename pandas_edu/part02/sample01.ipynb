{
 "cells": [
  {
   "cell_type": "markdown",
   "metadata": {},
   "source": [
    "csv파일읽기\n",
    "1 ./data/read_csv_sample.csv"
   ]
  },
  {
   "cell_type": "code",
   "execution_count": 4,
   "metadata": {},
   "outputs": [
    {
     "name": "stdout",
     "output_type": "stream",
     "text": [
      "    c1  c2  c3\n",
      "c0            \n",
      "0    1   4   7\n",
      "1    2   5   8\n",
      "2    3   6   9\n"
     ]
    }
   ],
   "source": [
    "import pandas as pd\n",
    "file_path = \"./data/read_csv_sample.csv\"\n",
    "\n",
    "df = pd.read_csv(file_path, index_col='c0')\n",
    "print(df)\n"
   ]
  },
  {
   "cell_type": "code",
   "execution_count": 8,
   "metadata": {},
   "outputs": [
    {
     "name": "stdout",
     "output_type": "stream",
     "text": [
      "    algol basic\n",
      "c++            \n",
      "B+      A     C\n",
      "C      A+     B\n",
      "C+      B    B+\n"
     ]
    }
   ],
   "source": [
    "import pandas as pd\n",
    "file_path = \"./data/df_sample_no_index.xlsx\"\n",
    "\n",
    "df = pd.read_excel(file_path, index_col='c++')\n",
    "print(df)"
   ]
  },
  {
   "cell_type": "code",
   "execution_count": 9,
   "metadata": {},
   "outputs": [
    {
     "name": "stdout",
     "output_type": "stream",
     "text": [
      "      Jerry Riah Paul\n",
      "algol     A   A+    B\n",
      "basic     C    B   B+\n",
      "c++      B+    C   C+\n"
     ]
    }
   ],
   "source": [
    "import pandas as pd\n",
    "file_path = \"./data/df_sample_index.json\"\n",
    "\n",
    "df = pd.read_json(file_path)\n",
    "print(df)"
   ]
  }
 ],
 "metadata": {
  "kernelspec": {
   "display_name": "rapa3103",
   "language": "python",
   "name": "python3"
  },
  "language_info": {
   "codemirror_mode": {
    "name": "ipython",
    "version": 3
   },
   "file_extension": ".py",
   "mimetype": "text/x-python",
   "name": "python",
   "nbconvert_exporter": "python",
   "pygments_lexer": "ipython3",
   "version": "3.10.5"
  }
 },
 "nbformat": 4,
 "nbformat_minor": 2
}
