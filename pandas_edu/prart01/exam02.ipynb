{
 "cells": [
  {
   "cell_type": "code",
   "execution_count": 5,
   "metadata": {},
   "outputs": [
    {
     "name": "stdout",
     "output_type": "stream",
     "text": [
      "    수학  영어   음악   체육\n",
      "이름                  \n",
      "서준  90  98   85  100\n",
      "우현  80  89   95   90\n",
      "인아  70  95  100   90\n"
     ]
    }
   ],
   "source": [
    "import pandas as pd\n",
    "# DataFrame() 함수로 데이터프레임 변환. 변수 df에 저장\n",
    "exam_data = {'이름' : [ '서준', '우현', '인아'],\n",
    "             '수학' : [ 90, 80, 70],\n",
    "             '영어' : [ 98, 89, 95],\n",
    "             '음악' : [ 85, 95, 100],\n",
    "             '체육' : [ 100, 90, 90]}\n",
    "org_df = pd.DataFrame(exam_data)\n",
    "# '이름' 열을 새로운 인덱스로 지정하고, df 객체에 변경사항 반영\n",
    "org_df = org_df.set_index('이름')\n",
    "print(org_df)"
   ]
  },
  {
   "cell_type": "markdown",
   "metadata": {},
   "source": [
    "문제 1: 특정 열 선택\n",
    "문제: 주어진 DataFrame에서 '영어' 점수만 선택하여 출력하는 코드를 작성하시오."
   ]
  },
  {
   "cell_type": "code",
   "execution_count": 6,
   "metadata": {},
   "outputs": [
    {
     "name": "stdout",
     "output_type": "stream",
     "text": [
      "이름\n",
      "서준    98\n",
      "우현    89\n",
      "인아    95\n",
      "Name: 영어, dtype: int64\n"
     ]
    }
   ],
   "source": [
    "\n",
    "df = org_df.copy()\n",
    "print(df['영어'])"
   ]
  },
  {
   "cell_type": "markdown",
   "metadata": {},
   "source": [
    "문제 2: 특정 행 선택\n",
    "문제: 주어진 DataFrame에서 '서준'의 모든 정보를 선택하여 출력하는 코드를 작성하시오."
   ]
  },
  {
   "cell_type": "code",
   "execution_count": 7,
   "metadata": {},
   "outputs": [
    {
     "name": "stdout",
     "output_type": "stream",
     "text": [
      "수학     90\n",
      "영어     98\n",
      "음악     85\n",
      "체육    100\n",
      "Name: 서준, dtype: int64\n"
     ]
    }
   ],
   "source": [
    "\n",
    "df = org_df.copy()\n",
    "print(df.loc['서준'])"
   ]
  },
  {
   "cell_type": "markdown",
   "metadata": {},
   "source": [
    "문제 3: 조건을 이용한 선택\n",
    "문제: 주어진 DataFrame에서 수학 점수가 85점 이상인 학생의 정보를 선택하여 출력하는 코드를 작성하시오."
   ]
  },
  {
   "cell_type": "code",
   "execution_count": 8,
   "metadata": {},
   "outputs": [
    {
     "name": "stdout",
     "output_type": "stream",
     "text": [
      "    수학  영어  음악   체육\n",
      "이름                 \n",
      "서준  90  98  85  100\n"
     ]
    }
   ],
   "source": [
    "\n",
    "df = org_df.copy()\n",
    "print(df[df['수학'] >= 85])"
   ]
  },
  {
   "cell_type": "markdown",
   "metadata": {},
   "source": [
    "문제 4: 새로운 열 추가\n",
    "문제: 주어진 DataFrame에 '총점'이라는 새로운 열을 추가하시오. '총점'은 각 학생의 수학, 영어, 음악, 체육 점수를 모두 더한 값으로 계산하시오."
   ]
  },
  {
   "cell_type": "code",
   "execution_count": 9,
   "metadata": {},
   "outputs": [
    {
     "name": "stdout",
     "output_type": "stream",
     "text": [
      "    수학  영어   음악   체육   총점\n",
      "이름                       \n",
      "서준  90  98   85  100  373\n",
      "우현  80  89   95   90  354\n",
      "인아  70  95  100   90  355\n"
     ]
    }
   ],
   "source": [
    "\n",
    "df = org_df.copy()\n",
    "df['총점'] = df['수학'] + df['영어'] + df['음악'] + df['체육']\n",
    "print(df)\n"
   ]
  },
  {
   "cell_type": "markdown",
   "metadata": {},
   "source": [
    "문제 5: 특정 열 삭제\n",
    "문제: 주어진 DataFrame에서 '음악' 점수를 삭제하는 코드를 작성하시오"
   ]
  },
  {
   "cell_type": "code",
   "execution_count": 10,
   "metadata": {},
   "outputs": [
    {
     "name": "stdout",
     "output_type": "stream",
     "text": [
      "    수학  영어   체육\n",
      "이름             \n",
      "서준  90  98  100\n",
      "우현  80  89   90\n",
      "인아  70  95   90\n"
     ]
    }
   ],
   "source": [
    "\n",
    "df = org_df.copy()\n",
    "df = df.drop(columns='음악')\n",
    "print(df)"
   ]
  },
  {
   "cell_type": "markdown",
   "metadata": {},
   "source": [
    "문제 6: 특정 값 수정\n",
    "문제: 주어진 DataFrame에서 '인아'의 체육 점수를 95점으로 수정하는 코드를 작성하시오."
   ]
  },
  {
   "cell_type": "code",
   "execution_count": 11,
   "metadata": {},
   "outputs": [
    {
     "name": "stdout",
     "output_type": "stream",
     "text": [
      "    수학  영어   음악   체육\n",
      "이름                  \n",
      "서준  90  98   85  100\n",
      "우현  80  89   95   90\n",
      "인아  70  95  100   95\n"
     ]
    }
   ],
   "source": [
    "\n",
    "df = org_df.copy()\n",
    "df.loc['인아', '체육'] = 95\n",
    "print(df)"
   ]
  },
  {
   "cell_type": "markdown",
   "metadata": {},
   "source": [
    "문제 7: 데이터프레임 복사\n",
    "문제: 주어진 DataFrame의 복사본을 만들고, 복사본의 '수학' 점수를 모두 100으로 수정하는 코드를 작성하시오. 원본 DataFrame에는 영향을 주지 않도록 하시오."
   ]
  },
  {
   "cell_type": "code",
   "execution_count": 12,
   "metadata": {},
   "outputs": [
    {
     "name": "stdout",
     "output_type": "stream",
     "text": [
      "     수학  영어   음악   체육\n",
      "이름                   \n",
      "서준  100  98   85  100\n",
      "우현  100  89   95   90\n",
      "인아  100  95  100   90\n",
      "    수학  영어   음악   체육\n",
      "이름                  \n",
      "서준  90  98   85  100\n",
      "우현  80  89   95   90\n",
      "인아  70  95  100   95\n"
     ]
    }
   ],
   "source": [
    "df_copy = org_df.copy()\n",
    "df_copy['수학'] = 100\n",
    "print(df_copy)\n",
    "print(df)  # 원본 DataFrame 확인\n"
   ]
  },
  {
   "cell_type": "markdown",
   "metadata": {},
   "source": [
    "문제 8: 여러 행 선택\n",
    "문제: 주어진 DataFrame에서 '서준'과 '인아'의 정보를 선택하여 출력하는 코드를 작성하시오"
   ]
  },
  {
   "cell_type": "code",
   "execution_count": 13,
   "metadata": {},
   "outputs": [
    {
     "name": "stdout",
     "output_type": "stream",
     "text": [
      "    수학  영어   음악   체육\n",
      "이름                  \n",
      "서준  90  98   85  100\n",
      "인아  70  95  100   90\n"
     ]
    }
   ],
   "source": [
    "\n",
    "df = org_df.copy()\n",
    "print(df.loc[['서준', '인아']])\n"
   ]
  },
  {
   "cell_type": "markdown",
   "metadata": {},
   "source": [
    "문제 9: 다중 조건 선택\n",
    "문제: 주어진 DataFrame에서 영어 점수가 90점 이상이고 체육 점수가 90점인 학생의 정보를 선택하여 출력하는 코드를 작성하시오."
   ]
  },
  {
   "cell_type": "code",
   "execution_count": 14,
   "metadata": {},
   "outputs": [
    {
     "name": "stdout",
     "output_type": "stream",
     "text": [
      "    수학  영어   음악   체육\n",
      "이름                  \n",
      "서준  90  98   85  100\n",
      "인아  70  95  100   90\n"
     ]
    }
   ],
   "source": [
    "\n",
    "df = org_df.copy()\n",
    "print(df[(df['영어'] >= 90) & (df['체육'] >= 90)])\n"
   ]
  },
  {
   "cell_type": "markdown",
   "metadata": {},
   "source": [
    "문제 10: 인덱스를 기준으로 행 추가\n",
    "문제: 주어진 DataFrame에 '정수'라는 이름의 학생을 추가하시오. 정수의 점수는 수학 75, 영어 85, 음악 90, 체육 80으로 설정하시오."
   ]
  },
  {
   "cell_type": "code",
   "execution_count": 15,
   "metadata": {},
   "outputs": [
    {
     "name": "stdout",
     "output_type": "stream",
     "text": [
      "    수학  영어   음악   체육\n",
      "이름                  \n",
      "서준  90  98   85  100\n",
      "우현  80  89   95   90\n",
      "인아  70  95  100   90\n",
      "정수  75  85   90   80\n"
     ]
    }
   ],
   "source": [
    "\n",
    "df = org_df.copy()\n",
    "df.loc['정수'] = [75, 85, 90, 80]  # 각 과목의 점수를 리스트로 추가\n",
    "print(df)"
   ]
  }
 ],
 "metadata": {
  "kernelspec": {
   "display_name": "rapa3103",
   "language": "python",
   "name": "python3"
  },
  "language_info": {
   "codemirror_mode": {
    "name": "ipython",
    "version": 3
   },
   "file_extension": ".py",
   "mimetype": "text/x-python",
   "name": "python",
   "nbconvert_exporter": "python",
   "pygments_lexer": "ipython3",
   "version": "3.10.5"
  }
 },
 "nbformat": 4,
 "nbformat_minor": 2
}
