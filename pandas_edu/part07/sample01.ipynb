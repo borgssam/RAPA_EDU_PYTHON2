{
 "cells": [
  {
   "cell_type": "code",
   "execution_count": 5,
   "metadata": {},
   "outputs": [
    {
     "name": "stdout",
     "output_type": "stream",
     "text": [
      "기울기 (slope): 1.0\n",
      "절편 (intercept): 1.0\n",
      "[6. 7. 8. 9.]\n"
     ]
    }
   ],
   "source": [
    "from sklearn.linear_model import LinearRegression\n",
    "import numpy as np\n",
    " \n",
    "# 데이터 준비\n",
    "X = np.array([[1], [2], [3], [4]])\n",
    "y = np.array([2, 3, 4,5])\n",
    "# 모델 학습\n",
    "model = LinearRegression()\n",
    "model.fit(X, y)\n",
    "\n",
    "# 기울기(회귀계수)와 절편 구하기\n",
    "slope = model.coef_[0]\n",
    "intercept = model.intercept_\n",
    "\n",
    "print(f\"기울기 (slope): {slope}\")\n",
    "print(f\"절편 (intercept): {intercept}\")\n",
    "\n",
    "# 예측\n",
    "X2 = np.array([[5], [6], [7], [8]])\n",
    "y_pred = model.predict(X2)\n",
    "print(y_pred)"
   ]
  },
  {
   "cell_type": "code",
   "execution_count": 11,
   "metadata": {},
   "outputs": [
    {
     "name": "stdout",
     "output_type": "stream",
     "text": [
      "[ 1.  4.  9. 16.]\n",
      "[ 1.21  4.41  9.61 16.81]\n",
      "다항식 계수 (기울기): [0.00000000e+00 2.10942375e-15 1.00000000e+00]\n",
      "다항식 절편: 0.0\n"
     ]
    }
   ],
   "source": [
    "from sklearn.preprocessing import PolynomialFeatures\n",
    "from sklearn.linear_model import LinearRegression\n",
    "import numpy as np\n",
    " \n",
    "X = np.array([[1], [2], [3], [4]]) # 데이터 준비\n",
    "X2 = np.array([[1.1],[2.1],[3.1],[4.1]]) # 데이터 준비\n",
    "\n",
    "\n",
    "y = np.array([1, 4, 9, 16])\n",
    "poly = PolynomialFeatures(degree=2) # 다항 특징 생성\n",
    "X_poly = poly.fit_transform(X)\n",
    "model = LinearRegression() # 모델 학습\n",
    "model.fit(X_poly, y)\n",
    "\n",
    "poly2 = PolynomialFeatures(degree=2) # 다항 특징 생성\n",
    "X_poly2 = poly2.fit_transform(X2)\n",
    "\n",
    "\n",
    "y_pred = model.predict(X_poly) # 예측\n",
    "print(y_pred)\n",
    "\n",
    "y_pred2 = model.predict(X_poly2) # 예측\n",
    "print(y_pred2)\n",
    "\n",
    "# 다항식의 계수와 절편 출력\n",
    "coef = model.coef_  # 다항식의 계수\n",
    "intercept = model.intercept_  # 절편\n",
    "\n",
    "print(f\"다항식 계수 (기울기): {coef}\")\n",
    "print(f\"다항식 절편: {intercept}\")"
   ]
  }
 ],
 "metadata": {
  "kernelspec": {
   "display_name": "rapa3103",
   "language": "python",
   "name": "python3"
  },
  "language_info": {
   "codemirror_mode": {
    "name": "ipython",
    "version": 3
   },
   "file_extension": ".py",
   "mimetype": "text/x-python",
   "name": "python",
   "nbconvert_exporter": "python",
   "pygments_lexer": "ipython3",
   "version": "3.10.5"
  }
 },
 "nbformat": 4,
 "nbformat_minor": 2
}
