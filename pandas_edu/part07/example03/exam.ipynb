{
 "cells": [
  {
   "cell_type": "markdown",
   "metadata": {},
   "source": [
    "3. 영화 추천 시스템 구축\n",
    "목표: 사용자 데이터를 기반으로 영화 추천 시스템을 개발한다.\n",
    "데이터: movies.csv ratings.csv\n",
    "\n",
    "미션 내용:\n",
    "데이터 분석: 영화 평점 데이터를 로드하고 분석한다.\n",
    "기술 분석: 특정 영화의 평균 평점, 장르별 선호도 등을 pandas로 분석하여 시각화한다.\n",
    "협업 필터링: 사용자 기반 또는 아이템 기반의 협업 필터링 알고리즘을 구현한다.\n",
    "성능 평가: RMSE, MAE 등의 지표로 추천 시스템의 성능을 평가한다."
   ]
  },
  {
   "cell_type": "code",
   "execution_count": 1,
   "metadata": {},
   "outputs": [
    {
     "name": "stdout",
     "output_type": "stream",
     "text": [
      "movies.csv 파일 생성 완료!\n",
      "ratings.csv 파일 생성 완료!\n",
      "\n",
      "장르별 평균 평점:\n",
      "    genres    rating\n",
      "0   Action  4.009443\n",
      "1   Comedy  1.993260\n",
      "2    Drama  2.502664\n",
      "3   Horror  3.015875\n",
      "4  Romance  3.282259\n"
     ]
    }
   ],
   "source": [
    "import pandas as pd\n",
    "import numpy as np\n",
    "import os\n",
    "\n",
    "# data 디렉토리 생성\n",
    "if not os.path.exists('./data'):\n",
    "    os.makedirs('./data')\n",
    "\n",
    "# 각 장르에 따른 평점 범위를 지정 (Action은 높은 평점, Drama는 낮은 평점 등)\n",
    "genre_rating_ranges = {\n",
    "    'Action': (3.0, 5.0),\n",
    "    'Comedy': (1.5, 2.5),\n",
    "    'Drama': (1.5, 3.5),\n",
    "    'Horror': (2.0, 4.0),\n",
    "    'Romance': (2.0, 4.5)\n",
    "}\n",
    "\n",
    "# movies.csv 데이터 생성\n",
    "movies_data = {\n",
    "    'movieId': np.arange(1, 2000),\n",
    "    'title': [f'Movie {i}' for i in range(1, 2000)],\n",
    "    'genres': np.random.choice(list(genre_rating_ranges.keys()), size=1999)\n",
    "}\n",
    "\n",
    "movies_df = pd.DataFrame(movies_data)\n",
    "movies_df.to_csv('./data/movies.csv', index=False)\n",
    "print(\"movies.csv 파일 생성 완료!\")\n",
    "\n",
    "# ratings.csv 데이터 생성\n",
    "ratings_data = {\n",
    "    'userId': np.random.randint(1, 1000, size=10000),\n",
    "    'movieId': np.random.randint(1, 2000, size=10000),\n",
    "}\n",
    "\n",
    "ratings_df = pd.DataFrame(ratings_data)\n",
    "\n",
    "# 각 영화의 장르에 따라 평점 분포를 조정하여 평점 생성\n",
    "def generate_rating(movieId):\n",
    "    genre = movies_df[movies_df['movieId'] == movieId]['genres'].values[0]\n",
    "    low, high = genre_rating_ranges[genre]\n",
    "    return np.random.uniform(low, high)\n",
    "\n",
    "ratings_df['rating'] = ratings_df['movieId'].apply(generate_rating)\n",
    "ratings_df['timestamp'] = np.random.randint(1_000_000_000, 1_100_000_000, size=10000)\n",
    "\n",
    "ratings_df.to_csv('./data/ratings.csv', index=False)\n",
    "print(\"ratings.csv 파일 생성 완료!\")\n",
    "\n",
    "# 장르별 선호도 분석\n",
    "genre_data = ratings_df.merge(movies_df, on='movieId')  # ratings와 movies 데이터프레임을 병합\n",
    "genre_preferences = genre_data.groupby('genres')['rating'].mean().reset_index()\n",
    "\n",
    "print(\"\\n장르별 평균 평점:\")\n",
    "print(genre_preferences)\n"
   ]
  },
  {
   "cell_type": "markdown",
   "metadata": {},
   "source": [
    "1. 데이터 분석\n",
    "먼저, 제공된 ratings.csv와 movies.csv 파일을 로드하고 특정 영화의 평균 평점 및 장르별 선호도를 분석합니다."
   ]
  },
  {
   "cell_type": "code",
   "execution_count": 2,
   "metadata": {},
   "outputs": [
    {
     "name": "stdout",
     "output_type": "stream",
     "text": [
      "Movie 1의 평균 평점: 4.08\n",
      "\n",
      "장르별 평균 평점:\n",
      "    genres    rating\n",
      "0   Action  4.009443\n",
      "1   Comedy  1.993260\n",
      "2    Drama  2.502664\n",
      "3   Horror  3.015875\n",
      "4  Romance  3.282259\n"
     ]
    }
   ],
   "source": [
    "import pandas as pd\n",
    "from sklearn.metrics.pairwise import cosine_similarity\n",
    "\n",
    "# CSV 파일 불러오기\n",
    "ratings = pd.read_csv('./data/ratings.csv')  # 평점 데이터\n",
    "movies = pd.read_csv('./data/movies.csv')    # 영화 데이터\n",
    "\n",
    "# 특정 영화의 평균 평점 계산 (실제 존재하는 영화 제목 사용)\n",
    "movie_title = 'Movie 1'  # 실제 존재하는 제목\n",
    "\n",
    "# 해당 영화 ID 가져오기\n",
    "movie_id_series = movies[movies['title'] == movie_title]['movieId']\n",
    "\n",
    "if not movie_id_series.empty:\n",
    "    movie_id = movie_id_series.values[0]  # 영화 ID 가져오기\n",
    "    average_rating = ratings[ratings['movieId'] == movie_id]['rating'].mean()  # 평균 평점 계산\n",
    "    print(f\"{movie_title}의 평균 평점: {average_rating:.2f}\")\n",
    "else:\n",
    "    print(f\"{movie_title}이(가) movies 데이터프레임에 존재하지 않습니다.\")\n",
    "\n",
    "# 장르별 선호도 분석\n",
    "genre_data = ratings.merge(movies, on='movieId')  # ratings와 movies 데이터프레임을 병합\n",
    "genre_preferences = genre_data.groupby('genres')['rating'].mean().reset_index()\n",
    "\n",
    "print(\"\\n장르별 평균 평점:\")\n",
    "print(genre_preferences)\n"
   ]
  },
  {
   "cell_type": "markdown",
   "metadata": {},
   "source": [
    "2. 시각화 (Matplotlib, Seaborn 활용)"
   ]
  },
  {
   "cell_type": "code",
   "execution_count": 3,
   "metadata": {},
   "outputs": [
    {
     "data": {
      "image/png": "[encoded data removed]",
      "text/plain": [
       "<Figure size 1000x600 with 1 Axes>"
      ]
     },
     "metadata": {},
     "output_type": "display_data"
    }
   ],
   "source": [
    "import matplotlib.pyplot as plt\n",
    "import seaborn as sns\n",
    "\n",
    "# 한글 폰트 설정 (필요 시)\n",
    "plt.rc('font', family='NanumGothic')\n",
    "\n",
    "# 장르별 선호도 그래프\n",
    "plt.figure(figsize=(10, 6))\n",
    "sns.barplot(x='genres', y='rating', data=genre_preferences.sort_values(by='rating', ascending=False))\n",
    "plt.title(\"장르별 평균 평점\")\n",
    "plt.xlabel(\"장르\")\n",
    "plt.ylabel(\"평균 평점\")\n",
    "plt.show()\n"
   ]
  },
  {
   "cell_type": "markdown",
   "metadata": {},
   "source": [
    "3. 협업 필터링 기반 영화 추천 (코사인 유사도 사용)"
   ]
  },
  {
   "cell_type": "code",
   "execution_count": 4,
   "metadata": {},
   "outputs": [
    {
     "name": "stdout",
     "output_type": "stream",
     "text": [
      "\n",
      "추천 영화:\n",
      "           title   genres\n",
      "293    Movie 294   Action\n",
      "482    Movie 483   Comedy\n",
      "1306  Movie 1307  Romance\n",
      "1699  Movie 1700    Drama\n",
      "1813  Movie 1814   Action\n"
     ]
    }
   ],
   "source": [
    "import pandas as pd\n",
    "from sklearn.metrics.pairwise import cosine_similarity\n",
    "\n",
    "# 중복된 (userId, movieId) 조합에 대해 평균 평점 계산\n",
    "ratings_unique = ratings.groupby(['userId', 'movieId']).agg({'rating': 'mean'}).reset_index()\n",
    "\n",
    "# 영화-사용자 행렬 생성\n",
    "movie_user_matrix = ratings_unique.pivot(index='movieId', columns='userId', values='rating').fillna(0)\n",
    "\n",
    "# 코사인 유사도 계산\n",
    "similarity_matrix = cosine_similarity(movie_user_matrix)\n",
    "\n",
    "# DataFrame으로 변환\n",
    "similarity_df = pd.DataFrame(similarity_matrix, index=movie_user_matrix.index, columns=movie_user_matrix.index)\n",
    "\n",
    "# 특정 영화에 대한 추천 영화 찾기 (예: 'Movie 1')\n",
    "movie_id = movies[movies['title'] == movie_title]['movieId'].values[0]\n",
    "similar_movies = similarity_df[movie_id].sort_values(ascending=False)[1:6]  # 상위 5개 영화 추천\n",
    "\n",
    "# 추천 영화 출력\n",
    "recommended_movie_ids = similar_movies.index\n",
    "recommended_movies = movies[movies['movieId'].isin(recommended_movie_ids)]\n",
    "\n",
    "print(\"\\n추천 영화:\")\n",
    "print(recommended_movies[['title', 'genres']])\n"
   ]
  }
 ],
 "metadata": {
  "kernelspec": {
   "display_name": "rapa3103",
   "language": "python",
   "name": "python3"
  },
  "language_info": {
   "codemirror_mode": {
    "name": "ipython",
    "version": 3
   },
   "file_extension": ".py",
   "mimetype": "text/x-python",
   "name": "python",
   "nbconvert_exporter": "python",
   "pygments_lexer": "ipython3",
   "version": "3.10.5"
  }
 },
 "nbformat": 4,
 "nbformat_minor": 2
}
