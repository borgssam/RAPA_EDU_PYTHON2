{
 "cells": [
  {
   "cell_type": "markdown",
   "metadata": {},
   "source": [
    "문제 1: 다중 인덱스 평균 계산\n",
    "Category와 Subcategory를 인덱스로 설정한 후, 각 그룹의 평균값을 계산하시오.\n",
    "[결과]\n",
    "                      Value\n",
    "Category Subcategory       \n",
    "A        X             10.0\n",
    "         Y             20.0\n",
    "B        X             30.0\n",
    "         Y             40.0"
   ]
  },
  {
   "cell_type": "code",
   "execution_count": 21,
   "metadata": {},
   "outputs": [],
   "source": [
    "import pandas as pd\n",
    "\n",
    "data = {\n",
    "    'Category': ['A', 'A', 'B', 'B'],\n",
    "    'Subcategory': ['X', 'Y', 'X', 'Y'],\n",
    "    'Value': [10, 20, 30, 40]\n",
    "}\n",
    "df = pd.DataFrame(data)\n"
   ]
  },
  {
   "cell_type": "code",
   "execution_count": 22,
   "metadata": {},
   "outputs": [
    {
     "name": "stdout",
     "output_type": "stream",
     "text": [
      "                      Value\n",
      "Category Subcategory       \n",
      "A        X             10.0\n",
      "         Y             20.0\n",
      "B        X             30.0\n",
      "         Y             40.0\n"
     ]
    }
   ],
   "source": [
    "# 다중 인덱스 설정\n",
    "df.set_index(['Category', 'Subcategory'], inplace=True)\n",
    "\n",
    "# 그룹별 평균 계산\n",
    "result = df.groupby(level=[0, 1]).mean()\n",
    "print(result)\n"
   ]
  },
  {
   "cell_type": "markdown",
   "metadata": {},
   "source": [
    "문제 2: 결측치 평균 대체\n",
    "결측치가 포함되어 있으니, 결측치를 해당 열의 평균값으로 대체하고 최종 DataFrame을 출력하시오.\n",
    "[결과]\n",
    "      Name  Score\n",
    "0     John   90.0\n",
    "1    Alice   85.0\n",
    "2      Bob   80.0\n",
    "3  Charlie   85.0"
   ]
  },
  {
   "cell_type": "code",
   "execution_count": 23,
   "metadata": {},
   "outputs": [],
   "source": [
    "import pandas as pd\n",
    "import numpy as np\n",
    "\n",
    "data = {\n",
    "    'Name': ['John', 'Alice', 'Bob', 'Charlie'],\n",
    "    'Score': [90, np.nan, 80, np.nan]\n",
    "}\n",
    "df = pd.DataFrame(data)\n"
   ]
  },
  {
   "cell_type": "code",
   "execution_count": 24,
   "metadata": {},
   "outputs": [
    {
     "name": "stdout",
     "output_type": "stream",
     "text": [
      "      Name  Score\n",
      "0     John   90.0\n",
      "1    Alice   85.0\n",
      "2      Bob   80.0\n",
      "3  Charlie   85.0\n"
     ]
    }
   ],
   "source": [
    "# 결측치를 평균으로 대체\n",
    "# df['Score'].fillna(df['Score'].mean(), inplace=True)  # 기존 방식\n",
    "df['Score'] = df['Score'].fillna(df['Score'].mean())  # 수정된 방식\n",
    "print(df)\n"
   ]
  },
  {
   "cell_type": "markdown",
   "metadata": {},
   "source": [
    "문제 3: 지역별 매출 총합\n",
    "문제:\n",
    "다음 데이터에서 DataFrame df을 이용하시오. 각 Region별로 매출의 총합을 계산하시오.\n",
    "[결과]\n",
    "Region\n",
    "East    350\n",
    "West    400\n",
    "Name: Sales, dtype: int64\n",
    "\n"
   ]
  },
  {
   "cell_type": "code",
   "execution_count": 25,
   "metadata": {},
   "outputs": [],
   "source": [
    "import pandas as pd\n",
    "\n",
    "data = {\n",
    "    'Region': ['East', 'West', 'East', 'West'],\n",
    "    'Sales': [200, 300, 150, 100]\n",
    "}\n",
    "df = pd.DataFrame(data)\n"
   ]
  },
  {
   "cell_type": "code",
   "execution_count": 26,
   "metadata": {},
   "outputs": [
    {
     "name": "stdout",
     "output_type": "stream",
     "text": [
      "Region\n",
      "East    350\n",
      "West    400\n",
      "Name: Sales, dtype: int64\n"
     ]
    }
   ],
   "source": [
    "# Region별 매출 총합 계산\n",
    "result = df.groupby('Region')['Sales'].sum()\n",
    "print(result)\n"
   ]
  },
  {
   "cell_type": "markdown",
   "metadata": {},
   "source": [
    "문제 4: 이메일 도메인 추출\n",
    "문제:\n",
    "다음 데이터에서 DataFrame df을 이용하시오. 이메일 주소에서 도메인 부분만 추출하여 새로운 컬럼 Domain을 추가하시오.\n",
    "[결과]\n",
    "       Name              Email         Domain\n",
    "0  John Doe   john@example.com     example.com\n",
    "1     Alice    alice@example.com     example.com\n",
    "2       Bob      bob@example.com     example.com"
   ]
  },
  {
   "cell_type": "code",
   "execution_count": 27,
   "metadata": {},
   "outputs": [],
   "source": [
    "import pandas as pd\n",
    "\n",
    "data = {\n",
    "    'Name': ['John Doe', 'Alice', 'Bob'],\n",
    "    'Email': ['john@example.com', 'alice@example.com', 'bob@example.com']\n",
    "}\n",
    "df = pd.DataFrame(data)\n"
   ]
  },
  {
   "cell_type": "code",
   "execution_count": 28,
   "metadata": {},
   "outputs": [
    {
     "name": "stdout",
     "output_type": "stream",
     "text": [
      "       Name              Email       Domain\n",
      "0  John Doe   john@example.com  example.com\n",
      "1     Alice  alice@example.com  example.com\n",
      "2       Bob    bob@example.com  example.com\n"
     ]
    }
   ],
   "source": [
    "# 도메인 추출\n",
    "df['Domain'] = df['Email'].apply(lambda x: x.split('@')[1])\n",
    "print(df)\n"
   ]
  },
  {
   "cell_type": "markdown",
   "metadata": {},
   "source": [
    "문제 5: 시계열 데이터 주 단위 리샘플링\n",
    "문제:\n",
    "다음 데이터에서 DataFrame df을 이용하시오. 각 날짜에 해당하는 데이터를 합산한 후 주 단위로 리샘플링하여 결과를 출력하시오.\n",
    "[결과]\n",
    "            Sales\n",
    "Date             \n",
    "2024-01-07    250\n",
    "2024-01-14    300\n",
    "2024-01-21      0\n"
   ]
  },
  {
   "cell_type": "code",
   "execution_count": 29,
   "metadata": {},
   "outputs": [],
   "source": [
    "import pandas as pd\n",
    "\n",
    "data = {\n",
    "    'Date': ['2024-01-01', '2024-01-02', '2024-01-08', '2024-01-15'],\n",
    "    'Sales': [100, 150, 200, 300]\n",
    "}\n",
    "df = pd.DataFrame(data)"
   ]
  },
  {
   "cell_type": "code",
   "execution_count": 30,
   "metadata": {},
   "outputs": [
    {
     "name": "stdout",
     "output_type": "stream",
     "text": [
      "            Sales\n",
      "Date             \n",
      "2024-01-07    250\n",
      "2024-01-14    200\n",
      "2024-01-21    300\n"
     ]
    }
   ],
   "source": [
    "df['Date'] = pd.to_datetime(df['Date'])\n",
    "df.set_index('Date', inplace=True)\n",
    "\n",
    "# 주 단위로 리샘플링하여 합산\n",
    "result = df.resample('W').sum()\n",
    "print(result)"
   ]
  },
  {
   "cell_type": "markdown",
   "metadata": {},
   "source": [
    "문제 6: 데이터 병합\n",
    "문제:\n",
    "다음 데이터에서 DataFrame df1과 df2을 이용하시오. ID를 기준으로 병합하여 새로운 DataFrame을 생성하시오.\n",
    "[결과]\n",
    "   ID   Name  Score\n",
    "0   1   John     90\n",
    "1   2  Alice     85\n"
   ]
  },
  {
   "cell_type": "code",
   "execution_count": 31,
   "metadata": {},
   "outputs": [],
   "source": [
    "import pandas as pd\n",
    "\n",
    "df1 = pd.DataFrame({\n",
    "    'ID': [1, 2],\n",
    "    'Name': ['John', 'Alice']\n",
    "})\n",
    "\n",
    "df2 = pd.DataFrame({\n",
    "    'ID': [1, 2],\n",
    "    'Score': [90, 85]\n",
    "})\n"
   ]
  },
  {
   "cell_type": "code",
   "execution_count": 32,
   "metadata": {},
   "outputs": [
    {
     "name": "stdout",
     "output_type": "stream",
     "text": [
      "   ID   Name  Score\n",
      "0   1   John     90\n",
      "1   2  Alice     85\n"
     ]
    }
   ],
   "source": [
    "# ID를 기준으로 병합\n",
    "result = pd.merge(df1, df2, on='ID')\n",
    "print(result)\n"
   ]
  },
  {
   "cell_type": "markdown",
   "metadata": {},
   "source": [
    "문제 7: 문자열 필터링\n",
    "문제:\n",
    "다음 데이터에서 DataFrame df을 이용하시오. Name 컬럼에서 'A'로 시작하는 이름만 필터링하여 새로운 DataFrame을 생성하시오.\n",
    "[결과]\n",
    "    Name  Age\n",
    "1  Alice   30\n",
    "3    Ann   25"
   ]
  },
  {
   "cell_type": "code",
   "execution_count": 33,
   "metadata": {},
   "outputs": [],
   "source": [
    "import pandas as pd\n",
    "\n",
    "data = {\n",
    "    'Name': ['John', 'Alice', 'Bob', 'Ann'],\n",
    "    'Age': [23, 30, 22, 25]\n",
    "}\n",
    "df = pd.DataFrame(data)"
   ]
  },
  {
   "cell_type": "code",
   "execution_count": 34,
   "metadata": {},
   "outputs": [
    {
     "name": "stdout",
     "output_type": "stream",
     "text": [
      "    Name  Age\n",
      "1  Alice   30\n",
      "3    Ann   25\n"
     ]
    }
   ],
   "source": [
    "# 'A'로 시작하는 이름 필터링\n",
    "result = df[df['Name'].str.startswith('A')]\n",
    "print(result)"
   ]
  },
  {
   "cell_type": "markdown",
   "metadata": {},
   "source": [
    "문제 8: 특정 조건의 필터링\n",
    "다음 데이터에서 DataFrame df을 이용하시오. Score가 85 이상인 데이터만 추출하시오.\n",
    "[결과]\n",
    "      Name  Score\n",
    "0     John     90\n",
    "1    Alice     85\n",
    "3  Charlie     95"
   ]
  },
  {
   "cell_type": "code",
   "execution_count": 35,
   "metadata": {},
   "outputs": [],
   "source": [
    "import pandas as pd\n",
    "\n",
    "data = {\n",
    "    'Name': ['John', 'Alice', 'Bob', 'Charlie'],\n",
    "    'Score': [90, 85, 80, 95]\n",
    "}\n",
    "df = pd.DataFrame(data)\n"
   ]
  },
  {
   "cell_type": "code",
   "execution_count": 36,
   "metadata": {},
   "outputs": [
    {
     "name": "stdout",
     "output_type": "stream",
     "text": [
      "      Name  Score\n",
      "0     John     90\n",
      "1    Alice     85\n",
      "3  Charlie     95\n"
     ]
    }
   ],
   "source": [
    "# Score가 85 이상인 데이터 필터링\n",
    "result = df[df['Score'] >= 85]\n",
    "print(result)\n"
   ]
  },
  {
   "cell_type": "markdown",
   "metadata": {},
   "source": [
    "문제 9: 컬럼 추가\n",
    "문제:\n",
    "다음 데이터에서 DataFrame df을 이용하시오. Score 컬럼의 값에 5를 더한 새로운 컬럼 Adjusted Score를 추가하시오.\n",
    "[결과]\n",
    "    Name  Score  Adjusted Score\n",
    "0   John     90              95\n",
    "1  Alice     85              90\n",
    "2    Bob     80              85"
   ]
  },
  {
   "cell_type": "code",
   "execution_count": 37,
   "metadata": {},
   "outputs": [],
   "source": [
    "import pandas as pd\n",
    "\n",
    "data = {\n",
    "    'Name': ['John', 'Alice', 'Bob'],\n",
    "    'Score': [90, 85, 80]\n",
    "}\n",
    "df = pd.DataFrame(data)\n"
   ]
  },
  {
   "cell_type": "code",
   "execution_count": 38,
   "metadata": {},
   "outputs": [
    {
     "name": "stdout",
     "output_type": "stream",
     "text": [
      "    Name  Score  Adjusted Score\n",
      "0   John     90              95\n",
      "1  Alice     85              90\n",
      "2    Bob     80              85\n"
     ]
    }
   ],
   "source": [
    "# Adjusted Score 컬럼 추가\n",
    "df['Adjusted Score'] = df['Score'] + 5\n",
    "print(df)\n"
   ]
  },
  {
   "cell_type": "markdown",
   "metadata": {},
   "source": [
    "문제 10: 특정 값으로 데이터 대체\n",
    "문제:\n",
    "다음 데이터에서 DataFrame df을 이용하시오. Score가 80 이하인 값은 80으로 대체하시오.\n",
    "[결과]\n",
    "      Name  Score\n",
    "0     John     90\n",
    "1    Alice     80\n",
    "2      Bob     80\n",
    "3  Charlie     80"
   ]
  },
  {
   "cell_type": "code",
   "execution_count": 39,
   "metadata": {},
   "outputs": [],
   "source": [
    "import pandas as pd\n",
    "\n",
    "data = {\n",
    "    'Name': ['John', 'Alice', 'Bob', 'Charlie'],\n",
    "    'Score': [90, 75, 80, 70]\n",
    "}\n",
    "df = pd.DataFrame(data)\n"
   ]
  },
  {
   "cell_type": "code",
   "execution_count": 40,
   "metadata": {},
   "outputs": [
    {
     "name": "stdout",
     "output_type": "stream",
     "text": [
      "      Name  Score\n",
      "0     John     90\n",
      "1    Alice     80\n",
      "2      Bob     80\n",
      "3  Charlie     80\n"
     ]
    }
   ],
   "source": [
    "# Score가 80 이하인 값 80으로 대체\n",
    "df['Score'] = df['Score'].replace({75: 80, 70: 80})\n",
    "print(df)\n"
   ]
  }
 ],
 "metadata": {
  "kernelspec": {
   "display_name": "rapa310",
   "language": "python",
   "name": "python3"
  },
  "language_info": {
   "codemirror_mode": {
    "name": "ipython",
    "version": 3
   },
   "file_extension": ".py",
   "mimetype": "text/x-python",
   "name": "python",
   "nbconvert_exporter": "python",
   "pygments_lexer": "ipython3",
   "version": "3.10.5"
  }
 },
 "nbformat": 4,
 "nbformat_minor": 2
}
