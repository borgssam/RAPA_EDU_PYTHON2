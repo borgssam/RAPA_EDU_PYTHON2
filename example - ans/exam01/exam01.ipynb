{
 "cells": [
  {
   "cell_type": "markdown",
   "metadata": {},
   "source": [
    "1. 이상치 처리 문제\n",
    "문제 1:\n",
    "주어진 데이터에서 변수 'age'의 값이 0보다 작은 경우는 이상치로 간주한다. 이를 모두 제거하고 결과를 출력하라."
   ]
  },
  {
   "cell_type": "code",
   "execution_count": 1,
   "metadata": {},
   "outputs": [
    {
     "name": "stdout",
     "output_type": "stream",
     "text": [
      "원본 데이터프레임:\n",
      "       name  age\n",
      "0    Alice   25\n",
      "1      Bob   -5\n",
      "2  Charlie   35\n",
      "3    David   45\n",
      "이상치 제거 후 데이터:\n",
      "       name  age\n",
      "0    Alice   25\n",
      "2  Charlie   35\n",
      "3    David   45\n"
     ]
    }
   ],
   "source": [
    "import pandas as pd\n",
    "\n",
    "data = {'name': ['Alice', 'Bob', 'Charlie', 'David'],\n",
    "        'age': [25, -5, 35, 45]}\n",
    "\n",
    "df = pd.DataFrame(data)\n",
    "print(\"원본 데이터프레임:\\n\", df)\n",
    "\n",
    "# 이상치 제거\n",
    "df_cleaned = df[df['age'] >= 0]\n",
    "print(\"이상치 제거 후 데이터:\\n\", df_cleaned)\n"
   ]
  },
  {
   "cell_type": "markdown",
   "metadata": {},
   "source": [
    "문제 2:\n",
    "주어진 데이터에서 'salary'가 10,000보다 큰 값은 이상치로 간주한다. 이러한 값들을 모두 10,000으로 수정하고 결과를 출력하라."
   ]
  },
  {
   "cell_type": "code",
   "execution_count": 2,
   "metadata": {},
   "outputs": [
    {
     "name": "stdout",
     "output_type": "stream",
     "text": [
      "원본 데이터프레임:\n",
      "       name  salary\n",
      "0    Alice    8000\n",
      "1      Bob   12000\n",
      "2  Charlie    9500\n",
      "3    David   15000\n",
      "이상치 처리 후 데이터:\n",
      "       name  salary\n",
      "0    Alice    8000\n",
      "1      Bob   10000\n",
      "2  Charlie    9500\n",
      "3    David   10000\n"
     ]
    }
   ],
   "source": [
    "import pandas as pd\n",
    "\n",
    "data = {'name': ['Alice', 'Bob', 'Charlie', 'David'],\n",
    "        'salary': [8000, 12000, 9500, 15000]}\n",
    "\n",
    "df = pd.DataFrame(data)\n",
    "print(\"원본 데이터프레임:\\n\", df)\n",
    "\n",
    "# 이상치 처리\n",
    "df['salary'] = df['salary'].apply(lambda x: 10000 if x > 10000 else x)\n",
    "print(\"이상치 처리 후 데이터:\\n\", df)\n"
   ]
  },
  {
   "cell_type": "markdown",
   "metadata": {},
   "source": [
    "문제 3:\n",
    "'temperature' 열에서 2표준편차를 벗어나는 값을 이상치로 간주하고, 이를 제거하라."
   ]
  },
  {
   "cell_type": "code",
   "execution_count": 20,
   "metadata": {},
   "outputs": [
    {
     "name": "stdout",
     "output_type": "stream",
     "text": [
      "원본 데이터프레임:\n",
      "    temperature\n",
      "0         22.5\n",
      "1         23.0\n",
      "2         24.5\n",
      "3         19.0\n",
      "4        300.0\n",
      "5         21.5\n",
      "이상치 제거 후 데이터:\n",
      "    temperature\n",
      "0         22.5\n",
      "1         23.0\n",
      "2         24.5\n",
      "3         19.0\n",
      "5         21.5\n"
     ]
    }
   ],
   "source": [
    "#답 1\n",
    "import pandas as pd\n",
    "from scipy import stats\n",
    "\n",
    "data = {'temperature': [22.5, 23.0, 24.5, 19.0, 300.0, 21.5]}\n",
    "df = pd.DataFrame(data)\n",
    "print(\"원본 데이터프레임:\\n\", df)\n",
    "\n",
    "# 이상치 탐지 및 제거\n",
    "df['zscore'] = stats.zscore(df['temperature'])\n",
    "\n",
    "df_cleaned = df[(df['zscore'] > -2) & (df['zscore'] < 2)].drop(columns=['zscore'])\n",
    "print(\"이상치 제거 후 데이터:\\n\", df_cleaned)"
   ]
  },
  {
   "cell_type": "code",
   "execution_count": 19,
   "metadata": {},
   "outputs": [
    {
     "name": "stdout",
     "output_type": "stream",
     "text": [
      "원본 데이터프레임:\n",
      "    temperature\n",
      "0         22.5\n",
      "1         23.0\n",
      "2         24.5\n",
      "3         19.0\n",
      "4        300.0\n",
      "5         21.5\n",
      "이상치 제거 후 데이터:\n",
      "    temperature\n",
      "0         22.5\n",
      "1         23.0\n",
      "2         24.5\n",
      "3         19.0\n",
      "5         21.5\n"
     ]
    }
   ],
   "source": [
    "#답2\n",
    "\n",
    "import pandas as pd\n",
    "\n",
    "data = {'temperature': [22.5, 23.0, 24.5, 19.0, 300.0, 21.5]}\n",
    "df = pd.DataFrame(data)\n",
    "print(\"원본 데이터프레임:\\n\", df)\n",
    "\n",
    "# 이상치 탐지 및 제거\n",
    "mean_temp = df['temperature'].mean()\n",
    "std_temp = df['temperature'].std()\n",
    "df_cleaned = df[(df['temperature'] > mean_temp - 2*std_temp) & (df['temperature'] < mean_temp + 2*std_temp)]\n",
    "print(\"이상치 제거 후 데이터:\\n\", df_cleaned)\n"
   ]
  },
  {
   "cell_type": "code",
   "execution_count": null,
   "metadata": {},
   "outputs": [],
   "source": []
  },
  {
   "cell_type": "markdown",
   "metadata": {},
   "source": [
    "2. 결측치 처리 문제\n",
    "문제 1:\n",
    "다음 데이터에서 결측치(NaN)가 있는 행을 모두 제거하라."
   ]
  },
  {
   "cell_type": "code",
   "execution_count": 4,
   "metadata": {},
   "outputs": [
    {
     "name": "stdout",
     "output_type": "stream",
     "text": [
      "원본 데이터프레임:\n",
      "       name  score\n",
      "0    Alice   85.0\n",
      "1      Bob    NaN\n",
      "2  Charlie   95.0\n",
      "3    David   90.0\n",
      "결측치 제거 후 데이터:\n",
      "       name  score\n",
      "0    Alice   85.0\n",
      "2  Charlie   95.0\n",
      "3    David   90.0\n"
     ]
    }
   ],
   "source": [
    "import pandas as pd\n",
    "import numpy as np\n",
    "\n",
    "data = {'name': ['Alice', 'Bob', 'Charlie', 'David'],\n",
    "        'score': [85, np.nan, 95, 90]}\n",
    "\n",
    "df = pd.DataFrame(data)\n",
    "print(\"원본 데이터프레임:\\n\", df)\n",
    "\n",
    "# 결측치 제거\n",
    "df_cleaned = df.dropna(axis=0)\n",
    "print(\"결측치 제거 후 데이터:\\n\", df_cleaned)\n"
   ]
  },
  {
   "cell_type": "markdown",
   "metadata": {},
   "source": [
    "문제 2:\n",
    "주어진 데이터에서 결측치가 있는 경우, 해당 결측치를 0으로 대체하라."
   ]
  },
  {
   "cell_type": "code",
   "execution_count": 21,
   "metadata": {},
   "outputs": [
    {
     "name": "stdout",
     "output_type": "stream",
     "text": [
      "원본 데이터프레임:\n",
      "   product  price\n",
      "0       A  100.0\n",
      "1       B    NaN\n",
      "2       C  300.0\n",
      "3       D    NaN\n",
      "결측치 대체 후 데이터:\n",
      "   product  price\n",
      "0       A  100.0\n",
      "1       B    0.0\n",
      "2       C  300.0\n",
      "3       D    0.0\n"
     ]
    }
   ],
   "source": [
    "import pandas as pd\n",
    "import numpy as np\n",
    "\n",
    "data = {'product': ['A', 'B', 'C', 'D'],\n",
    "        'price': [100, np.nan, 300, np.nan]}\n",
    "\n",
    "df = pd.DataFrame(data)\n",
    "print(\"원본 데이터프레임:\\n\", df)\n",
    "\n",
    "# 결측치 대체\n",
    "df_filled = df.fillna(0)\n",
    "print(\"결측치 대체 후 데이터:\\n\", df_filled)\n"
   ]
  },
  {
   "cell_type": "markdown",
   "metadata": {},
   "source": [
    "문제 3:\n",
    "주어진 데이터에서 결측치를 각 열의 평균 값으로 대체하라."
   ]
  },
  {
   "cell_type": "code",
   "execution_count": 6,
   "metadata": {},
   "outputs": [
    {
     "name": "stdout",
     "output_type": "stream",
     "text": [
      "원본 데이터프레임:\n",
      "    math  english\n",
      "0  80.0      NaN\n",
      "1  90.0     85.0\n",
      "2   NaN     88.0\n",
      "3  70.0     92.0\n",
      "결측치 대체 후 데이터:\n",
      "    math    english\n",
      "0  80.0  88.333333\n",
      "1  90.0  85.000000\n",
      "2  80.0  88.000000\n",
      "3  70.0  92.000000\n"
     ]
    }
   ],
   "source": [
    "import pandas as pd\n",
    "import numpy as np\n",
    "\n",
    "data = {'math': [80, 90, np.nan, 70],\n",
    "        'english': [np.nan, 85, 88, 92]}\n",
    "\n",
    "df = pd.DataFrame(data)\n",
    "print(\"원본 데이터프레임:\\n\", df)\n",
    "\n",
    "# 결측치를 열의 평균 값으로 대체\n",
    "df_filled = df.fillna(df.mean())\n",
    "print(\"결측치 대체 후 데이터:\\n\", df_filled)\n"
   ]
  },
  {
   "cell_type": "markdown",
   "metadata": {},
   "source": [
    "3. 중복 데이터 처리 문제\n",
    "문제 1:\n",
    "주어진 데이터에서 중복된 행을 탐지하고, 이를 표시하라."
   ]
  },
  {
   "cell_type": "code",
   "execution_count": 7,
   "metadata": {},
   "outputs": [
    {
     "name": "stdout",
     "output_type": "stream",
     "text": [
      "원본 데이터프레임:\n",
      "       name  age\n",
      "0    Alice   25\n",
      "1      Bob   30\n",
      "2  Charlie   35\n",
      "3    Alice   25\n",
      "중복 데이터:\n",
      " 0    False\n",
      "1    False\n",
      "2    False\n",
      "3     True\n",
      "dtype: bool\n"
     ]
    }
   ],
   "source": [
    "import pandas as pd\n",
    "\n",
    "data = {'name': ['Alice', 'Bob', 'Charlie', 'Alice'],\n",
    "        'age': [25, 30, 35, 25]}\n",
    "\n",
    "df = pd.DataFrame(data)\n",
    "print(\"원본 데이터프레임:\\n\", df)\n",
    "\n",
    "# 중복 데이터 탐지\n",
    "duplicates = df.duplicated()\n",
    "print(\"중복 데이터:\\n\", duplicates)\n"
   ]
  },
  {
   "cell_type": "markdown",
   "metadata": {},
   "source": [
    "문제 2:\n",
    "다음 데이터에서 중복된 행을 제거하라."
   ]
  },
  {
   "cell_type": "code",
   "execution_count": 8,
   "metadata": {},
   "outputs": [
    {
     "name": "stdout",
     "output_type": "stream",
     "text": [
      "원본 데이터프레임:\n",
      "    id  score\n",
      "0   1     85\n",
      "1   2     90\n",
      "2   3     95\n",
      "3   1     85\n",
      "중복 제거 후 데이터:\n",
      "    id  score\n",
      "0   1     85\n",
      "1   2     90\n",
      "2   3     95\n"
     ]
    }
   ],
   "source": [
    "import pandas as pd\n",
    "\n",
    "data = {'id': [1, 2, 3, 1],\n",
    "        'score': [85, 90, 95, 85]}\n",
    "\n",
    "df = pd.DataFrame(data)\n",
    "print(\"원본 데이터프레임:\\n\", df)\n",
    "\n",
    "# 중복 데이터 제거\n",
    "df_cleaned = df.drop_duplicates()\n",
    "print(\"중복 제거 후 데이터:\\n\", df_cleaned)\n"
   ]
  },
  {
   "cell_type": "markdown",
   "metadata": {},
   "source": [
    "문제 3:\n",
    "중복된 데이터가 있는 경우, 중복된 데이터 중 마지막 행을 남기고 나머지를 제거하라."
   ]
  },
  {
   "cell_type": "code",
   "execution_count": 9,
   "metadata": {},
   "outputs": [
    {
     "name": "stdout",
     "output_type": "stream",
     "text": [
      "원본 데이터프레임:\n",
      "       name  age\n",
      "0    Alice   25\n",
      "1      Bob   30\n",
      "2  Charlie   35\n",
      "3    Alice   25\n",
      "중복 제거 후 데이터 (마지막 행 유지):\n",
      "       name  age\n",
      "1      Bob   30\n",
      "2  Charlie   35\n",
      "3    Alice   25\n"
     ]
    }
   ],
   "source": [
    "import pandas as pd\n",
    "\n",
    "data = {'name': ['Alice', 'Bob', 'Charlie', 'Alice'],\n",
    "        'age': [25, 30, 35, 25]}\n",
    "\n",
    "df = pd.DataFrame(data)\n",
    "print(\"원본 데이터프레임:\\n\", df)\n",
    "\n",
    "# 중복 데이터 중 마지막 행만 남기고 제거\n",
    "df_cleaned = df.drop_duplicates(keep='last')\n",
    "print(\"중복 제거 후 데이터 (마지막 행 유지):\\n\", df_cleaned)\n"
   ]
  }
 ],
 "metadata": {
  "kernelspec": {
   "display_name": "rapa3103",
   "language": "python",
   "name": "python3"
  },
  "language_info": {
   "codemirror_mode": {
    "name": "ipython",
    "version": 3
   },
   "file_extension": ".py",
   "mimetype": "text/x-python",
   "name": "python",
   "nbconvert_exporter": "python",
   "pygments_lexer": "ipython3",
   "version": "3.10.5"
  }
 },
 "nbformat": 4,
 "nbformat_minor": 2
}
