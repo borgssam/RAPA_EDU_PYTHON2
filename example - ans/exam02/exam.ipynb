{
 "cells": [
  {
   "cell_type": "markdown",
   "metadata": {},
   "source": [
    "2. 타이타닉 생존자 예측\n",
    "목표: 타이타닉 데이터를 기반으로 생존 여부를 예측하는 모델을 구축한다.\n",
    "데이터: Kaggle Titanic dataset\n",
    "미션 내용:\n",
    "\n",
    "데이터 분석: pandas로 데이터를 불러오고, 결측치 처리, 이상치 처리 및 기초 통계를 분석한다.\n",
    "데이터 전처리: 범주형 변수 인코딩, 스케일링, 불균형 데이터 처리.\n",
    "모델링: 로지스틱 회귀, 결정 트리, 랜덤 포레스트, SVM 등을 사용하여 생존 여부를 예측하는 모델을 만든다.\n",
    "모델 성능 평가: 교차 검증과 혼동 행렬, 정확도, 정밀도, 재현율 등의 평가 지표를 계산한다."
   ]
  },
  {
   "cell_type": "code",
   "execution_count": 10,
   "metadata": {},
   "outputs": [
    {
     "name": "stdout",
     "output_type": "stream",
     "text": [
      "타이타닉 데이터셋이 'titanic.csv'로 저장되었습니다.\n"
     ]
    }
   ],
   "source": [
    "import pandas as pd\n",
    "import numpy as np\n",
    "\n",
    "# 타이타닉 데이터 생성\n",
    "data = {\n",
    "    'PassengerId': np.arange(1, 892),  # 1부터 891까지의 승객 ID\n",
    "    'Survived': np.random.choice([0, 1], size=891, p=[0.61, 0.39]),  # 생존 여부\n",
    "    'Pclass': np.random.choice([1, 2, 3], size=891),  # 좌석 등급\n",
    "    'Name': ['Passenger {}'.format(i) for i in range(1, 892)],  # 승객 이름\n",
    "    'Sex': np.random.choice(['male', 'female'], size=891),  # 성별\n",
    "    'Age': np.random.randint(1, 80, size=891),  # 나이 (1세에서 79세 사이)\n",
    "    'SibSp': np.random.randint(0, 3, size=891),  # 형제/자매 및 배우자 수\n",
    "    'Parch': np.random.randint(0, 3, size=891),  # 부모/자녀 수\n",
    "    'Ticket': ['A/5 21171'] * 891,  # 티켓 번호 (임의의 값)\n",
    "    'Fare': np.random.uniform(0, 512.3292, size=891),  # 요금 (0에서 512.3292 사이)\n",
    "    'Cabin': np.random.choice(['C123', 'B456', 'E789', np.nan], size=891),  # 객실 번호 (임의의 값)\n",
    "    'Embarked': np.random.choice(['C', 'Q', 'S'], size=891)  # 탑승 항구\n",
    "}\n",
    "\n",
    "# 데이터프레임 생성\n",
    "titanic_df = pd.DataFrame(data)\n",
    "\n",
    "# CSV 파일로 저장\n",
    "titanic_df.to_csv('./data/titanic.csv', index=False)\n",
    "\n",
    "print(\"타이타닉 데이터셋이 'titanic.csv'로 저장되었습니다.\")\n"
   ]
  },
  {
   "cell_type": "markdown",
   "metadata": {},
   "source": [
    "1. 데이터 분석\n",
    "먼저 Kaggle 타이타닉 데이터셋을 불러오고 결측치 및 이상치를 처리합니다.\n",
    "\n",
    "데이터 불러오기 및 분석"
   ]
  },
  {
   "cell_type": "code",
   "execution_count": 11,
   "metadata": {},
   "outputs": [
    {
     "name": "stdout",
     "output_type": "stream",
     "text": [
      "   PassengerId  Survived  Pclass         Name     Sex  Age  SibSp  Parch  \\\n",
      "0            1         0       1  Passenger 1    male   68      1      0   \n",
      "1            2         0       3  Passenger 2  female   30      2      2   \n",
      "2            3         0       1  Passenger 3  female   66      2      0   \n",
      "3            4         0       2  Passenger 4    male   18      2      0   \n",
      "4            5         1       1  Passenger 5    male   21      2      1   \n",
      "\n",
      "      Ticket        Fare Cabin Embarked  \n",
      "0  A/5 21171   20.362538   NaN        S  \n",
      "1  A/5 21171  462.057312   NaN        Q  \n",
      "2  A/5 21171  424.536423  C123        S  \n",
      "3  A/5 21171  277.493119  B456        Q  \n",
      "4  A/5 21171  413.841019   NaN        C  \n",
      "PassengerId      0\n",
      "Survived         0\n",
      "Pclass           0\n",
      "Name             0\n",
      "Sex              0\n",
      "Age              0\n",
      "SibSp            0\n",
      "Parch            0\n",
      "Ticket           0\n",
      "Fare             0\n",
      "Cabin          204\n",
      "Embarked         0\n",
      "dtype: int64\n",
      "       PassengerId    Survived      Pclass         Age       SibSp  \\\n",
      "count   891.000000  891.000000  891.000000  891.000000  891.000000   \n",
      "mean    446.000000    0.406285    2.011223   39.832772    1.021324   \n",
      "std     257.353842    0.491415    0.820994   23.290064    0.815988   \n",
      "min       1.000000    0.000000    1.000000    1.000000    0.000000   \n",
      "25%     223.500000    0.000000    1.000000   19.000000    0.000000   \n",
      "50%     446.000000    0.000000    2.000000   39.000000    1.000000   \n",
      "75%     668.500000    1.000000    3.000000   61.000000    2.000000   \n",
      "max     891.000000    1.000000    3.000000   79.000000    2.000000   \n",
      "\n",
      "            Parch        Fare  \n",
      "count  891.000000  891.000000  \n",
      "mean     1.011223  254.634968  \n",
      "std      0.814122  148.420349  \n",
      "min      0.000000    0.463969  \n",
      "25%      0.000000  124.496575  \n",
      "50%      1.000000  252.604558  \n",
      "75%      2.000000  383.489824  \n",
      "max      2.000000  512.088650  \n"
     ]
    }
   ],
   "source": [
    "import pandas as pd\n",
    "import numpy as np\n",
    "\n",
    "# 타이타닉 데이터셋 불러오기\n",
    "data = pd.read_csv('./data/titanic.csv')\n",
    "\n",
    "# 데이터의 첫 5행 확인\n",
    "print(data.head())\n",
    "\n",
    "# 결측치 확인\n",
    "print(data.isnull().sum())\n",
    "\n",
    "# 기초 통계 분석\n",
    "print(data.describe())"
   ]
  },
  {
   "cell_type": "markdown",
   "metadata": {},
   "source": [
    "결측치 처리 및 이상치 탐지"
   ]
  },
  {
   "cell_type": "code",
   "execution_count": 12,
   "metadata": {},
   "outputs": [
    {
     "data": {
      "image/png": "[encoded data removed]",
      "text/plain": [
       "<Figure size 1200x600 with 1 Axes>"
      ]
     },
     "metadata": {},
     "output_type": "display_data"
    },
    {
     "data": {
      "image/png": "[encoded data removed]",
      "text/plain": [
       "<Figure size 1200x600 with 1 Axes>"
      ]
     },
     "metadata": {},
     "output_type": "display_data"
    }
   ],
   "source": [
    "import pandas as pd\n",
    "import seaborn as sns\n",
    "import matplotlib.pyplot as plt\n",
    "\n",
    "# 결측치 처리: Age의 결측치는 중위수로 대체\n",
    "data['Age'] = data['Age'].fillna(data['Age'].median())\n",
    "\n",
    "# Embarked의 결측치는 최빈값으로 대체\n",
    "data['Embarked'] = data['Embarked'].fillna(data['Embarked'].mode()[0])\n",
    "\n",
    "# Fare의 결측치는 중위수로 대체\n",
    "data['Fare'] = data['Fare'].fillna(data['Fare'].median())\n",
    "\n",
    "# 이상치 처리: 나이와 요금의 이상치를 박스플롯으로 시각화\n",
    "plt.figure(figsize=(12, 6))\n",
    "sns.boxplot(x=data['Age'])  # x축에 Age를 설정\n",
    "plt.title('Age Boxplot')\n",
    "plt.show()\n",
    "\n",
    "plt.figure(figsize=(12, 6))\n",
    "sns.boxplot(x=data['Fare'])  # x축에 Fare를 설정\n",
    "plt.title('Fare Boxplot')\n",
    "plt.show()\n"
   ]
  },
  {
   "cell_type": "markdown",
   "metadata": {},
   "source": [
    "2. 데이터 전처리\n",
    "범주형 변수를 인코딩하고 데이터를 스케일링합니다.\n",
    "\n",
    "범주형 변수 인코딩"
   ]
  },
  {
   "cell_type": "code",
   "execution_count": 13,
   "metadata": {},
   "outputs": [],
   "source": [
    "# 범주형 변수 인코딩\n",
    "data = pd.get_dummies(data, columns=['Sex', 'Embarked'], drop_first=True)\n",
    "\n",
    "# 필요한 열 선택\n",
    "data = data[['Survived', 'Pclass', 'Age', 'SibSp', 'Parch', 'Fare', 'Sex_male', 'Embarked_Q', 'Embarked_S']]\n"
   ]
  },
  {
   "cell_type": "markdown",
   "metadata": {},
   "source": [
    "스케일링 및 불균형 데이터 처리"
   ]
  },
  {
   "cell_type": "code",
   "execution_count": 14,
   "metadata": {},
   "outputs": [],
   "source": [
    "from sklearn.preprocessing import StandardScaler\n",
    "from sklearn.utils import resample\n",
    "\n",
    "# 스케일링\n",
    "scaler = StandardScaler()\n",
    "data[['Age', 'Fare']] = scaler.fit_transform(data[['Age', 'Fare']])\n",
    "\n",
    "# 불균형 데이터 처리: Oversampling\n",
    "majority = data[data.Survived == 0]\n",
    "minority = data[data.Survived == 1]\n",
    "\n",
    "minority_upsampled = resample(minority,\n",
    "                              replace=True,     # 샘플링 시 복원 추출\n",
    "                              n_samples=len(majority),    # 다수 클래스의 수와 같게 맞춤\n",
    "                              random_state=42) # 시드 설정\n",
    "\n",
    "data_upsampled = pd.concat([majority, minority_upsampled])\n"
   ]
  },
  {
   "cell_type": "markdown",
   "metadata": {},
   "source": [
    "3. 모델링\n",
    "로지스틱 회귀, 결정 트리, 랜덤 포레스트, SVM을 사용하여 생존 여부를 예측합니다.\n",
    "\n",
    "데이터 분할 및 모델링"
   ]
  },
  {
   "cell_type": "code",
   "execution_count": 15,
   "metadata": {},
   "outputs": [
    {
     "name": "stdout",
     "output_type": "stream",
     "text": [
      "Logistic Regression 모델 훈련 완료.\n",
      "Decision Tree 모델 훈련 완료.\n",
      "Random Forest 모델 훈련 완료.\n",
      "SVM 모델 훈련 완료.\n"
     ]
    }
   ],
   "source": [
    "from sklearn.model_selection import train_test_split\n",
    "from sklearn.linear_model import LogisticRegression\n",
    "from sklearn.tree import DecisionTreeClassifier\n",
    "from sklearn.ensemble import RandomForestClassifier\n",
    "from sklearn.svm import SVC\n",
    "\n",
    "# 데이터 분할\n",
    "X = data_upsampled.drop('Survived', axis=1)\n",
    "y = data_upsampled['Survived']\n",
    "\n",
    "X_train, X_test, y_train, y_test = train_test_split(X, y, test_size=0.2, random_state=42)\n",
    "\n",
    "# 모델 초기화\n",
    "models = {\n",
    "    'Logistic Regression': LogisticRegression(max_iter=200),\n",
    "    'Decision Tree': DecisionTreeClassifier(),\n",
    "    'Random Forest': RandomForestClassifier(),\n",
    "    'SVM': SVC()\n",
    "}\n",
    "\n",
    "# 모델 훈련\n",
    "for name, model in models.items():\n",
    "    model.fit(X_train, y_train)\n",
    "    print(f\"{name} 모델 훈련 완료.\")\n"
   ]
  },
  {
   "cell_type": "markdown",
   "metadata": {},
   "source": [
    "4. 모델 성능 평가\n",
    "교차 검증과 혼동 행렬, 정확도, 정밀도, 재현율 등의 평가 지표를 계산합니다.\n",
    "\n",
    "성능 평가"
   ]
  },
  {
   "cell_type": "code",
   "execution_count": 16,
   "metadata": {},
   "outputs": [
    {
     "name": "stdout",
     "output_type": "stream",
     "text": [
      "Logistic Regression 모델 성능 평가:\n",
      "  정확도: 0.48\n",
      "  정밀도: 0.44\n",
      "  재현율: 0.59\n",
      "  교차 검증 점수: 0.50\n",
      "  혼동 행렬:\n",
      " [[47 71]\n",
      " [39 55]]\n",
      "\n",
      "Decision Tree 모델 성능 평가:\n",
      "  정확도: 0.73\n",
      "  정밀도: 0.66\n",
      "  재현율: 0.78\n",
      "  교차 검증 점수: 0.72\n",
      "  혼동 행렬:\n",
      " [[81 37]\n",
      " [21 73]]\n",
      "\n",
      "Random Forest 모델 성능 평가:\n",
      "  정확도: 0.72\n",
      "  정밀도: 0.65\n",
      "  재현율: 0.78\n",
      "  교차 검증 점수: 0.75\n",
      "  혼동 행렬:\n",
      " [[79 39]\n",
      " [21 73]]\n",
      "\n",
      "SVM 모델 성능 평가:\n",
      "  정확도: 0.49\n",
      "  정밀도: 0.44\n",
      "  재현율: 0.62\n",
      "  교차 검증 점수: 0.53\n",
      "  혼동 행렬:\n",
      " [[45 73]\n",
      " [36 58]]\n",
      "\n"
     ]
    }
   ],
   "source": [
    "from sklearn.metrics import confusion_matrix, accuracy_score, precision_score, recall_score\n",
    "from sklearn.model_selection import cross_val_score\n",
    "\n",
    "# 성능 평가\n",
    "for name, model in models.items():\n",
    "    y_pred = model.predict(X_test)\n",
    "    accuracy = accuracy_score(y_test, y_pred)\n",
    "    precision = precision_score(y_test, y_pred)\n",
    "    recall = recall_score(y_test, y_pred)\n",
    "    cv_scores = cross_val_score(model, X, y, cv=5)\n",
    "    \n",
    "    print(f\"{name} 모델 성능 평가:\")\n",
    "    print(f\"  정확도: {accuracy:.2f}\")\n",
    "    print(f\"  정밀도: {precision:.2f}\")\n",
    "    print(f\"  재현율: {recall:.2f}\")\n",
    "    print(f\"  교차 검증 점수: {cv_scores.mean():.2f}\")\n",
    "    print(\"  혼동 행렬:\\n\", confusion_matrix(y_test, y_pred))\n",
    "    print()\n"
   ]
  }
 ],
 "metadata": {
  "kernelspec": {
   "display_name": "rapa",
   "language": "python",
   "name": "python3"
  },
  "language_info": {
   "codemirror_mode": {
    "name": "ipython",
    "version": 3
   },
   "file_extension": ".py",
   "mimetype": "text/x-python",
   "name": "python",
   "nbconvert_exporter": "python",
   "pygments_lexer": "ipython3",
   "version": "3.11.5"
  }
 },
 "nbformat": 4,
 "nbformat_minor": 2
}
