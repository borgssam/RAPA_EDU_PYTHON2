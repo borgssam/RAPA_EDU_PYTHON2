{
 "cells": [
  {
   "cell_type": "code",
   "execution_count": 1,
   "metadata": {},
   "outputs": [
    {
     "name": "stdout",
     "output_type": "stream",
     "text": [
      "리스트로 생성한 시리즈:\n",
      "a    10\n",
      "b    20\n",
      "c    30\n",
      "d    40\n",
      "dtype: int64\n",
      "\n",
      "딕셔너리로 생성한 시리즈:\n",
      "a    100\n",
      "b    200\n",
      "c    300\n",
      "d    400\n",
      "dtype: int64\n"
     ]
    }
   ],
   "source": [
    "import pandas as pd\n",
    "# 리스트로 시리즈 생성\n",
    "s_list = pd.Series([10, 20, 30, 40], index=['a', 'b', 'c', 'd'])\n",
    "print(\"리스트로 생성한 시리즈:\")\n",
    "print(s_list)\n",
    "# 딕셔너리로 시리즈 생성\n",
    "s_dict = pd.Series({'a': 100, 'b': 200, 'c': 300, 'd': 400})\n",
    "print(\"\\n딕셔너리로 생성한 시리즈:\")\n",
    "print(s_dict)"
   ]
  }
 ],
 "metadata": {
  "kernelspec": {
   "display_name": "rapa310",
   "language": "python",
   "name": "python3"
  },
  "language_info": {
   "codemirror_mode": {
    "name": "ipython",
    "version": 3
   },
   "file_extension": ".py",
   "mimetype": "text/x-python",
   "name": "python",
   "nbconvert_exporter": "python",
   "pygments_lexer": "ipython3",
   "version": "3.10.5"
  }
 },
 "nbformat": 4,
 "nbformat_minor": 2
}
