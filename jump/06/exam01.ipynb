{
 "cells": [
  {
   "cell_type": "code",
   "execution_count": 1,
   "metadata": {},
   "outputs": [
    {
     "ename": "ModuleNotFoundError",
     "evalue": "No module named 'requests'",
     "output_type": "error",
     "traceback": [
      "\u001b[1;31m---------------------------------------------------------------------------\u001b[0m",
      "\u001b[1;31mModuleNotFoundError\u001b[0m                       Traceback (most recent call last)",
      "Cell \u001b[1;32mIn[1], line 1\u001b[0m\n\u001b[1;32m----> 1\u001b[0m \u001b[38;5;28;01mimport\u001b[39;00m \u001b[38;5;21;01mrequests\u001b[39;00m\n\u001b[0;32m      3\u001b[0m url \u001b[38;5;241m=\u001b[39m \u001b[38;5;124m'\u001b[39m\u001b[38;5;124mhttp://apis.data.go.kr/1360000/VilageFcstInfoService_2.0/getUltraSrtNcst\u001b[39m\u001b[38;5;124m'\u001b[39m\n\u001b[0;32m      4\u001b[0m params \u001b[38;5;241m=\u001b[39m{\u001b[38;5;124m'\u001b[39m\u001b[38;5;124mserviceKey\u001b[39m\u001b[38;5;124m'\u001b[39m : \u001b[38;5;124m'\u001b[39m\u001b[38;5;124mROAwUM52Kz+efjQmw0kFhGebke+XDkNLBgoIgosL3GaLBn9KStstxEsLbWS0M6AGxjRyEB3R1kIX+IdtCa5X4Q==\u001b[39m\u001b[38;5;124m'\u001b[39m, \u001b[38;5;124m'\u001b[39m\u001b[38;5;124mpageNo\u001b[39m\u001b[38;5;124m'\u001b[39m : \u001b[38;5;124m'\u001b[39m\u001b[38;5;124m1\u001b[39m\u001b[38;5;124m'\u001b[39m, \u001b[38;5;124m'\u001b[39m\u001b[38;5;124mnumOfRows\u001b[39m\u001b[38;5;124m'\u001b[39m : \u001b[38;5;124m'\u001b[39m\u001b[38;5;124m1000\u001b[39m\u001b[38;5;124m'\u001b[39m, \u001b[38;5;124m'\u001b[39m\u001b[38;5;124mdataType\u001b[39m\u001b[38;5;124m'\u001b[39m : \u001b[38;5;124m'\u001b[39m\u001b[38;5;124mXML\u001b[39m\u001b[38;5;124m'\u001b[39m, \u001b[38;5;124m'\u001b[39m\u001b[38;5;124mbase_date\u001b[39m\u001b[38;5;124m'\u001b[39m : \u001b[38;5;124m'\u001b[39m\u001b[38;5;124m20241015\u001b[39m\u001b[38;5;124m'\u001b[39m, \u001b[38;5;124m'\u001b[39m\u001b[38;5;124mbase_time\u001b[39m\u001b[38;5;124m'\u001b[39m : \u001b[38;5;124m'\u001b[39m\u001b[38;5;124m0600\u001b[39m\u001b[38;5;124m'\u001b[39m, \u001b[38;5;124m'\u001b[39m\u001b[38;5;124mnx\u001b[39m\u001b[38;5;124m'\u001b[39m : \u001b[38;5;124m'\u001b[39m\u001b[38;5;124m55\u001b[39m\u001b[38;5;124m'\u001b[39m, \u001b[38;5;124m'\u001b[39m\u001b[38;5;124mny\u001b[39m\u001b[38;5;124m'\u001b[39m : \u001b[38;5;124m'\u001b[39m\u001b[38;5;124m127\u001b[39m\u001b[38;5;124m'\u001b[39m }\n",
      "\u001b[1;31mModuleNotFoundError\u001b[0m: No module named 'requests'"
     ]
    }
   ],
   "source": [
    "import requests\n",
    "\n",
    "url = 'http://apis.data.go.kr/1360000/VilageFcstInfoService_2.0/getUltraSrtNcst'\n",
    "params ={'serviceKey' : 'ROAwUM52Kz+efjQmw0kFhGebke+XDkNLBgoIgosL3GaLBn9KStstxEsLbWS0M6AGxjRyEB3R1kIX+IdtCa5X4Q==', 'pageNo' : '1', 'numOfRows' : '1000', 'dataType' : 'XML', 'base_date' : '20241015', 'base_time' : '0600', 'nx' : '55', 'ny' : '127' }\n",
    "\n",
    "response = requests.get(url, params=params)\n",
    "print(response.content)"
   ]
  },
  {
   "cell_type": "code",
   "execution_count": 2,
   "metadata": {},
   "outputs": [
    {
     "ename": "ModuleNotFoundError",
     "evalue": "No module named 'requests'",
     "output_type": "error",
     "traceback": [
      "\u001b[1;31m---------------------------------------------------------------------------\u001b[0m",
      "\u001b[1;31mModuleNotFoundError\u001b[0m                       Traceback (most recent call last)",
      "Cell \u001b[1;32mIn[2], line 1\u001b[0m\n\u001b[1;32m----> 1\u001b[0m \u001b[38;5;28;01mimport\u001b[39;00m \u001b[38;5;21;01mrequests\u001b[39;00m\n\u001b[0;32m      3\u001b[0m \u001b[38;5;28;01mfrom\u001b[39;00m \u001b[38;5;21;01mdatetime\u001b[39;00m \u001b[38;5;28;01mimport\u001b[39;00m datetime,timedelta\n\u001b[0;32m      4\u001b[0m base_date\u001b[38;5;241m=\u001b[39m\u001b[38;5;124m\"\u001b[39m\u001b[38;5;124m20241011\u001b[39m\u001b[38;5;124m\"\u001b[39m \u001b[38;5;66;03m#발표일자\u001b[39;00m\n",
      "\u001b[1;31mModuleNotFoundError\u001b[0m: No module named 'requests'"
     ]
    }
   ],
   "source": [
    "import requests\n",
    "\n",
    "from datetime import datetime,timedelta\n",
    "base_date=\"20241011\" #발표일자\n",
    "base_time=\"1700\"\n",
    "input_d = datetime.strptime(base_date+base_time,\"%Y%m%d%H%M\") - timedelta(hours=1)\n",
    "print(input_d)\n",
    "input_datetime = datetime.strftime(input_d, \"%Y%m%d%H%M\")\n",
    "print(input_datetime)\n",
    "base_date=input_datetime[:8]\n",
    "base_time=input_datetime[-4:]\n",
    "print(base_date)\n",
    "print(base_time)\n"
   ]
  },
  {
   "cell_type": "code",
   "execution_count": 31,
   "metadata": {},
   "outputs": [
    {
     "name": "stdout",
     "output_type": "stream",
     "text": [
      "1시간 전: 2024-10-15 17:07:55.262805\n",
      "변환된 날짜와 시간: 202410151700\n",
      "20241015\n",
      "1700\n",
      "http://apis.data.go.kr/1360000/VilageFcstInfoService_2.0/getUltraSrtFcst?serviceKey=ROAwUM52Kz%2BefjQmw0kFhGebke%2BXDkNLBgoIgosL3GaLBn9KStstxEsLbWS0M6AGxjRyEB3R1kIX%2BIdtCa5X4Q%3D%3D&numOfRows=60&pageNo=1&dataType=json&base_date=20241015&base_time=1700&nx=61&ny=126\n",
      "{'response': {'header': {'resultCode': '00', 'resultMsg': 'NORMAL_SERVICE'}, 'body': {'dataType': 'JSON', 'items': {'item': [{'baseDate': '20241015', 'baseTime': '1730', 'category': 'LGT', 'fcstDate': '20241015', 'fcstTime': '1800', 'fcstValue': '0', 'nx': 61, 'ny': 126}, {'baseDate': '20241015', 'baseTime': '1730', 'category': 'LGT', 'fcstDate': '20241015', 'fcstTime': '1900', 'fcstValue': '0', 'nx': 61, 'ny': 126}, {'baseDate': '20241015', 'baseTime': '1730', 'category': 'LGT', 'fcstDate': '20241015', 'fcstTime': '2000', 'fcstValue': '0', 'nx': 61, 'ny': 126}, {'baseDate': '20241015', 'baseTime': '1730', 'category': 'LGT', 'fcstDate': '20241015', 'fcstTime': '2100', 'fcstValue': '0', 'nx': 61, 'ny': 126}, {'baseDate': '20241015', 'baseTime': '1730', 'category': 'LGT', 'fcstDate': '20241015', 'fcstTime': '2200', 'fcstValue': '0', 'nx': 61, 'ny': 126}, {'baseDate': '20241015', 'baseTime': '1730', 'category': 'LGT', 'fcstDate': '20241015', 'fcstTime': '2300', 'fcstValue': '0', 'nx': 61, 'ny': 126}, {'baseDate': '20241015', 'baseTime': '1730', 'category': 'PTY', 'fcstDate': '20241015', 'fcstTime': '1800', 'fcstValue': '0', 'nx': 61, 'ny': 126}, {'baseDate': '20241015', 'baseTime': '1730', 'category': 'PTY', 'fcstDate': '20241015', 'fcstTime': '1900', 'fcstValue': '0', 'nx': 61, 'ny': 126}, {'baseDate': '20241015', 'baseTime': '1730', 'category': 'PTY', 'fcstDate': '20241015', 'fcstTime': '2000', 'fcstValue': '0', 'nx': 61, 'ny': 126}, {'baseDate': '20241015', 'baseTime': '1730', 'category': 'PTY', 'fcstDate': '20241015', 'fcstTime': '2100', 'fcstValue': '0', 'nx': 61, 'ny': 126}, {'baseDate': '20241015', 'baseTime': '1730', 'category': 'PTY', 'fcstDate': '20241015', 'fcstTime': '2200', 'fcstValue': '0', 'nx': 61, 'ny': 126}, {'baseDate': '20241015', 'baseTime': '1730', 'category': 'PTY', 'fcstDate': '20241015', 'fcstTime': '2300', 'fcstValue': '0', 'nx': 61, 'ny': 126}, {'baseDate': '20241015', 'baseTime': '1730', 'category': 'RN1', 'fcstDate': '20241015', 'fcstTime': '1800', 'fcstValue': '강수없음', 'nx': 61, 'ny': 126}, {'baseDate': '20241015', 'baseTime': '1730', 'category': 'RN1', 'fcstDate': '20241015', 'fcstTime': '1900', 'fcstValue': '강수없음', 'nx': 61, 'ny': 126}, {'baseDate': '20241015', 'baseTime': '1730', 'category': 'RN1', 'fcstDate': '20241015', 'fcstTime': '2000', 'fcstValue': '강수없음', 'nx': 61, 'ny': 126}, {'baseDate': '20241015', 'baseTime': '1730', 'category': 'RN1', 'fcstDate': '20241015', 'fcstTime': '2100', 'fcstValue': '강수없음', 'nx': 61, 'ny': 126}, {'baseDate': '20241015', 'baseTime': '1730', 'category': 'RN1', 'fcstDate': '20241015', 'fcstTime': '2200', 'fcstValue': '강수없음', 'nx': 61, 'ny': 126}, {'baseDate': '20241015', 'baseTime': '1730', 'category': 'RN1', 'fcstDate': '20241015', 'fcstTime': '2300', 'fcstValue': '강수없음', 'nx': 61, 'ny': 126}, {'baseDate': '20241015', 'baseTime': '1730', 'category': 'SKY', 'fcstDate': '20241015', 'fcstTime': '1800', 'fcstValue': '3', 'nx': 61, 'ny': 126}, {'baseDate': '20241015', 'baseTime': '1730', 'category': 'SKY', 'fcstDate': '20241015', 'fcstTime': '1900', 'fcstValue': '3', 'nx': 61, 'ny': 126}, {'baseDate': '20241015', 'baseTime': '1730', 'category': 'SKY', 'fcstDate': '20241015', 'fcstTime': '2000', 'fcstValue': '1', 'nx': 61, 'ny': 126}, {'baseDate': '20241015', 'baseTime': '1730', 'category': 'SKY', 'fcstDate': '20241015', 'fcstTime': '2100', 'fcstValue': '1', 'nx': 61, 'ny': 126}, {'baseDate': '20241015', 'baseTime': '1730', 'category': 'SKY', 'fcstDate': '20241015', 'fcstTime': '2200', 'fcstValue': '1', 'nx': 61, 'ny': 126}, {'baseDate': '20241015', 'baseTime': '1730', 'category': 'SKY', 'fcstDate': '20241015', 'fcstTime': '2300', 'fcstValue': '1', 'nx': 61, 'ny': 126}, {'baseDate': '20241015', 'baseTime': '1730', 'category': 'T1H', 'fcstDate': '20241015', 'fcstTime': '1800', 'fcstValue': '21', 'nx': 61, 'ny': 126}, {'baseDate': '20241015', 'baseTime': '1730', 'category': 'T1H', 'fcstDate': '20241015', 'fcstTime': '1900', 'fcstValue': '21', 'nx': 61, 'ny': 126}, {'baseDate': '20241015', 'baseTime': '1730', 'category': 'T1H', 'fcstDate': '20241015', 'fcstTime': '2000', 'fcstValue': '20', 'nx': 61, 'ny': 126}, {'baseDate': '20241015', 'baseTime': '1730', 'category': 'T1H', 'fcstDate': '20241015', 'fcstTime': '2100', 'fcstValue': '19', 'nx': 61, 'ny': 126}, {'baseDate': '20241015', 'baseTime': '1730', 'category': 'T1H', 'fcstDate': '20241015', 'fcstTime': '2200', 'fcstValue': '19', 'nx': 61, 'ny': 126}, {'baseDate': '20241015', 'baseTime': '1730', 'category': 'T1H', 'fcstDate': '20241015', 'fcstTime': '2300', 'fcstValue': '19', 'nx': 61, 'ny': 126}, {'baseDate': '20241015', 'baseTime': '1730', 'category': 'REH', 'fcstDate': '20241015', 'fcstTime': '1800', 'fcstValue': '75', 'nx': 61, 'ny': 126}, {'baseDate': '20241015', 'baseTime': '1730', 'category': 'REH', 'fcstDate': '20241015', 'fcstTime': '1900', 'fcstValue': '80', 'nx': 61, 'ny': 126}, {'baseDate': '20241015', 'baseTime': '1730', 'category': 'REH', 'fcstDate': '20241015', 'fcstTime': '2000', 'fcstValue': '85', 'nx': 61, 'ny': 126}, {'baseDate': '20241015', 'baseTime': '1730', 'category': 'REH', 'fcstDate': '20241015', 'fcstTime': '2100', 'fcstValue': '85', 'nx': 61, 'ny': 126}, {'baseDate': '20241015', 'baseTime': '1730', 'category': 'REH', 'fcstDate': '20241015', 'fcstTime': '2200', 'fcstValue': '90', 'nx': 61, 'ny': 126}, {'baseDate': '20241015', 'baseTime': '1730', 'category': 'REH', 'fcstDate': '20241015', 'fcstTime': '2300', 'fcstValue': '85', 'nx': 61, 'ny': 126}, {'baseDate': '20241015', 'baseTime': '1730', 'category': 'UUU', 'fcstDate': '20241015', 'fcstTime': '1800', 'fcstValue': '1', 'nx': 61, 'ny': 126}, {'baseDate': '20241015', 'baseTime': '1730', 'category': 'UUU', 'fcstDate': '20241015', 'fcstTime': '1900', 'fcstValue': '0.9', 'nx': 61, 'ny': 126}, {'baseDate': '20241015', 'baseTime': '1730', 'category': 'UUU', 'fcstDate': '20241015', 'fcstTime': '2000', 'fcstValue': '0.8', 'nx': 61, 'ny': 126}, {'baseDate': '20241015', 'baseTime': '1730', 'category': 'UUU', 'fcstDate': '20241015', 'fcstTime': '2100', 'fcstValue': '0.8', 'nx': 61, 'ny': 126}, {'baseDate': '20241015', 'baseTime': '1730', 'category': 'UUU', 'fcstDate': '20241015', 'fcstTime': '2200', 'fcstValue': '0.7', 'nx': 61, 'ny': 126}, {'baseDate': '20241015', 'baseTime': '1730', 'category': 'UUU', 'fcstDate': '20241015', 'fcstTime': '2300', 'fcstValue': '0.7', 'nx': 61, 'ny': 126}, {'baseDate': '20241015', 'baseTime': '1730', 'category': 'VVV', 'fcstDate': '20241015', 'fcstTime': '1800', 'fcstValue': '-0.3', 'nx': 61, 'ny': 126}, {'baseDate': '20241015', 'baseTime': '1730', 'category': 'VVV', 'fcstDate': '20241015', 'fcstTime': '1900', 'fcstValue': '-0.4', 'nx': 61, 'ny': 126}, {'baseDate': '20241015', 'baseTime': '1730', 'category': 'VVV', 'fcstDate': '20241015', 'fcstTime': '2000', 'fcstValue': '-0.5', 'nx': 61, 'ny': 126}, {'baseDate': '20241015', 'baseTime': '1730', 'category': 'VVV', 'fcstDate': '20241015', 'fcstTime': '2100', 'fcstValue': '-0.5', 'nx': 61, 'ny': 126}, {'baseDate': '20241015', 'baseTime': '1730', 'category': 'VVV', 'fcstDate': '20241015', 'fcstTime': '2200', 'fcstValue': '-0.7', 'nx': 61, 'ny': 126}, {'baseDate': '20241015', 'baseTime': '1730', 'category': 'VVV', 'fcstDate': '20241015', 'fcstTime': '2300', 'fcstValue': '-0.7', 'nx': 61, 'ny': 126}, {'baseDate': '20241015', 'baseTime': '1730', 'category': 'VEC', 'fcstDate': '20241015', 'fcstTime': '1800', 'fcstValue': '292', 'nx': 61, 'ny': 126}, {'baseDate': '20241015', 'baseTime': '1730', 'category': 'VEC', 'fcstDate': '20241015', 'fcstTime': '1900', 'fcstValue': '298', 'nx': 61, 'ny': 126}, {'baseDate': '20241015', 'baseTime': '1730', 'category': 'VEC', 'fcstDate': '20241015', 'fcstTime': '2000', 'fcstValue': '305', 'nx': 61, 'ny': 126}, {'baseDate': '20241015', 'baseTime': '1730', 'category': 'VEC', 'fcstDate': '20241015', 'fcstTime': '2100', 'fcstValue': '309', 'nx': 61, 'ny': 126}, {'baseDate': '20241015', 'baseTime': '1730', 'category': 'VEC', 'fcstDate': '20241015', 'fcstTime': '2200', 'fcstValue': '320', 'nx': 61, 'ny': 126}, {'baseDate': '20241015', 'baseTime': '1730', 'category': 'VEC', 'fcstDate': '20241015', 'fcstTime': '2300', 'fcstValue': '319', 'nx': 61, 'ny': 126}, {'baseDate': '20241015', 'baseTime': '1730', 'category': 'WSD', 'fcstDate': '20241015', 'fcstTime': '1800', 'fcstValue': '1', 'nx': 61, 'ny': 126}, {'baseDate': '20241015', 'baseTime': '1730', 'category': 'WSD', 'fcstDate': '20241015', 'fcstTime': '1900', 'fcstValue': '1', 'nx': 61, 'ny': 126}, {'baseDate': '20241015', 'baseTime': '1730', 'category': 'WSD', 'fcstDate': '20241015', 'fcstTime': '2000', 'fcstValue': '1', 'nx': 61, 'ny': 126}, {'baseDate': '20241015', 'baseTime': '1730', 'category': 'WSD', 'fcstDate': '20241015', 'fcstTime': '2100', 'fcstValue': '1', 'nx': 61, 'ny': 126}, {'baseDate': '20241015', 'baseTime': '1730', 'category': 'WSD', 'fcstDate': '20241015', 'fcstTime': '2200', 'fcstValue': '1', 'nx': 61, 'ny': 126}, {'baseDate': '20241015', 'baseTime': '1730', 'category': 'WSD', 'fcstDate': '20241015', 'fcstTime': '2300', 'fcstValue': '1', 'nx': 61, 'ny': 126}]}, 'pageNo': 1, 'numOfRows': 60, 'totalCount': 60}}}\n",
      "날짜: 20241015, 시간: 1800, 카테고리: LGT, 예보 값: 0\n",
      "날짜: 20241015, 시간: 1900, 카테고리: LGT, 예보 값: 0\n",
      "날짜: 20241015, 시간: 2000, 카테고리: LGT, 예보 값: 0\n",
      "날짜: 20241015, 시간: 2100, 카테고리: LGT, 예보 값: 0\n",
      "날짜: 20241015, 시간: 2200, 카테고리: LGT, 예보 값: 0\n",
      "날짜: 20241015, 시간: 2300, 카테고리: LGT, 예보 값: 0\n",
      "날짜: 20241015, 시간: 1800, 카테고리: PTY, 예보 값: 0\n",
      "날짜: 20241015, 시간: 1900, 카테고리: PTY, 예보 값: 0\n",
      "날짜: 20241015, 시간: 2000, 카테고리: PTY, 예보 값: 0\n",
      "날짜: 20241015, 시간: 2100, 카테고리: PTY, 예보 값: 0\n",
      "날짜: 20241015, 시간: 2200, 카테고리: PTY, 예보 값: 0\n",
      "날짜: 20241015, 시간: 2300, 카테고리: PTY, 예보 값: 0\n",
      "날짜: 20241015, 시간: 1800, 카테고리: RN1, 예보 값: 강수없음\n",
      "날짜: 20241015, 시간: 1900, 카테고리: RN1, 예보 값: 강수없음\n",
      "날짜: 20241015, 시간: 2000, 카테고리: RN1, 예보 값: 강수없음\n",
      "날짜: 20241015, 시간: 2100, 카테고리: RN1, 예보 값: 강수없음\n",
      "날짜: 20241015, 시간: 2200, 카테고리: RN1, 예보 값: 강수없음\n",
      "날짜: 20241015, 시간: 2300, 카테고리: RN1, 예보 값: 강수없음\n",
      "날짜: 20241015, 시간: 1800, 카테고리: SKY, 예보 값: 3\n",
      "날짜: 20241015, 시간: 1900, 카테고리: SKY, 예보 값: 3\n",
      "날짜: 20241015, 시간: 2000, 카테고리: SKY, 예보 값: 1\n",
      "날짜: 20241015, 시간: 2100, 카테고리: SKY, 예보 값: 1\n",
      "날짜: 20241015, 시간: 2200, 카테고리: SKY, 예보 값: 1\n",
      "날짜: 20241015, 시간: 2300, 카테고리: SKY, 예보 값: 1\n",
      "날짜: 20241015, 시간: 1800, 카테고리: T1H, 예보 값: 21\n",
      "날짜: 20241015, 시간: 1900, 카테고리: T1H, 예보 값: 21\n",
      "날짜: 20241015, 시간: 2000, 카테고리: T1H, 예보 값: 20\n",
      "날짜: 20241015, 시간: 2100, 카테고리: T1H, 예보 값: 19\n",
      "날짜: 20241015, 시간: 2200, 카테고리: T1H, 예보 값: 19\n",
      "날짜: 20241015, 시간: 2300, 카테고리: T1H, 예보 값: 19\n",
      "날짜: 20241015, 시간: 1800, 카테고리: REH, 예보 값: 75\n",
      "날짜: 20241015, 시간: 1900, 카테고리: REH, 예보 값: 80\n",
      "날짜: 20241015, 시간: 2000, 카테고리: REH, 예보 값: 85\n",
      "날짜: 20241015, 시간: 2100, 카테고리: REH, 예보 값: 85\n",
      "날짜: 20241015, 시간: 2200, 카테고리: REH, 예보 값: 90\n",
      "날짜: 20241015, 시간: 2300, 카테고리: REH, 예보 값: 85\n",
      "날짜: 20241015, 시간: 1800, 카테고리: UUU, 예보 값: 1\n",
      "날짜: 20241015, 시간: 1900, 카테고리: UUU, 예보 값: 0.9\n",
      "날짜: 20241015, 시간: 2000, 카테고리: UUU, 예보 값: 0.8\n",
      "날짜: 20241015, 시간: 2100, 카테고리: UUU, 예보 값: 0.8\n",
      "날짜: 20241015, 시간: 2200, 카테고리: UUU, 예보 값: 0.7\n",
      "날짜: 20241015, 시간: 2300, 카테고리: UUU, 예보 값: 0.7\n",
      "날짜: 20241015, 시간: 1800, 카테고리: VVV, 예보 값: -0.3\n",
      "날짜: 20241015, 시간: 1900, 카테고리: VVV, 예보 값: -0.4\n",
      "날짜: 20241015, 시간: 2000, 카테고리: VVV, 예보 값: -0.5\n",
      "날짜: 20241015, 시간: 2100, 카테고리: VVV, 예보 값: -0.5\n",
      "날짜: 20241015, 시간: 2200, 카테고리: VVV, 예보 값: -0.7\n",
      "날짜: 20241015, 시간: 2300, 카테고리: VVV, 예보 값: -0.7\n",
      "날짜: 20241015, 시간: 1800, 카테고리: VEC, 예보 값: 292\n",
      "날짜: 20241015, 시간: 1900, 카테고리: VEC, 예보 값: 298\n",
      "날짜: 20241015, 시간: 2000, 카테고리: VEC, 예보 값: 305\n",
      "날짜: 20241015, 시간: 2100, 카테고리: VEC, 예보 값: 309\n",
      "날짜: 20241015, 시간: 2200, 카테고리: VEC, 예보 값: 320\n",
      "날짜: 20241015, 시간: 2300, 카테고리: VEC, 예보 값: 319\n",
      "날짜: 20241015, 시간: 1800, 카테고리: WSD, 예보 값: 1\n",
      "날짜: 20241015, 시간: 1900, 카테고리: WSD, 예보 값: 1\n",
      "날짜: 20241015, 시간: 2000, 카테고리: WSD, 예보 값: 1\n",
      "날짜: 20241015, 시간: 2100, 카테고리: WSD, 예보 값: 1\n",
      "날짜: 20241015, 시간: 2200, 카테고리: WSD, 예보 값: 1\n",
      "날짜: 20241015, 시간: 2300, 카테고리: WSD, 예보 값: 1\n"
     ]
    }
   ],
   "source": [
    "import requests\n",
    "from datetime import datetime, timedelta\n",
    "\n",
    "serviceKey = \"ROAwUM52Kz%2BefjQmw0kFhGebke%2BXDkNLBgoIgosL3GaLBn9KStstxEsLbWS0M6AGxjRyEB3R1kIX%2BIdtCa5X4Q%3D%3D\" # 본인의 서비스 키 입력\n",
    "\n",
    "nx = '61' # 예보 지점 x좌표\n",
    "ny = '126' # 예보 지점 y좌표\n",
    "\n",
    "# 현재 날짜와 시간을 기준으로 base_date와 base_time 설정\n",
    "current_datetime = datetime.now()\n",
    "\n",
    "# 1시간 전 시간을 계산\n",
    "input_d = current_datetime - timedelta(hours=5)\n",
    "print(f\"1시간 전: {input_d}\")\n",
    "\n",
    "# 'YYYYMMDDHHMM' 형식으로 변환\n",
    "input_datetime = input_d.strftime(\"%Y%m%d%H00\")\n",
    "print(f\"변환된 날짜와 시간: {input_datetime}\")\n",
    "\n",
    "base_date=input_datetime[:8]\n",
    "base_time=input_datetime[-4:]\n",
    "print(base_date)\n",
    "print(base_time)\n",
    "\n",
    "# url (최근 3일 내 데이터만 조회 가능)\n",
    "url = f\"http://apis.data.go.kr/1360000/VilageFcstInfoService_2.0/getUltraSrtFcst?serviceKey={serviceKey}&numOfRows=60&pageNo=1&dataType=json&base_date={base_date}&base_time={base_time}&nx={nx}&ny={ny}\"\n",
    "print(url)\n",
    "\n",
    "import json\n",
    "response = requests.get(url, verify=False)\n",
    "res = json.loads(response.text)\n",
    "# print(res)\n",
    "\n",
    "# 데이터에서 항목 추출\n",
    "items = res.get('response', {}).get('body', {}).get('items', {}).get('item', [])\n",
    "# 필요한 데이터 추출 및 출력\n",
    "for item in items:\n",
    "    category = item.get('category')  # LGT(낙뢰), PTY(강수형태), RN1(1시간 강수량), SKY(하늘 상태)\n",
    "    fcstDate = item.get('fcstDate')  # 예보 날짜\n",
    "    fcstTime = item.get('fcstTime')  # 예보 시간\n",
    "    fcstValue = item.get('fcstValue')  # 예보 값\n",
    "\n",
    "    print(f\"날짜: {fcstDate}, 시간: {fcstTime}, 카테고리: {category}, 예보 값: {fcstValue}\")"
   ]
  },
  {
   "cell_type": "code",
   "execution_count": 26,
   "metadata": {},
   "outputs": [
    {
     "name": "stdout",
     "output_type": "stream",
     "text": [
      "2024-10-14 17:00:00\n",
      "2024-10-14 16:00:00\n",
      "http://apis.data.go.kr/1360000/VilageFcstInfoService_2.0/getUltraSrtFcst?serviceKey=ROAwUM52Kz%2BefjQmw0kFhGebke%2BXDkNLBgoIgosL3GaLBn9KStstxEsLbWS0M6AGxjRyEB3R1kIX%2BIdtCa5X4Q%3D%3D&numOfRows=60&pageNo=1&dataType=json&base_date=20241014&base_time=1700&nx=61&ny=126\n",
      "{\"response\":{\"header\":{\"resultCode\":\"00\",\"resultMsg\":\"NORMAL_SERVICE\"},\"body\":{\"dataType\":\"JSON\",\"items\":{\"item\":[{\"baseDate\":\"20241014\",\"baseTime\":\"1730\",\"category\":\"LGT\",\"fcstDate\":\"20241014\",\"fcstTime\":\"1800\",\"fcstValue\":\"0\",\"nx\":61,\"ny\":126},{\"baseDate\":\"20241014\",\"baseTime\":\"1730\",\"category\":\"LGT\",\"fcstDate\":\"20241014\",\"fcstTime\":\"1900\",\"fcstValue\":\"0\",\"nx\":61,\"ny\":126},{\"baseDate\":\"20241014\",\"baseTime\":\"1730\",\"category\":\"LGT\",\"fcstDate\":\"20241014\",\"fcstTime\":\"2000\",\"fcstValue\":\"0\",\"nx\":61,\"ny\":126},{\"baseDate\":\"20241014\",\"baseTime\":\"1730\",\"category\":\"LGT\",\"fcstDate\":\"20241014\",\"fcstTime\":\"2100\",\"fcstValue\":\"0\",\"nx\":61,\"ny\":126},{\"baseDate\":\"20241014\",\"baseTime\":\"1730\",\"category\":\"LGT\",\"fcstDate\":\"20241014\",\"fcstTime\":\"2200\",\"fcstValue\":\"0\",\"nx\":61,\"ny\":126},{\"baseDate\":\"20241014\",\"baseTime\":\"1730\",\"category\":\"LGT\",\"fcstDate\":\"20241014\",\"fcstTime\":\"2300\",\"fcstValue\":\"0\",\"nx\":61,\"ny\":126},{\"baseDate\":\"20241014\",\"baseTime\":\"1730\",\"category\":\"PTY\",\"fcstDate\":\"20241014\",\"fcstTime\":\"1800\",\"fcstValue\":\"0\",\"nx\":61,\"ny\":126},{\"baseDate\":\"20241014\",\"baseTime\":\"1730\",\"category\":\"PTY\",\"fcstDate\":\"20241014\",\"fcstTime\":\"1900\",\"fcstValue\":\"0\",\"nx\":61,\"ny\":126},{\"baseDate\":\"20241014\",\"baseTime\":\"1730\",\"category\":\"PTY\",\"fcstDate\":\"20241014\",\"fcstTime\":\"2000\",\"fcstValue\":\"0\",\"nx\":61,\"ny\":126},{\"baseDate\":\"20241014\",\"baseTime\":\"1730\",\"category\":\"PTY\",\"fcstDate\":\"20241014\",\"fcstTime\":\"2100\",\"fcstValue\":\"0\",\"nx\":61,\"ny\":126},{\"baseDate\":\"20241014\",\"baseTime\":\"1730\",\"category\":\"PTY\",\"fcstDate\":\"20241014\",\"fcstTime\":\"2200\",\"fcstValue\":\"0\",\"nx\":61,\"ny\":126},{\"baseDate\":\"20241014\",\"baseTime\":\"1730\",\"category\":\"PTY\",\"fcstDate\":\"20241014\",\"fcstTime\":\"2300\",\"fcstValue\":\"0\",\"nx\":61,\"ny\":126},{\"baseDate\":\"20241014\",\"baseTime\":\"1730\",\"category\":\"RN1\",\"fcstDate\":\"20241014\",\"fcstTime\":\"1800\",\"fcstValue\":\"강수없음\",\"nx\":61,\"ny\":126},{\"baseDate\":\"20241014\",\"baseTime\":\"1730\",\"category\":\"RN1\",\"fcstDate\":\"20241014\",\"fcstTime\":\"1900\",\"fcstValue\":\"강수없음\",\"nx\":61,\"ny\":126},{\"baseDate\":\"20241014\",\"baseTime\":\"1730\",\"category\":\"RN1\",\"fcstDate\":\"20241014\",\"fcstTime\":\"2000\",\"fcstValue\":\"강수없음\",\"nx\":61,\"ny\":126},{\"baseDate\":\"20241014\",\"baseTime\":\"1730\",\"category\":\"RN1\",\"fcstDate\":\"20241014\",\"fcstTime\":\"2100\",\"fcstValue\":\"강수없음\",\"nx\":61,\"ny\":126},{\"baseDate\":\"20241014\",\"baseTime\":\"1730\",\"category\":\"RN1\",\"fcstDate\":\"20241014\",\"fcstTime\":\"2200\",\"fcstValue\":\"강수없음\",\"nx\":61,\"ny\":126},{\"baseDate\":\"20241014\",\"baseTime\":\"1730\",\"category\":\"RN1\",\"fcstDate\":\"20241014\",\"fcstTime\":\"2300\",\"fcstValue\":\"강수없음\",\"nx\":61,\"ny\":126},{\"baseDate\":\"20241014\",\"baseTime\":\"1730\",\"category\":\"SKY\",\"fcstDate\":\"20241014\",\"fcstTime\":\"1800\",\"fcstValue\":\"4\",\"nx\":61,\"ny\":126},{\"baseDate\":\"20241014\",\"baseTime\":\"1730\",\"category\":\"SKY\",\"fcstDate\":\"20241014\",\"fcstTime\":\"1900\",\"fcstValue\":\"4\",\"nx\":61,\"ny\":126},{\"baseDate\":\"20241014\",\"baseTime\":\"1730\",\"category\":\"SKY\",\"fcstDate\":\"20241014\",\"fcstTime\":\"2000\",\"fcstValue\":\"4\",\"nx\":61,\"ny\":126},{\"baseDate\":\"20241014\",\"baseTime\":\"1730\",\"category\":\"SKY\",\"fcstDate\":\"20241014\",\"fcstTime\":\"2100\",\"fcstValue\":\"4\",\"nx\":61,\"ny\":126},{\"baseDate\":\"20241014\",\"baseTime\":\"1730\",\"category\":\"SKY\",\"fcstDate\":\"20241014\",\"fcstTime\":\"2200\",\"fcstValue\":\"4\",\"nx\":61,\"ny\":126},{\"baseDate\":\"20241014\",\"baseTime\":\"1730\",\"category\":\"SKY\",\"fcstDate\":\"20241014\",\"fcstTime\":\"2300\",\"fcstValue\":\"4\",\"nx\":61,\"ny\":126},{\"baseDate\":\"20241014\",\"baseTime\":\"1730\",\"category\":\"T1H\",\"fcstDate\":\"20241014\",\"fcstTime\":\"1800\",\"fcstValue\":\"20\",\"nx\":61,\"ny\":126},{\"baseDate\":\"20241014\",\"baseTime\":\"1730\",\"category\":\"T1H\",\"fcstDate\":\"20241014\",\"fcstTime\":\"1900\",\"fcstValue\":\"20\",\"nx\":61,\"ny\":126},{\"baseDate\":\"20241014\",\"baseTime\":\"1730\",\"category\":\"T1H\",\"fcstDate\":\"20241014\",\"fcstTime\":\"2000\",\"fcstValue\":\"19\",\"nx\":61,\"ny\":126},{\"baseDate\":\"20241014\",\"baseTime\":\"1730\",\"category\":\"T1H\",\"fcstDate\":\"20241014\",\"fcstTime\":\"2100\",\"fcstValue\":\"19\",\"nx\":61,\"ny\":126},{\"baseDate\":\"20241014\",\"baseTime\":\"1730\",\"category\":\"T1H\",\"fcstDate\":\"20241014\",\"fcstTime\":\"2200\",\"fcstValue\":\"18\",\"nx\":61,\"ny\":126},{\"baseDate\":\"20241014\",\"baseTime\":\"1730\",\"category\":\"T1H\",\"fcstDate\":\"20241014\",\"fcstTime\":\"2300\",\"fcstValue\":\"18\",\"nx\":61,\"ny\":126},{\"baseDate\":\"20241014\",\"baseTime\":\"1730\",\"category\":\"REH\",\"fcstDate\":\"20241014\",\"fcstTime\":\"1800\",\"fcstValue\":\"65\",\"nx\":61,\"ny\":126},{\"baseDate\":\"20241014\",\"baseTime\":\"1730\",\"category\":\"REH\",\"fcstDate\":\"20241014\",\"fcstTime\":\"1900\",\"fcstValue\":\"75\",\"nx\":61,\"ny\":126},{\"baseDate\":\"20241014\",\"baseTime\":\"1730\",\"category\":\"REH\",\"fcstDate\":\"20241014\",\"fcstTime\":\"2000\",\"fcstValue\":\"75\",\"nx\":61,\"ny\":126},{\"baseDate\":\"20241014\",\"baseTime\":\"1730\",\"category\":\"REH\",\"fcstDate\":\"20241014\",\"fcstTime\":\"2100\",\"fcstValue\":\"80\",\"nx\":61,\"ny\":126},{\"baseDate\":\"20241014\",\"baseTime\":\"1730\",\"category\":\"REH\",\"fcstDate\":\"20241014\",\"fcstTime\":\"2200\",\"fcstValue\":\"85\",\"nx\":61,\"ny\":126},{\"baseDate\":\"20241014\",\"baseTime\":\"1730\",\"category\":\"REH\",\"fcstDate\":\"20241014\",\"fcstTime\":\"2300\",\"fcstValue\":\"90\",\"nx\":61,\"ny\":126},{\"baseDate\":\"20241014\",\"baseTime\":\"1730\",\"category\":\"UUU\",\"fcstDate\":\"20241014\",\"fcstTime\":\"1800\",\"fcstValue\":\"-0.3\",\"nx\":61,\"ny\":126},{\"baseDate\":\"20241014\",\"baseTime\":\"1730\",\"category\":\"UUU\",\"fcstDate\":\"20241014\",\"fcstTime\":\"1900\",\"fcstValue\":\"-0.7\",\"nx\":61,\"ny\":126},{\"baseDate\":\"20241014\",\"baseTime\":\"1730\",\"category\":\"UUU\",\"fcstDate\":\"20241014\",\"fcstTime\":\"2000\",\"fcstValue\":\"-1.4\",\"nx\":61,\"ny\":126},{\"baseDate\":\"20241014\",\"baseTime\":\"1730\",\"category\":\"UUU\",\"fcstDate\":\"20241014\",\"fcstTime\":\"2100\",\"fcstValue\":\"-1.7\",\"nx\":61,\"ny\":126},{\"baseDate\":\"20241014\",\"baseTime\":\"1730\",\"category\":\"UUU\",\"fcstDate\":\"20241014\",\"fcstTime\":\"2200\",\"fcstValue\":\"-1.6\",\"nx\":61,\"ny\":126},{\"baseDate\":\"20241014\",\"baseTime\":\"1730\",\"category\":\"UUU\",\"fcstDate\":\"20241014\",\"fcstTime\":\"2300\",\"fcstValue\":\"-1.4\",\"nx\":61,\"ny\":126},{\"baseDate\":\"20241014\",\"baseTime\":\"1730\",\"category\":\"VVV\",\"fcstDate\":\"20241014\",\"fcstTime\":\"1800\",\"fcstValue\":\"1.4\",\"nx\":61,\"ny\":126},{\"baseDate\":\"20241014\",\"baseTime\":\"1730\",\"category\":\"VVV\",\"fcstDate\":\"20241014\",\"fcstTime\":\"1900\",\"fcstValue\":\"1.5\",\"nx\":61,\"ny\":126},{\"baseDate\":\"20241014\",\"baseTime\":\"1730\",\"category\":\"VVV\",\"fcstDate\":\"20241014\",\"fcstTime\":\"2000\",\"fcstValue\":\"1.2\",\"nx\":61,\"ny\":126},{\"baseDate\":\"20241014\",\"baseTime\":\"1730\",\"category\":\"VVV\",\"fcstDate\":\"20241014\",\"fcstTime\":\"2100\",\"fcstValue\":\"1\",\"nx\":61,\"ny\":126},{\"baseDate\":\"20241014\",\"baseTime\":\"1730\",\"category\":\"VVV\",\"fcstDate\":\"20241014\",\"fcstTime\":\"2200\",\"fcstValue\":\"0.6\",\"nx\":61,\"ny\":126},{\"baseDate\":\"20241014\",\"baseTime\":\"1730\",\"category\":\"VVV\",\"fcstDate\":\"20241014\",\"fcstTime\":\"2300\",\"fcstValue\":\"0.5\",\"nx\":61,\"ny\":126},{\"baseDate\":\"20241014\",\"baseTime\":\"1730\",\"category\":\"VEC\",\"fcstDate\":\"20241014\",\"fcstTime\":\"1800\",\"fcstValue\":\"165\",\"nx\":61,\"ny\":126},{\"baseDate\":\"20241014\",\"baseTime\":\"1730\",\"category\":\"VEC\",\"fcstDate\":\"20241014\",\"fcstTime\":\"1900\",\"fcstValue\":\"151\",\"nx\":61,\"ny\":126},{\"baseDate\":\"20241014\",\"baseTime\":\"1730\",\"category\":\"VEC\",\"fcstDate\":\"20241014\",\"fcstTime\":\"2000\",\"fcstValue\":\"129\",\"nx\":61,\"ny\":126},{\"baseDate\":\"20241014\",\"baseTime\":\"1730\",\"category\":\"VEC\",\"fcstDate\":\"20241014\",\"fcstTime\":\"2100\",\"fcstValue\":\"120\",\"nx\":61,\"ny\":126},{\"baseDate\":\"20241014\",\"baseTime\":\"1730\",\"category\":\"VEC\",\"fcstDate\":\"20241014\",\"fcstTime\":\"2200\",\"fcstValue\":\"111\",\"nx\":61,\"ny\":126},{\"baseDate\":\"20241014\",\"baseTime\":\"1730\",\"category\":\"VEC\",\"fcstDate\":\"20241014\",\"fcstTime\":\"2300\",\"fcstValue\":\"108\",\"nx\":61,\"ny\":126},{\"baseDate\":\"20241014\",\"baseTime\":\"1730\",\"category\":\"WSD\",\"fcstDate\":\"20241014\",\"fcstTime\":\"1800\",\"fcstValue\":\"1\",\"nx\":61,\"ny\":126},{\"baseDate\":\"20241014\",\"baseTime\":\"1730\",\"category\":\"WSD\",\"fcstDate\":\"20241014\",\"fcstTime\":\"1900\",\"fcstValue\":\"2\",\"nx\":61,\"ny\":126},{\"baseDate\":\"20241014\",\"baseTime\":\"1730\",\"category\":\"WSD\",\"fcstDate\":\"20241014\",\"fcstTime\":\"2000\",\"fcstValue\":\"2\",\"nx\":61,\"ny\":126},{\"baseDate\":\"20241014\",\"baseTime\":\"1730\",\"category\":\"WSD\",\"fcstDate\":\"20241014\",\"fcstTime\":\"2100\",\"fcstValue\":\"2\",\"nx\":61,\"ny\":126},{\"baseDate\":\"20241014\",\"baseTime\":\"1730\",\"category\":\"WSD\",\"fcstDate\":\"20241014\",\"fcstTime\":\"2200\",\"fcstValue\":\"2\",\"nx\":61,\"ny\":126},{\"baseDate\":\"20241014\",\"baseTime\":\"1730\",\"category\":\"WSD\",\"fcstDate\":\"20241014\",\"fcstTime\":\"2300\",\"fcstValue\":\"2\",\"nx\":61,\"ny\":126}]},\"pageNo\":1,\"numOfRows\":60,\"totalCount\":60}}}\n"
     ]
    }
   ],
   "source": [
    "\n",
    "import requests\n",
    "serviceKey = \"ROAwUM52Kz%2BefjQmw0kFhGebke%2BXDkNLBgoIgosL3GaLBn9KStstxEsLbWS0M6AGxjRyEB3R1kIX%2BIdtCa5X4Q%3D%3D\" # 본인의 서비스 키 입력\n",
    "\n",
    "nx = '61' # 예보 지점 x좌표\n",
    "ny = '126' # 예보 지점 y좌표\n",
    "\n",
    "from datetime import datetime, timedelta\n",
    "# 알고 싶은 시간\n",
    "base_date = \"20241014\" # 발표 일자\n",
    "base_time = \"1700\" # 발표 시간\n",
    "input_d = datetime.strptime(base_date + base_time, \"%Y%m%d%H%M\")\n",
    "print(input_d)\n",
    "\n",
    "# 실제 입력 시간\n",
    "input_d = datetime.strptime(base_date + base_time, \"%Y%m%d%H%M\") - timedelta(hours=1)\n",
    "print(input_d)\n",
    "\n",
    "input_datetime = datetime.strftime(input_d, \"%Y%m%d%H%M\")\n",
    "input_date = input_datetime[:-4]\n",
    "input_time = input_datetime[-4:]\n",
    "\n",
    "# url (최근 3일 내 데이터만 조회 가능)\n",
    "url = f\"http://apis.data.go.kr/1360000/VilageFcstInfoService_2.0/getUltraSrtFcst?serviceKey={serviceKey}&numOfRows=60&pageNo=1&dataType=json&base_date={base_date}&base_time={base_time}&nx={nx}&ny={ny}\"\n",
    "print(url)\n",
    "\n",
    "import json\n",
    "response = requests.get(url, verify=False)\n",
    "print(response.text)\n",
    "#res = json.loads(response.text)"
   ]
  },
  {
   "cell_type": "code",
   "execution_count": 32,
   "metadata": {},
   "outputs": [],
   "source": [
    "#풍향 각도 0~360도를 8방위로 변환\n",
    "def deg_to_dir(deg):\n",
    "    # 360도를 8등분하여 풍향을 문자열로 변환\n",
    "    if deg >= 337.5 or deg < 22.5:\n",
    "        return \"북\"\n",
    "    elif 22.5 <= deg < 67.5:\n",
    "        return \"북동\"\n",
    "    elif 67.5 <= deg < 112.5:\n",
    "        return \"동\"\n",
    "    elif 112.5 <= deg < 157.5:\n",
    "        return \"남동\"\n",
    "    elif 157.5 <= deg < 202.5:\n",
    "        return \"남\"\n",
    "    elif 202.5 <= deg < 247.5:\n",
    "        return \"남서\"\n",
    "    elif 247.5 <= deg < 292.5:\n",
    "        return \"서\"\n",
    "    elif 292.5 <= deg < 337.5:\n",
    "        return \"북서\""
   ]
  },
  {
   "cell_type": "code",
   "execution_count": 33,
   "metadata": {},
   "outputs": [
    {
     "name": "stdout",
     "output_type": "stream",
     "text": [
      "{'1800': {'LGT': '0', 'PTY': '0', 'RN1': '강수없음', 'SKY': '3', 'T1H': '21', 'REH': '75', 'UUU': '1', 'VVV': '-0.3', 'VEC': '292', 'WSD': '1'}, '1900': {'LGT': '0', 'PTY': '0', 'RN1': '강수없음', 'SKY': '3', 'T1H': '21', 'REH': '80', 'UUU': '0.9', 'VVV': '-0.4', 'VEC': '298', 'WSD': '1'}, '2000': {'LGT': '0', 'PTY': '0', 'RN1': '강수없음', 'SKY': '1', 'T1H': '20', 'REH': '85', 'UUU': '0.8', 'VVV': '-0.5', 'VEC': '305', 'WSD': '1'}, '2100': {'LGT': '0', 'PTY': '0', 'RN1': '강수없음', 'SKY': '1', 'T1H': '19', 'REH': '85', 'UUU': '0.8', 'VVV': '-0.5', 'VEC': '309', 'WSD': '1'}, '2200': {'LGT': '0', 'PTY': '0', 'RN1': '강수없음', 'SKY': '1', 'T1H': '19', 'REH': '90', 'UUU': '0.7', 'VVV': '-0.7', 'VEC': '320', 'WSD': '1'}, '2300': {'LGT': '0', 'PTY': '0', 'RN1': '강수없음', 'SKY': '1', 'T1H': '19', 'REH': '85', 'UUU': '0.7', 'VVV': '-0.7', 'VEC': '319', 'WSD': '1'}}\n"
     ]
    }
   ],
   "source": [
    "informations = dict()\n",
    "for items in res['response']['body']['items']['item'] :\n",
    "    cate = items['category']\n",
    "    fcstTime = items['fcstTime']\n",
    "    fcstValue = items['fcstValue']\n",
    "    temp = dict()\n",
    "    temp[cate] = fcstValue\n",
    "    \n",
    "    if fcstTime not in informations.keys() :\n",
    "        informations[fcstTime] = dict()\n",
    "#     print(items['category'], items['fcstTime'], items['fcstValue'])\n",
    "#     print(informations[fcstTime])\n",
    "    informations[fcstTime][cate] = fcstValue\n",
    "\n",
    "print(informations)"
   ]
  },
  {
   "cell_type": "code",
   "execution_count": 36,
   "metadata": {},
   "outputs": [
    {
     "name": "stdout",
     "output_type": "stream",
     "text": [
      "2024년 10월 15일 18시 00분 (61, 126) 지역의 날씨는 구름많음 강수 없음 기온 21.0℃ 습도 75.0% 풍속 서 방향 1m/s\n",
      "2024년 10월 15일 19시 00분 (61, 126) 지역의 날씨는 구름많음 강수 없음 기온 21.0℃ 습도 80.0% 풍속 북서 방향 1m/s\n",
      "2024년 10월 15일 20시 00분 (61, 126) 지역의 날씨는 맑음 강수 없음 기온 20.0℃ 습도 85.0% 풍속 북서 방향 1m/s\n",
      "2024년 10월 15일 21시 00분 (61, 126) 지역의 날씨는 맑음 강수 없음 기온 19.0℃ 습도 85.0% 풍속 북서 방향 1m/s\n",
      "2024년 10월 15일 22시 00분 (61, 126) 지역의 날씨는 맑음 강수 없음 기온 19.0℃ 습도 90.0% 풍속 북서 방향 1m/s\n",
      "2024년 10월 15일 23시 00분 (61, 126) 지역의 날씨는 맑음 강수 없음 기온 19.0℃ 습도 85.0% 풍속 북서 방향 1m/s\n"
     ]
    }
   ],
   "source": [
    "\n",
    "\n",
    "pyt_code = {0 : '강수 없음', 1 : '비', 2 : '비/눈', 3 : '눈', 5 : '빗방울', 6 : '진눈깨비', 7 : '눈날림'}\n",
    "sky_code = {1 : '맑음', 3 : '구름많음', 4 : '흐림'}\n",
    "\n",
    "\n",
    "for key, val in zip(informations.keys(), informations.values()) :\n",
    "#     print(key, val)\n",
    "    # val['LGT'] -- 낙뢰 \n",
    "    template = f\"\"\"{base_date[:4]}년 {base_date[4:6]}월 {base_date[-2:]}일 {key[:2]}시 {key[2:]}분 {(int(nx), int(ny))} 지역의 날씨는 \"\"\" \n",
    "    \n",
    "    \n",
    "    # 맑음(1), 구름많음(3), 흐림(4)\n",
    "    if val['SKY'] :\n",
    "        sky_temp = sky_code[int(val['SKY'])]\n",
    "#         print(\"하늘 :\", sky_temp)\n",
    "        template += sky_temp + \" \"\n",
    "    \n",
    "    # (초단기) 없음(0), 비(1), 비/눈(2), 눈(3), 빗방울(5), 빗방울눈날림(6), 눈날림(7)\n",
    "    if val['PTY'] :\n",
    "        pty_temp = pyt_code[int(val['PTY'])]\n",
    "#         print(\"강수 여부 :\",pty_temp)\n",
    "        template += pty_temp\n",
    "        # 강수 있는 경우\n",
    "        if val['RN1'] != '강수없음' :\n",
    "            # RN1 1시간 강수량 \n",
    "            rn1_temp = val['RN1']\n",
    "#             print(\"강수량(1시간당) :\",rn1_temp)\n",
    "            template += f\"시간당 {rn1_temp}mm \"\n",
    "    \n",
    "    # 기온\n",
    "    if val['T1H'] :\n",
    "        t1h_temp = float(val['T1H'])\n",
    "#         print(f\"기온 : {t1h_temp}℃\")\n",
    "        template += f\" 기온 {t1h_temp}℃ \"\n",
    "    # 습도\n",
    "    if val['REH'] :\n",
    "        reh_temp = float(val['REH'])\n",
    "#         print(f\"습도 : {reh_temp}%\")\n",
    "        template += f\"습도 {reh_temp}% \"\n",
    "    # val['UUU'] -- 바람\n",
    "    \n",
    "    # val['VVV'] -- 바람\n",
    "    \n",
    "    # 풍향/ 풍속\n",
    "    if val['VEC'] and val['WSD']:\n",
    "        vec_temp = deg_to_dir(float(val['VEC']))\n",
    "        wsd_temp = val['WSD']\n",
    "#         print(f\"풍속 :{vec_temp} 방향 {wsd_temp}m/s\")\n",
    "        \n",
    "    template += f\"풍속 {vec_temp} 방향 {wsd_temp}m/s\"\n",
    "    print(template)\n"
   ]
  }
 ],
 "metadata": {
  "kernelspec": {
   "display_name": "Python 3",
   "language": "python",
   "name": "python3"
  },
  "language_info": {
   "codemirror_mode": {
    "name": "ipython",
    "version": 3
   },
   "file_extension": ".py",
   "mimetype": "text/x-python",
   "name": "python",
   "nbconvert_exporter": "python",
   "pygments_lexer": "ipython3",
   "version": "3.11.2"
  }
 },
 "nbformat": 4,
 "nbformat_minor": 2
}
