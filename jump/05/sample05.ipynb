{
 "cells": [
  {
   "cell_type": "code",
   "execution_count": 3,
   "metadata": {},
   "outputs": [
    {
     "name": "stdout",
     "output_type": "stream",
     "text": [
      "3\n",
      "3\n"
     ]
    }
   ],
   "source": [
    "#abs 절대값\n",
    "print(abs(-3))\n",
    "print(abs(3))"
   ]
  },
  {
   "cell_type": "code",
   "execution_count": 8,
   "metadata": {},
   "outputs": [
    {
     "name": "stdout",
     "output_type": "stream",
     "text": [
      "True\n",
      "False\n",
      "True\n",
      "False\n",
      "True\n"
     ]
    }
   ],
   "source": [
    "#all(x)   x가 모두 참이어야 참, 거짓이 한개라도 있으면 거짓\n",
    "print(all([True,True,True]))\n",
    "print(all([True,True,False]))\n",
    "print(all([1,2,3]))\n",
    "print(all([1,2,0]))\n",
    "print(all([]))"
   ]
  },
  {
   "cell_type": "code",
   "execution_count": 9,
   "metadata": {},
   "outputs": [
    {
     "name": "stdout",
     "output_type": "stream",
     "text": [
      "True\n",
      "True\n",
      "True\n",
      "True\n",
      "False\n"
     ]
    }
   ],
   "source": [
    "#any(x) x가 하나라도 참이면 참\n",
    "print(any([True,True,True]))\n",
    "print(any([True,True,False]))\n",
    "print(any([1,2,3]))\n",
    "print(any([1,2,0]))\n",
    "print(any([]))"
   ]
  },
  {
   "cell_type": "code",
   "execution_count": 12,
   "metadata": {},
   "outputs": [
    {
     "name": "stdout",
     "output_type": "stream",
     "text": [
      "a\n",
      "갂\n"
     ]
    }
   ],
   "source": [
    "#chr(i)  유니코드 숫자-> 문자\n",
    "print(chr(97)) #a\n",
    "print(chr(44032)) #가"
   ]
  },
  {
   "cell_type": "code",
   "execution_count": 14,
   "metadata": {},
   "outputs": [
    {
     "name": "stdout",
     "output_type": "stream",
     "text": [
      "(3, 1)\n",
      "(5, 0)\n"
     ]
    }
   ],
   "source": [
    "#div mod divmod 나눈값, 나머지값 튜플로 만들어줌\n",
    "print(divmod(10,3))\n",
    "print(divmod(10,2))"
   ]
  },
  {
   "cell_type": "code",
   "execution_count": 17,
   "metadata": {},
   "outputs": [
    {
     "name": "stdout",
     "output_type": "stream",
     "text": [
      "호랑이\n",
      "거북이\n",
      "토끼\n",
      "------------------\n",
      "0 호랑이\n",
      "1 거북이\n",
      "2 토끼\n",
      "------------------\n",
      "0 호랑이\n",
      "1 거북이\n",
      "2 토끼\n"
     ]
    }
   ],
   "source": [
    "#enumerate\n",
    "\n",
    "for name in ['호랑이','거북이','토끼']:\n",
    "  print(name)\n",
    "print(\"------------------\")\n",
    "idx = 0\n",
    "for name in ['호랑이','거북이','토끼']:\n",
    "  print(idx, name)\n",
    "  idx += 1\n",
    "print(\"------------------\")\n",
    "for idx, name in enumerate(['호랑이','거북이','토끼']):\n",
    "  print(idx, name)\n"
   ]
  },
  {
   "cell_type": "code",
   "execution_count": 22,
   "metadata": {},
   "outputs": [
    {
     "name": "stdout",
     "output_type": "stream",
     "text": [
      "3\n",
      "3\n",
      "3 * 2 = 6\n",
      "3 * 3 = 9\n",
      "3 * 4 = 12\n",
      "3 * 5 = 15\n",
      "3 * 6 = 18\n",
      "3 * 7 = 21\n",
      "3 * 8 = 24\n",
      "3 * 9 = 27\n"
     ]
    }
   ],
   "source": [
    "#eval 문자열로 된 수식을 해석해서 계산줍니다.\n",
    "print(1+2)\n",
    "temp = \"1+2\"\n",
    "print(eval(temp))\n",
    "\n",
    "dan = 3\n",
    "for n in range(2,10) :\n",
    "  temp = f\"{dan} * {n}\"\n",
    "  print( temp, \"=\", str( eval(temp) ) )"
   ]
  },
  {
   "cell_type": "markdown",
   "metadata": {},
   "source": []
  },
  {
   "cell_type": "code",
   "execution_count": 28,
   "metadata": {},
   "outputs": [
    {
     "name": "stdout",
     "output_type": "stream",
     "text": [
      "[1, 5, 9]\n",
      "[1, 5, 9]\n",
      "[1, 5, 9]\n"
     ]
    }
   ],
   "source": [
    "def positive(source):\n",
    "  result = []\n",
    "  for i in source:\n",
    "    if i > 0:\n",
    "      result.append(i)\n",
    "  return result\n",
    "print(positive([1,-3,5,-7,9]))\n",
    "########################################################\n",
    "def isPositive(x):\n",
    "  return x>0\n",
    "fResult = filter(isPositive,[1,-3,5,-7,9])\n",
    "print(list(fResult))\n",
    "#########################################################\n",
    "fResult = filter(lambda x: x>0,[1,-3,5,-7,9])\n",
    "print(list(fResult))"
   ]
  },
  {
   "cell_type": "code",
   "execution_count": 29,
   "metadata": {},
   "outputs": [
    {
     "name": "stdout",
     "output_type": "stream",
     "text": [
      "입력값:123456\n"
     ]
    }
   ],
   "source": [
    "a = input()\n",
    "print(\"입력값:\"+a)"
   ]
  },
  {
   "cell_type": "code",
   "execution_count": 37,
   "metadata": {},
   "outputs": [
    {
     "name": "stdout",
     "output_type": "stream",
     "text": [
      "6\n",
      "33\n",
      "256\n",
      "5\n",
      "9\n"
     ]
    }
   ],
   "source": [
    "# str :문자로, int:숫자로\n",
    "print(int(3.5)+int('3'))\n",
    "print(str(3)+'3')\n",
    "print(int('FF',16)+1)\n",
    "print(int('0100',2)+1)\n",
    "print(int('0010',8)+1)"
   ]
  },
  {
   "cell_type": "code",
   "execution_count": 41,
   "metadata": {},
   "outputs": [
    {
     "name": "stdout",
     "output_type": "stream",
     "text": [
      "안녕하세요\n",
      "달린다\n"
     ]
    }
   ],
   "source": [
    "\n",
    "class Person:\n",
    "  def talk(self):\n",
    "    print(\"안녕하세요\")\n",
    "\n",
    "class Car:\n",
    "  def run(self):\n",
    "    print(\"달린다\")\n",
    "a = Person()\n",
    "b = Car()\n",
    "\n",
    "if isinstance(a, Car):\n",
    "  a.run()\n",
    "elif isinstance(a, Person):\n",
    "  a.talk()\n",
    "\n",
    "if isinstance(b,Car):\n",
    "  b.run()\n",
    "elif isinstance(b, Person):\n",
    "  b.talk()"
   ]
  },
  {
   "cell_type": "code",
   "execution_count": 42,
   "metadata": {},
   "outputs": [
    {
     "name": "stdout",
     "output_type": "stream",
     "text": [
      "5\n",
      "6\n",
      "6\n"
     ]
    }
   ],
   "source": [
    "#len \n",
    "print(len(\"안녕하세요\"))\n",
    "print(len([1,2,3,4,5,6]))\n",
    "print(len((1,2,3,4,5,6)))"
   ]
  },
  {
   "cell_type": "code",
   "execution_count": 44,
   "metadata": {},
   "outputs": [
    {
     "name": "stdout",
     "output_type": "stream",
     "text": [
      "안녕하세요\n",
      "['안', '녕', '하', '세', '요']\n",
      "[1, 2, 3, 4, 5, 6]\n"
     ]
    }
   ],
   "source": [
    "#list   열거데이터를 list타입 \n",
    "print(\"안녕하세요\")\n",
    "print(list(\"안녕하세요\"))\n",
    "print(list((1,2,3,4,5,6)))"
   ]
  },
  {
   "cell_type": "code",
   "execution_count": 45,
   "metadata": {},
   "outputs": [
    {
     "name": "stdout",
     "output_type": "stream",
     "text": [
      "[2, 4, 6, 8, 10]\n"
     ]
    }
   ],
   "source": [
    "def two_times(numList):\n",
    "  result = []\n",
    "  for num in numList:\n",
    "    result.append(num*2)\n",
    "  return result\n",
    "\n",
    "result = two_times([1,2,3,4,5])\n",
    "print(result)"
   ]
  },
  {
   "cell_type": "code",
   "execution_count": 48,
   "metadata": {},
   "outputs": [
    {
     "name": "stdout",
     "output_type": "stream",
     "text": [
      "[2, 4, 6, 8, 10]\n"
     ]
    }
   ],
   "source": [
    "#map\n",
    "def two_times2(x):\n",
    "  return x*2\n",
    "\n",
    "result = map(two_times2,[1,2,3,4,5])\n",
    "print(list(result))"
   ]
  },
  {
   "cell_type": "code",
   "execution_count": 49,
   "metadata": {},
   "outputs": [
    {
     "name": "stdout",
     "output_type": "stream",
     "text": [
      "[2, 4, 6, 8, 10]\n"
     ]
    }
   ],
   "source": [
    "result = map(lambda x:x*2,[1,2,3,4,5])\n",
    "print(list(result))"
   ]
  },
  {
   "cell_type": "code",
   "execution_count": 50,
   "metadata": {},
   "outputs": [
    {
     "name": "stdout",
     "output_type": "stream",
     "text": [
      "9 1\n"
     ]
    }
   ],
   "source": [
    "#max, min\n",
    "print(max([1,2,3,4,5,6,7,8,9]),  min([1,2,3,4,5,6,7,8,]))"
   ]
  },
  {
   "cell_type": "code",
   "execution_count": 51,
   "metadata": {},
   "outputs": [
    {
     "name": "stdout",
     "output_type": "stream",
     "text": [
      "0b1010 0o12 0xa\n"
     ]
    }
   ],
   "source": [
    "# bin oct hex\n",
    "print(bin(10), oct(10), hex(10))"
   ]
  },
  {
   "cell_type": "code",
   "execution_count": 54,
   "metadata": {},
   "outputs": [
    {
     "name": "stdout",
     "output_type": "stream",
     "text": [
      "강 44053 강\n"
     ]
    }
   ],
   "source": [
    "# chr 수->문자  ord 문자 -> 수\n",
    "\n",
    "word = '강'\n",
    "num = ord(word)\n",
    "word2 = chr(num)\n",
    "print(word, num, word2)"
   ]
  },
  {
   "cell_type": "code",
   "execution_count": 62,
   "metadata": {},
   "outputs": [
    {
     "name": "stdout",
     "output_type": "stream",
     "text": [
      "256 256 256\n"
     ]
    }
   ],
   "source": [
    "#pow **\n",
    "\n",
    "num = 4\n",
    "n = 4\n",
    "result =num\n",
    "for i in range(1,n):\n",
    "  result = result*num\n",
    "\n",
    "print(pow(num,n), num ** n, result )\n"
   ]
  },
  {
   "cell_type": "code",
   "execution_count": 66,
   "metadata": {},
   "outputs": [
    {
     "name": "stdout",
     "output_type": "stream",
     "text": [
      "[0, 1, 2, 3, 4]\n",
      "[0, 1, 2, 3, 4]\n",
      "[2, 3, 4]\n",
      "[2, 4, 6, 8, 10, 12, 14, 16, 18]\n",
      "[2, 5, 8, 11, 14, 17]\n"
     ]
    }
   ],
   "source": [
    "\n",
    "#range(끝)       0 <= 범위 < 끝\n",
    "#range(시작,끝)  시작<= 범위 < 끝\n",
    "# #range(시작,끝,간격)  시작<= (범위%간격 == 0) < 끝\n",
    "\n",
    "# for i in range(3,5):\n",
    "#   print(i)\n",
    "\n",
    "print(list(range(5)))\n",
    "print(list(range(0,5)))\n",
    "print(list(range(2,5)))\n",
    "print(list(range(2,20,2)))\n",
    "print(list(range(2,20,3)))\n"
   ]
  }
 ],
 "metadata": {
  "kernelspec": {
   "display_name": "Python 3",
   "language": "python",
   "name": "python3"
  },
  "language_info": {
   "codemirror_mode": {
    "name": "ipython",
    "version": 3
   },
   "file_extension": ".py",
   "mimetype": "text/x-python",
   "name": "python",
   "nbconvert_exporter": "python",
   "pygments_lexer": "ipython3",
   "version": "3.11.2"
  }
 },
 "nbformat": 4,
 "nbformat_minor": 2
}
