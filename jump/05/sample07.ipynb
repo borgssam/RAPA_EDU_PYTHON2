{
 "cells": [
  {
   "cell_type": "code",
   "execution_count": 5,
   "metadata": {},
   "outputs": [
    {
     "name": "stdout",
     "output_type": "stream",
     "text": [
      "[(11.57, '차동현'), (11.67, '차정웅'), (11.92, '한시우'), (11.98, '박시우'), (11.99, '장준혁'), (12.02, '박중수'), (12.04, '고미숙'), (12.22, '이민석'), (12.23, '강보람'), (12.31, '김지원')]\n",
      " 1 선수(차동현),기록(11.57)\n",
      " 2 선수(차정웅),기록(11.67)\n",
      " 3 선수(한시우),기록(11.92)\n"
     ]
    }
   ],
   "source": [
    "# 100m 달리기 기록 데이터\n",
    "data = [\n",
    "    (12.23, \"강보람\"),\n",
    "    (12.31, \"김지원\"),\n",
    "    (11.98, \"박시우\"),\n",
    "    (11.99, \"장준혁\"),\n",
    "    (11.67, \"차정웅\"),\n",
    "    (12.02, \"박중수\"),\n",
    "    (11.57, \"차동현\"),\n",
    "    (12.04, \"고미숙\"),\n",
    "    (11.92, \"한시우\"),\n",
    "    (12.22, \"이민석\"),\n",
    "]\n",
    "\n",
    "# 데이터 정렬\n",
    "sorted_data = sorted(data)\n",
    "print(sorted_data)\n",
    "i =1\n",
    "for  player in sorted_data[0:3]:\n",
    "   print(f\" {i} 선수({player[1]}),기록({player[0]})\")\n",
    "   i += 1"
   ]
  },
  {
   "cell_type": "code",
   "execution_count": 6,
   "metadata": {},
   "outputs": [
    {
     "name": "stdout",
     "output_type": "stream",
     "text": [
      "{'body': 'quia et suscipit\\n'\n",
      "         'suscipit recusandae consequuntur expedita et cum\\n'\n",
      "         'reprehenderit molestiae ut ut quas totam\\n'\n",
      "         'nostrum rerum est autem sunt rem eveniet architecto',\n",
      " 'id': 1,\n",
      " 'title': 'sunt aut facere repellat provident occaecati excepturi optio '\n",
      "          'reprehenderit',\n",
      " 'userId': 1}\n"
     ]
    }
   ],
   "source": [
    "import pprint\n",
    "\n",
    "result = {'userId': 1, 'id': 1, 'title': 'sunt aut facere repellat provident occaecati excepturi optio reprehenderit', 'body': 'quia et suscipit\\nsuscipit recusandae consequuntur expedita et cum\\nreprehenderit molestiae ut ut quas totam\\nnostrum rerum est autem sunt rem eveniet architecto'}\n",
    "\n",
    "pprint.pprint(result)"
   ]
  },
  {
   "cell_type": "code",
   "execution_count": 15,
   "metadata": {},
   "outputs": [
    {
     "name": "stdout",
     "output_type": "stream",
     "text": [
      "[(33, 'F'), (99, 'A'), (77, 'C'), (70, 'C'), (89, 'B'), (90, 'A'), (100, 'A')]\n"
     ]
    }
   ],
   "source": [
    "scores = [33, 99, 77, 70, 89, 90, 100]\n",
    "#학점\n",
    "result = []\n",
    "grade = ['F','F','F','F','F','F','D','C','B','A','A']\n",
    "for score in scores:\n",
    "  idx = int(score /10) \n",
    "  result.append(grade[idx])\n",
    "  # print(score, idx)\n",
    "print(list(zip(scores,result)))\n",
    "  "
   ]
  }
 ],
 "metadata": {
  "kernelspec": {
   "display_name": "Python 3",
   "language": "python",
   "name": "python3"
  },
  "language_info": {
   "codemirror_mode": {
    "name": "ipython",
    "version": 3
   },
   "file_extension": ".py",
   "mimetype": "text/x-python",
   "name": "python",
   "nbconvert_exporter": "python",
   "pygments_lexer": "ipython3",
   "version": "3.11.2"
  }
 },
 "nbformat": 4,
 "nbformat_minor": 2
}
