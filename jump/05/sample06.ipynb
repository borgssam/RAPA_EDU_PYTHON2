{
 "cells": [
  {
   "cell_type": "code",
   "execution_count": 3,
   "metadata": {},
   "outputs": [
    {
     "data": {
      "text/plain": [
       "'Life [...]'"
      ]
     },
     "execution_count": 3,
     "metadata": {},
     "output_type": "execute_result"
    }
   ],
   "source": [
    "import textwrap\n",
    "textwrap.shorten(\"Life is to short. you need python\", width=10)\n",
    "# Life is [...]"
   ]
  },
  {
   "cell_type": "code",
   "execution_count": 12,
   "metadata": {},
   "outputs": [
    {
     "data": {
      "text/plain": [
       "'인생은 짧으니 파이썬이~~~'"
      ]
     },
     "execution_count": 12,
     "metadata": {},
     "output_type": "execute_result"
    }
   ],
   "source": [
    "textwrap.shorten(\"인생은 짧으니 파이썬이 필요해\", width=15, placeholder='~~~')\n",
    "# 인생은 짧으니 파이썬이..."
   ]
  },
  {
   "cell_type": "code",
   "execution_count": 17,
   "metadata": {},
   "outputs": [
    {
     "data": {
      "text/plain": [
       "'인생은 짧으니 [...]'"
      ]
     },
     "execution_count": 17,
     "metadata": {},
     "output_type": "execute_result"
    }
   ],
   "source": [
    "textwrap.shorten(\"인생은 짧으니 파이썬이 필요해\", width=14)"
   ]
  },
  {
   "cell_type": "code",
   "execution_count": 26,
   "metadata": {},
   "outputs": [
    {
     "name": "stdout",
     "output_type": "stream",
     "text": [
      "동해물과 백두산이 마르고 닳도록 동해물과 백두산이 마르고 닳도록 동해물과 백두산이 마르고 닳도록 동해물과 백두산이 마르고 닳도록 동해물과 백두산이 마르고 닳도록 동해물과 백두산이 마르고 닳도록 동해물과 백두산이 마르고 닳도록 동해물과 백두산이 마르고 닳도록 동해물과 백두산이 마르고 닳도록 동해물과 백두산이 마르고 닳도록 \n"
     ]
    }
   ],
   "source": [
    "long_text = \"동해물과 백두산이 마르고 닳도록 \" * 10\n",
    "print(long_text)"
   ]
  },
  {
   "cell_type": "code",
   "execution_count": 21,
   "metadata": {},
   "outputs": [
    {
     "name": "stdout",
     "output_type": "stream",
     "text": [
      "['동해물과 백두산이 마르고 닳도록동해물과 백두산이 마르고 닳도록동해물과 백두산이 마르고', '닳도록동해물과 백두산이 마르고 닳도록동해물과 백두산이 마르고 닳도록동해물과 백두산이 마르고', '닳도록동해물과 백두산이 마르고 닳도록동해물과 백두산이 마르고 닳도록동해물과 백두산이 마르고', '닳도록동해물과 백두산이 마르고 닳도록']\n"
     ]
    }
   ],
   "source": [
    "import textwrap\n",
    "result = textwrap.wrap(long_text, width=50)\n",
    "print(result)"
   ]
  },
  {
   "cell_type": "code",
   "execution_count": 23,
   "metadata": {},
   "outputs": [
    {
     "name": "stdout",
     "output_type": "stream",
     "text": [
      "동해물과 백두산이 마르고 닳도록동해물과 백두산이 마르고 닳도록동해물과 백두산이 마르고\n",
      "닳도록동해물과 백두산이 마르고 닳도록동해물과 백두산이 마르고 닳도록동해물과 백두산이 마르고\n",
      "닳도록동해물과 백두산이 마르고 닳도록동해물과 백두산이 마르고 닳도록동해물과 백두산이 마르고\n",
      "닳도록동해물과 백두산이 마르고 닳도록\n"
     ]
    }
   ],
   "source": [
    "print('\\n'.join(result))"
   ]
  },
  {
   "cell_type": "code",
   "execution_count": 27,
   "metadata": {},
   "outputs": [
    {
     "name": "stdout",
     "output_type": "stream",
     "text": [
      "동해물과 백두산이\n",
      "마르고 닳도록\n",
      "동해물과 백두산이\n",
      "마르고 닳도록\n",
      "동해물과 백두산이\n",
      "마르고 닳도록\n",
      "동해물과 백두산이\n",
      "마르고 닳도록\n",
      "동해물과 백두산이\n",
      "마르고 닳도록\n",
      "동해물과 백두산이\n",
      "마르고 닳도록\n",
      "동해물과 백두산이\n",
      "마르고 닳도록\n",
      "동해물과 백두산이\n",
      "마르고 닳도록\n",
      "동해물과 백두산이\n",
      "마르고 닳도록\n",
      "동해물과 백두산이\n",
      "마르고 닳도록\n"
     ]
    }
   ],
   "source": [
    "result = textwrap.fill(long_text, width=10)\n",
    "print(result)"
   ]
  },
  {
   "cell_type": "code",
   "execution_count": 34,
   "metadata": {},
   "outputs": [
    {
     "name": "stdout",
     "output_type": "stream",
     "text": [
      "\n",
      "홍길동의 주민번호는 800905-******* 입니다. \n",
      "그리고 고길동의 주민번호는 700905-******* 입니다.\n",
      "그렇다면 누가 형님일까요?\n",
      "\n"
     ]
    }
   ],
   "source": [
    "data = \"\"\"\n",
    "홍길동의 주민번호는 800905-1049118 입니다. \n",
    "그리고 고길동의 주민번호는 700905-1059119 입니다.\n",
    "그렇다면 누가 형님일까요?\n",
    "\"\"\"\n",
    "#주민번호 뒸자리를 * 표시한다.\n",
    "result = []\n",
    "for line in data.split(\"\\n\"):\n",
    "  # print(line)\n",
    "  result_line = []\n",
    "  for word in line.split(\" \"):    \n",
    "    if(len(word) == 14):\n",
    "      word = word[:6]+\"-*******\"\n",
    "    result_line.append(word)\n",
    "  tempString = \" \".join(result_line)\n",
    "  result.append(tempString)\n",
    "newString = \"\\n\".join(result)\n",
    "print(newString)"
   ]
  },
  {
   "cell_type": "code",
   "execution_count": 41,
   "metadata": {},
   "outputs": [
    {
     "name": "stdout",
     "output_type": "stream",
     "text": [
      "['800905-1049118', '700905-1059119']\n"
     ]
    }
   ],
   "source": [
    "import re\n",
    "data = \"\"\"\n",
    "홍길동의 주민번호는 800905-1049118 입니다. \n",
    "그리고 고길동의 주민번호는 700905-1059119 입니다.\n",
    "그렇다면 누가 형님일까요?\n",
    "\"\"\"\n",
    "regFormat=\"\\d{6}-\\d{7}\"\n",
    "\n",
    "result = re.findall(regFormat, data)\n",
    "print(result)"
   ]
  },
  {
   "cell_type": "code",
   "execution_count": null,
   "metadata": {},
   "outputs": [],
   "source": []
  },
  {
   "cell_type": "code",
   "execution_count": 42,
   "metadata": {},
   "outputs": [
    {
     "name": "stdout",
     "output_type": "stream",
     "text": [
      "\n",
      "홍길동의 주민번호는 800905-####### 입니다. \n",
      "그리고 고길동의 주민번호는 700905-####### 입니다.\n",
      "그렇다면 누가 형님일까요?\n",
      "\n"
     ]
    }
   ],
   "source": [
    "import re\n",
    "data = \"\"\"\n",
    "홍길동의 주민번호는 800905-1049118 입니다. \n",
    "그리고 고길동의 주민번호는 700905-1059119 입니다.\n",
    "그렇다면 누가 형님일까요?\n",
    "\"\"\"\n",
    "regFormat=\"(\\d{6})-(\\d{7})\"\n",
    "patten = re.compile(regFormat)\n",
    "result = patten.sub(\"\\g<1>-#######\",data)\n",
    "print(result)"
   ]
  },
  {
   "cell_type": "code",
   "execution_count": 56,
   "metadata": {},
   "outputs": [
    {
     "name": "stdout",
     "output_type": "stream",
     "text": [
      "['hong@test.com', 'ko123@domain.net', 'lee.soon@naver.co']\n"
     ]
    }
   ],
   "source": [
    "import re\n",
    "\n",
    "# 예시 데이터: 이메일 주소가 포함된 문자열\n",
    "data = \"\"\"\n",
    "홍길동의 이메일은 hong@test.com 입니다.\n",
    "그리고 고길동의 이메일은 ko123@domain.net 입니다.\n",
    "또한 이순신의 이메일은 lee.soon@naver.co.kr 입니다.\n",
    "\"\"\"\n",
    "# 1.이메일 모두 출력해보세요\n",
    "# 2.이메일 아이디를 앞에 2글자를 빼고 나머지를 *표시해주세요\n",
    "email_pattern = r'[\\w\\.]{3,}@\\w{3,}\\.\\w{2,}'   #1\n",
    "#email_pattern = r'\\w{2}\\w+@\\w{3,}\\.\\w{2,}'#2\n",
    "# email_pattern = r'(\\w{2})(\\w+)@\\w{3,}\\.\\w{2,}'\n",
    "result = re.findall(email_pattern,data)\n",
    "print(result)"
   ]
  },
  {
   "cell_type": "code",
   "execution_count": 61,
   "metadata": {},
   "outputs": [
    {
     "name": "stdout",
     "output_type": "stream",
     "text": [
      "<re.Match object; span=(11, 24), match='hong@test.com'>\n",
      "<re.Match object; span=(44, 60), match='ko123@domain.net'>\n",
      "<re.Match object; span=(79, 99), match='lee.soon@naver.co.kr'>\n",
      "\n",
      "홍길동의 이메일은 ho**@test.com 입니다.\n",
      "그리고 고길동의 이메일은 ko***@domain.net 입니다.\n",
      "또한 이순신의 이메일은 le******@naver.co.kr 입니다.\n",
      "\n"
     ]
    }
   ],
   "source": [
    "import re\n",
    "\n",
    "# 예시 데이터: 이메일 주소가 포함된 문자열\n",
    "data = \"\"\"\n",
    "홍길동의 이메일은 hong@test.com 입니다.\n",
    "그리고 고길동의 이메일은 ko123@domain.net 입니다.\n",
    "또한 이순신의 이메일은 lee.soon@naver.co.kr 입니다.\n",
    "\"\"\"\n",
    "# 1.이메일 모두 출력해보세요\n",
    "# 2.이메일 아이디를 앞에 2글자를 빼고 나머지를 *표시해주세요\n",
    "email_pattern = r'([\\w\\.]{2})([\\w\\.]+)@\\w{3,}\\.[\\w\\.]{2,}'\n",
    "#re.sub(패턴, 치환값, 원본)\n",
    "def rep(match):\n",
    "  print(match)\n",
    "  email = match.group()\n",
    "  name1= match.group(1)\n",
    "  name2= match.group(2)\n",
    "  star = \"*\" * len(name2)\n",
    "  result = name1 + star\n",
    "  result = result + email[len(result):]\n",
    "  return result\n",
    "\n",
    "result = re.sub(email_pattern, rep, data)\n",
    "\n",
    "print(result)"
   ]
  },
  {
   "cell_type": "code",
   "execution_count": 77,
   "metadata": {},
   "outputs": [
    {
     "name": "stdout",
     "output_type": "stream",
     "text": [
      "2024-10-15 15:41:54.878176\n",
      "2024-10-15\n",
      "2024-10-15 15:36:27\n",
      "2024-10-15 00:00:00\n",
      "<class 'datetime.timedelta'>\n",
      "14 days, 15:41:54.878176\n",
      "14\n",
      "56514\n",
      "15.681388888888888\n"
     ]
    }
   ],
   "source": [
    "import datetime\n",
    "day1 = datetime.datetime.now()\n",
    "print(day1)\n",
    "day2 = datetime.date(2024,10,15)\n",
    "print(day2)\n",
    "day3 = datetime.datetime(2024,10,15,15,36,27)\n",
    "print(day3)\n",
    "day4 = datetime.datetime(2024,10,15)\n",
    "print(day4)\n",
    "\n",
    "day5 = datetime.datetime(2024,10,1)\n",
    "\n",
    "diff = day1 - day5\n",
    "print(type(diff))\n",
    "print(diff)\n",
    "print(diff.days)\n",
    "print(diff.seconds)\n",
    "print(((56453/60)/60)/1)\n"
   ]
  },
  {
   "cell_type": "code",
   "execution_count": 79,
   "metadata": {},
   "outputs": [
    {
     "name": "stdout",
     "output_type": "stream",
     "text": [
      "1\n",
      "2\n"
     ]
    }
   ],
   "source": [
    "import datetime\n",
    "day = datetime.datetime.now()\n",
    "print(day.weekday())\n",
    "print(day.isoweekday())"
   ]
  },
  {
   "cell_type": "code",
   "execution_count": 83,
   "metadata": {},
   "outputs": [
    {
     "name": "stdout",
     "output_type": "stream",
     "text": [
      "2024-10-15\n",
      "2024-10-25\n"
     ]
    }
   ],
   "source": [
    "import datetime\n",
    "today = datetime.date.today()\n",
    "print(today)\n",
    "d_day = datetime.timedelta(10)\n",
    "targetDate = today + d_day\n",
    "print(targetDate)\n"
   ]
  },
  {
   "cell_type": "code",
   "execution_count": 86,
   "metadata": {},
   "outputs": [
    {
     "name": "stdout",
     "output_type": "stream",
     "text": [
      "2025-01-23 15:50:28.617717\n",
      "2024-07-07 15:50:28.618719\n"
     ]
    }
   ],
   "source": [
    "def calculateDate(d, offset):\n",
    "  return d + datetime.timedelta(offset)\n",
    "\n",
    "print(calculateDate(datetime.datetime.now(), 100))\n",
    "print(calculateDate(datetime.datetime.now(), -100))"
   ]
  },
  {
   "cell_type": "code",
   "execution_count": 87,
   "metadata": {},
   "outputs": [
    {
     "name": "stdout",
     "output_type": "stream",
     "text": [
      "deque([1, 2, 3, 4, 5, 6])\n"
     ]
    }
   ],
   "source": [
    "from collections import deque\n",
    "d = deque([1,2,3,4,5])\n",
    "d.append(6)\n",
    "print(d)"
   ]
  },
  {
   "cell_type": "code",
   "execution_count": 88,
   "metadata": {},
   "outputs": [
    {
     "name": "stdout",
     "output_type": "stream",
     "text": [
      "deque([0, 1, 2, 3, 4, 5, 6])\n"
     ]
    }
   ],
   "source": [
    "d.appendleft(0)\n",
    "print(d)"
   ]
  },
  {
   "cell_type": "code",
   "execution_count": 89,
   "metadata": {},
   "outputs": [
    {
     "name": "stdout",
     "output_type": "stream",
     "text": [
      "deque([0, 1, 2, 3, 4, 5])\n",
      "6\n"
     ]
    }
   ],
   "source": [
    "result = d.pop()\n",
    "print(d)\n",
    "print(result)"
   ]
  },
  {
   "cell_type": "code",
   "execution_count": 90,
   "metadata": {},
   "outputs": [
    {
     "name": "stdout",
     "output_type": "stream",
     "text": [
      "deque([1, 2, 3, 4, 5])\n",
      "0\n"
     ]
    }
   ],
   "source": [
    "result = d.popleft()\n",
    "print(d)\n",
    "print(result)"
   ]
  },
  {
   "cell_type": "code",
   "execution_count": 91,
   "metadata": {},
   "outputs": [
    {
     "name": "stdout",
     "output_type": "stream",
     "text": [
      "[1, 2, 3, 4, 5]\n"
     ]
    }
   ],
   "source": [
    "result = list(d)\n",
    "print(result)"
   ]
  },
  {
   "cell_type": "code",
   "execution_count": 98,
   "metadata": {},
   "outputs": [
    {
     "name": "stdout",
     "output_type": "stream",
     "text": [
      "['산에는', '꽃', '피네', '꽃이', '피네', '갈', '봄', '여름없이', '꽃이', '피네', '산에', '산에', '피는', '꽃은', '저만치', '혼자서', '피어있네', '산에서', '우는', '새여', '꽃이', '좋아', '산에서', '사노라네', '산에는', '꽃지네', '꽃이', '지네', '갈', '봄', '여름', '없이', '꽃이', '지네']\n",
      "34\n",
      "Counter({'꽃이': 5, '피네': 3, '산에는': 2, '갈': 2, '봄': 2, '산에': 2, '산에서': 2, '지네': 2, '꽃': 1, '여름없이': 1, '피는': 1, '꽃은': 1, '저만치': 1, '혼자서': 1, '피어있네': 1, '우는': 1, '새여': 1, '좋아': 1, '사노라네': 1, '꽃지네': 1, '여름': 1, '없이': 1})\n",
      "22\n",
      "22\n"
     ]
    }
   ],
   "source": [
    "from collections import Counter\n",
    "import re\n",
    "\n",
    "data = \"\"\"\n",
    "산에는 꽃 피네.\n",
    "꽃이 피네.\n",
    "갈 봄 여름없이\n",
    "꽃이 피네.\n",
    "\n",
    "산에\n",
    "산에\n",
    "피는 꽃은\n",
    "저만치 혼자서 피어있네.\n",
    "\n",
    "산에서 우는 새여\n",
    "꽃이 좋아\n",
    "산에서\n",
    "사노라네.\n",
    "\n",
    "산에는 꽃지네\n",
    "꽃이 지네.\n",
    "갈 봄 여름 없이\n",
    "꽃이 지네.\n",
    "\"\"\"\n",
    "\n",
    "#1.총단어수\n",
    "words = re.findall(r'\\w+', data)\n",
    "print(words)\n",
    "print(len(words))\n",
    "print(Counter(words))\n",
    "counters = Counter(words)\n",
    "print(len(counters))\n",
    "print(len( set(words)))\n",
    "\n",
    "#2.총단어수(중복제외)"
   ]
  },
  {
   "cell_type": "code",
   "execution_count": null,
   "metadata": {},
   "outputs": [],
   "source": [
    "# Life is too short, You need python.\n",
    "#위문장을 분석해서 딕셔너리타입으로\n",
    "# {'L': 1, 'i': 2, 'f': 1, 'e': 3, ' ': 6, 's': 2, 't': 3, 'o': 5, 'h': 2, 'r': 1, ',': 1, 'Y': 1, 'u': 1, 'n': 2, 'd': 1, 'p': 1, 'y': 1, '.': 1} 로 출력"
   ]
  },
  {
   "cell_type": "code",
   "execution_count": 100,
   "metadata": {},
   "outputs": [
    {
     "name": "stdout",
     "output_type": "stream",
     "text": [
      "{'L': 1}\n",
      "{'L': 1, 'i': 1}\n",
      "{'L': 1, 'i': 1, 'f': 1}\n",
      "{'L': 1, 'i': 1, 'f': 1, 'e': 1}\n",
      "{'L': 1, 'i': 1, 'f': 1, 'e': 1, ' ': 1}\n",
      "{'L': 1, 'i': 2, 'f': 1, 'e': 1, ' ': 1}\n",
      "{'L': 1, 'i': 2, 'f': 1, 'e': 1, ' ': 1, 's': 1}\n",
      "{'L': 1, 'i': 2, 'f': 1, 'e': 1, ' ': 2, 's': 1}\n",
      "{'L': 1, 'i': 2, 'f': 1, 'e': 1, ' ': 2, 's': 1, 't': 1}\n",
      "{'L': 1, 'i': 2, 'f': 1, 'e': 1, ' ': 2, 's': 1, 't': 1, 'o': 1}\n",
      "{'L': 1, 'i': 2, 'f': 1, 'e': 1, ' ': 2, 's': 1, 't': 1, 'o': 2}\n",
      "{'L': 1, 'i': 2, 'f': 1, 'e': 1, ' ': 3, 's': 1, 't': 1, 'o': 2}\n",
      "{'L': 1, 'i': 2, 'f': 1, 'e': 1, ' ': 3, 's': 2, 't': 1, 'o': 2}\n",
      "{'L': 1, 'i': 2, 'f': 1, 'e': 1, ' ': 3, 's': 2, 't': 1, 'o': 2, 'h': 1}\n",
      "{'L': 1, 'i': 2, 'f': 1, 'e': 1, ' ': 3, 's': 2, 't': 1, 'o': 3, 'h': 1}\n",
      "{'L': 1, 'i': 2, 'f': 1, 'e': 1, ' ': 3, 's': 2, 't': 1, 'o': 3, 'h': 1, 'r': 1}\n",
      "{'L': 1, 'i': 2, 'f': 1, 'e': 1, ' ': 3, 's': 2, 't': 2, 'o': 3, 'h': 1, 'r': 1}\n",
      "{'L': 1, 'i': 2, 'f': 1, 'e': 1, ' ': 3, 's': 2, 't': 2, 'o': 3, 'h': 1, 'r': 1, ',': 1}\n",
      "{'L': 1, 'i': 2, 'f': 1, 'e': 1, ' ': 4, 's': 2, 't': 2, 'o': 3, 'h': 1, 'r': 1, ',': 1}\n",
      "{'L': 1, 'i': 2, 'f': 1, 'e': 1, ' ': 4, 's': 2, 't': 2, 'o': 3, 'h': 1, 'r': 1, ',': 1, 'Y': 1}\n",
      "{'L': 1, 'i': 2, 'f': 1, 'e': 1, ' ': 4, 's': 2, 't': 2, 'o': 4, 'h': 1, 'r': 1, ',': 1, 'Y': 1}\n",
      "{'L': 1, 'i': 2, 'f': 1, 'e': 1, ' ': 4, 's': 2, 't': 2, 'o': 4, 'h': 1, 'r': 1, ',': 1, 'Y': 1, 'u': 1}\n",
      "{'L': 1, 'i': 2, 'f': 1, 'e': 1, ' ': 5, 's': 2, 't': 2, 'o': 4, 'h': 1, 'r': 1, ',': 1, 'Y': 1, 'u': 1}\n",
      "{'L': 1, 'i': 2, 'f': 1, 'e': 1, ' ': 5, 's': 2, 't': 2, 'o': 4, 'h': 1, 'r': 1, ',': 1, 'Y': 1, 'u': 1, 'n': 1}\n",
      "{'L': 1, 'i': 2, 'f': 1, 'e': 2, ' ': 5, 's': 2, 't': 2, 'o': 4, 'h': 1, 'r': 1, ',': 1, 'Y': 1, 'u': 1, 'n': 1}\n",
      "{'L': 1, 'i': 2, 'f': 1, 'e': 3, ' ': 5, 's': 2, 't': 2, 'o': 4, 'h': 1, 'r': 1, ',': 1, 'Y': 1, 'u': 1, 'n': 1}\n",
      "{'L': 1, 'i': 2, 'f': 1, 'e': 3, ' ': 5, 's': 2, 't': 2, 'o': 4, 'h': 1, 'r': 1, ',': 1, 'Y': 1, 'u': 1, 'n': 1, 'd': 1}\n",
      "{'L': 1, 'i': 2, 'f': 1, 'e': 3, ' ': 6, 's': 2, 't': 2, 'o': 4, 'h': 1, 'r': 1, ',': 1, 'Y': 1, 'u': 1, 'n': 1, 'd': 1}\n",
      "{'L': 1, 'i': 2, 'f': 1, 'e': 3, ' ': 6, 's': 2, 't': 2, 'o': 4, 'h': 1, 'r': 1, ',': 1, 'Y': 1, 'u': 1, 'n': 1, 'd': 1, 'p': 1}\n",
      "{'L': 1, 'i': 2, 'f': 1, 'e': 3, ' ': 6, 's': 2, 't': 2, 'o': 4, 'h': 1, 'r': 1, ',': 1, 'Y': 1, 'u': 1, 'n': 1, 'd': 1, 'p': 1, 'y': 1}\n",
      "{'L': 1, 'i': 2, 'f': 1, 'e': 3, ' ': 6, 's': 2, 't': 3, 'o': 4, 'h': 1, 'r': 1, ',': 1, 'Y': 1, 'u': 1, 'n': 1, 'd': 1, 'p': 1, 'y': 1}\n",
      "{'L': 1, 'i': 2, 'f': 1, 'e': 3, ' ': 6, 's': 2, 't': 3, 'o': 4, 'h': 2, 'r': 1, ',': 1, 'Y': 1, 'u': 1, 'n': 1, 'd': 1, 'p': 1, 'y': 1}\n",
      "{'L': 1, 'i': 2, 'f': 1, 'e': 3, ' ': 6, 's': 2, 't': 3, 'o': 5, 'h': 2, 'r': 1, ',': 1, 'Y': 1, 'u': 1, 'n': 1, 'd': 1, 'p': 1, 'y': 1}\n",
      "{'L': 1, 'i': 2, 'f': 1, 'e': 3, ' ': 6, 's': 2, 't': 3, 'o': 5, 'h': 2, 'r': 1, ',': 1, 'Y': 1, 'u': 1, 'n': 2, 'd': 1, 'p': 1, 'y': 1}\n",
      "{'L': 1, 'i': 2, 'f': 1, 'e': 3, ' ': 6, 's': 2, 't': 3, 'o': 5, 'h': 2, 'r': 1, ',': 1, 'Y': 1, 'u': 1, 'n': 2, 'd': 1, 'p': 1, 'y': 1, '.': 1}\n"
     ]
    }
   ],
   "source": [
    "data = \"Life is too short, You need python.\"\n",
    "d = dict()\n",
    "for c in data:\n",
    "  if c in d:\n",
    "    d[c] += 1\n",
    "  else:\n",
    "    d[c] = 1\n",
    "  print(d)\n"
   ]
  },
  {
   "cell_type": "markdown",
   "metadata": {},
   "source": []
  },
  {
   "cell_type": "code",
   "execution_count": 105,
   "metadata": {},
   "outputs": [
    {
     "ename": "TypeError",
     "evalue": "'list' object is not callable",
     "output_type": "error",
     "traceback": [
      "\u001b[1;31m---------------------------------------------------------------------------\u001b[0m",
      "\u001b[1;31mTypeError\u001b[0m                                 Traceback (most recent call last)",
      "Cell \u001b[1;32mIn[105], line 14\u001b[0m\n\u001b[0;32m      1\u001b[0m data \u001b[38;5;241m=\u001b[39m [\n\u001b[0;32m      2\u001b[0m     (\u001b[38;5;241m12.23\u001b[39m, \u001b[38;5;124m\"\u001b[39m\u001b[38;5;124m강보람\u001b[39m\u001b[38;5;124m\"\u001b[39m),\n\u001b[0;32m      3\u001b[0m     (\u001b[38;5;241m12.31\u001b[39m, \u001b[38;5;124m\"\u001b[39m\u001b[38;5;124m김지원\u001b[39m\u001b[38;5;124m\"\u001b[39m),\n\u001b[1;32m   (...)\u001b[0m\n\u001b[0;32m     11\u001b[0m     (\u001b[38;5;241m12.22\u001b[39m, \u001b[38;5;124m\"\u001b[39m\u001b[38;5;124m이민석\u001b[39m\u001b[38;5;124m\"\u001b[39m),\n\u001b[0;32m     12\u001b[0m ]\n\u001b[1;32m---> 14\u001b[0m \u001b[38;5;28;43msorted\u001b[39;49m\u001b[43m(\u001b[49m\u001b[43mdata\u001b[49m\u001b[43m)\u001b[49m\n\u001b[0;32m     15\u001b[0m \u001b[38;5;28mprint\u001b[39m(data)\n\u001b[0;32m     16\u001b[0m \u001b[38;5;66;03m# for player in sorted_player[0:3]:\u001b[39;00m\n\u001b[0;32m     17\u001b[0m \u001b[38;5;66;03m#   print(f\"선수(player[1]),기록({player[0]})\")\u001b[39;00m\n",
      "\u001b[1;31mTypeError\u001b[0m: 'list' object is not callable"
     ]
    }
   ],
   "source": [
    "data = [\n",
    "    (12.23, \"강보람\"),\n",
    "    (12.31, \"김지원\"),\n",
    "    (11.98, \"박시우\"),\n",
    "    (11.99, \"장준혁\"),\n",
    "    (11.67, \"차정웅\"),\n",
    "    (12.02, \"박중수\"),\n",
    "    (11.57, \"차동현\"),\n",
    "    (12.04, \"고미숙\"),\n",
    "    (11.92, \"한시우\"),\n",
    "    (12.22, \"이민석\"),\n",
    "]\n",
    "\n",
    "sorted(data)\n",
    "print(data)\n",
    "# for player in sorted_player[0:3]:\n",
    "#   print(f\"선수(player[1]),기록({player[0]})\")"
   ]
  },
  {
   "cell_type": "code",
   "execution_count": 106,
   "metadata": {},
   "outputs": [
    {
     "ename": "TypeError",
     "evalue": "'list' object is not callable",
     "output_type": "error",
     "traceback": [
      "\u001b[1;31m---------------------------------------------------------------------------\u001b[0m",
      "\u001b[1;31mTypeError\u001b[0m                                 Traceback (most recent call last)",
      "Cell \u001b[1;32mIn[106], line 16\u001b[0m\n\u001b[0;32m      2\u001b[0m data \u001b[38;5;241m=\u001b[39m [\n\u001b[0;32m      3\u001b[0m     (\u001b[38;5;241m12.23\u001b[39m, \u001b[38;5;124m\"\u001b[39m\u001b[38;5;124m강보람\u001b[39m\u001b[38;5;124m\"\u001b[39m),\n\u001b[0;32m      4\u001b[0m     (\u001b[38;5;241m12.31\u001b[39m, \u001b[38;5;124m\"\u001b[39m\u001b[38;5;124m김지원\u001b[39m\u001b[38;5;124m\"\u001b[39m),\n\u001b[1;32m   (...)\u001b[0m\n\u001b[0;32m     12\u001b[0m     (\u001b[38;5;241m12.22\u001b[39m, \u001b[38;5;124m\"\u001b[39m\u001b[38;5;124m이민석\u001b[39m\u001b[38;5;124m\"\u001b[39m),\n\u001b[0;32m     13\u001b[0m ]\n\u001b[0;32m     15\u001b[0m \u001b[38;5;66;03m# 데이터 정렬\u001b[39;00m\n\u001b[1;32m---> 16\u001b[0m sorted_data \u001b[38;5;241m=\u001b[39m \u001b[38;5;28;43msorted\u001b[39;49m\u001b[43m(\u001b[49m\u001b[43mdata\u001b[49m\u001b[43m)\u001b[49m\n",
      "\u001b[1;31mTypeError\u001b[0m: 'list' object is not callable"
     ]
    }
   ],
   "source": []
  }
 ],
 "metadata": {
  "kernelspec": {
   "display_name": "Python 3",
   "language": "python",
   "name": "python3"
  },
  "language_info": {
   "codemirror_mode": {
    "name": "ipython",
    "version": 3
   },
   "file_extension": ".py",
   "mimetype": "text/x-python",
   "name": "python",
   "nbconvert_exporter": "python",
   "pygments_lexer": "ipython3",
   "version": "3.11.2"
  }
 },
 "nbformat": 4,
 "nbformat_minor": 2
}
