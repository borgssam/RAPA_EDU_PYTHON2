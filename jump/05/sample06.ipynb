{
 "cells": [
  {
   "cell_type": "code",
   "execution_count": 3,
   "metadata": {},
   "outputs": [
    {
     "data": {
      "text/plain": [
       "'Life [...]'"
      ]
     },
     "execution_count": 3,
     "metadata": {},
     "output_type": "execute_result"
    }
   ],
   "source": [
    "import textwrap\n",
    "textwrap.shorten(\"Life is to short. you need python\", width=10)\n",
    "# Life is [...]"
   ]
  },
  {
   "cell_type": "code",
   "execution_count": 12,
   "metadata": {},
   "outputs": [
    {
     "data": {
      "text/plain": [
       "'인생은 짧으니 파이썬이~~~'"
      ]
     },
     "execution_count": 12,
     "metadata": {},
     "output_type": "execute_result"
    }
   ],
   "source": [
    "textwrap.shorten(\"인생은 짧으니 파이썬이 필요해\", width=15, placeholder='~~~')\n",
    "# 인생은 짧으니 파이썬이..."
   ]
  },
  {
   "cell_type": "code",
   "execution_count": 17,
   "metadata": {},
   "outputs": [
    {
     "data": {
      "text/plain": [
       "'인생은 짧으니 [...]'"
      ]
     },
     "execution_count": 17,
     "metadata": {},
     "output_type": "execute_result"
    }
   ],
   "source": [
    "textwrap.shorten(\"인생은 짧으니 파이썬이 필요해\", width=14)"
   ]
  },
  {
   "cell_type": "code",
   "execution_count": 26,
   "metadata": {},
   "outputs": [
    {
     "name": "stdout",
     "output_type": "stream",
     "text": [
      "동해물과 백두산이 마르고 닳도록 동해물과 백두산이 마르고 닳도록 동해물과 백두산이 마르고 닳도록 동해물과 백두산이 마르고 닳도록 동해물과 백두산이 마르고 닳도록 동해물과 백두산이 마르고 닳도록 동해물과 백두산이 마르고 닳도록 동해물과 백두산이 마르고 닳도록 동해물과 백두산이 마르고 닳도록 동해물과 백두산이 마르고 닳도록 \n"
     ]
    }
   ],
   "source": [
    "long_text = \"동해물과 백두산이 마르고 닳도록 \" * 10\n",
    "print(long_text)"
   ]
  },
  {
   "cell_type": "code",
   "execution_count": 21,
   "metadata": {},
   "outputs": [
    {
     "name": "stdout",
     "output_type": "stream",
     "text": [
      "['동해물과 백두산이 마르고 닳도록동해물과 백두산이 마르고 닳도록동해물과 백두산이 마르고', '닳도록동해물과 백두산이 마르고 닳도록동해물과 백두산이 마르고 닳도록동해물과 백두산이 마르고', '닳도록동해물과 백두산이 마르고 닳도록동해물과 백두산이 마르고 닳도록동해물과 백두산이 마르고', '닳도록동해물과 백두산이 마르고 닳도록']\n"
     ]
    }
   ],
   "source": [
    "import textwrap\n",
    "result = textwrap.wrap(long_text, width=50)\n",
    "print(result)"
   ]
  },
  {
   "cell_type": "code",
   "execution_count": 23,
   "metadata": {},
   "outputs": [
    {
     "name": "stdout",
     "output_type": "stream",
     "text": [
      "동해물과 백두산이 마르고 닳도록동해물과 백두산이 마르고 닳도록동해물과 백두산이 마르고\n",
      "닳도록동해물과 백두산이 마르고 닳도록동해물과 백두산이 마르고 닳도록동해물과 백두산이 마르고\n",
      "닳도록동해물과 백두산이 마르고 닳도록동해물과 백두산이 마르고 닳도록동해물과 백두산이 마르고\n",
      "닳도록동해물과 백두산이 마르고 닳도록\n"
     ]
    }
   ],
   "source": [
    "print('\\n'.join(result))"
   ]
  },
  {
   "cell_type": "code",
   "execution_count": 27,
   "metadata": {},
   "outputs": [
    {
     "name": "stdout",
     "output_type": "stream",
     "text": [
      "동해물과 백두산이\n",
      "마르고 닳도록\n",
      "동해물과 백두산이\n",
      "마르고 닳도록\n",
      "동해물과 백두산이\n",
      "마르고 닳도록\n",
      "동해물과 백두산이\n",
      "마르고 닳도록\n",
      "동해물과 백두산이\n",
      "마르고 닳도록\n",
      "동해물과 백두산이\n",
      "마르고 닳도록\n",
      "동해물과 백두산이\n",
      "마르고 닳도록\n",
      "동해물과 백두산이\n",
      "마르고 닳도록\n",
      "동해물과 백두산이\n",
      "마르고 닳도록\n",
      "동해물과 백두산이\n",
      "마르고 닳도록\n"
     ]
    }
   ],
   "source": [
    "result = textwrap.fill(long_text, width=10)\n",
    "print(result)"
   ]
  },
  {
   "cell_type": "code",
   "execution_count": 34,
   "metadata": {},
   "outputs": [
    {
     "name": "stdout",
     "output_type": "stream",
     "text": [
      "\n",
      "홍길동의 주민번호는 800905-******* 입니다. \n",
      "그리고 고길동의 주민번호는 700905-******* 입니다.\n",
      "그렇다면 누가 형님일까요?\n",
      "\n"
     ]
    }
   ],
   "source": [
    "data = \"\"\"\n",
    "홍길동의 주민번호는 800905-1049118 입니다. \n",
    "그리고 고길동의 주민번호는 700905-1059119 입니다.\n",
    "그렇다면 누가 형님일까요?\n",
    "\"\"\"\n",
    "#주민번호 뒸자리를 * 표시한다.\n",
    "result = []\n",
    "for line in data.split(\"\\n\"):\n",
    "  # print(line)\n",
    "  result_line = []\n",
    "  for word in line.split(\" \"):    \n",
    "    if(len(word) == 14):\n",
    "      word = word[:6]+\"-*******\"\n",
    "    result_line.append(word)\n",
    "  tempString = \" \".join(result_line)\n",
    "  result.append(tempString)\n",
    "newString = \"\\n\".join(result)\n",
    "print(newString)"
   ]
  },
  {
   "cell_type": "code",
   "execution_count": 41,
   "metadata": {},
   "outputs": [
    {
     "name": "stdout",
     "output_type": "stream",
     "text": [
      "['800905-1049118', '700905-1059119']\n"
     ]
    }
   ],
   "source": [
    "import re\n",
    "data = \"\"\"\n",
    "홍길동의 주민번호는 800905-1049118 입니다. \n",
    "그리고 고길동의 주민번호는 700905-1059119 입니다.\n",
    "그렇다면 누가 형님일까요?\n",
    "\"\"\"\n",
    "regFormat=\"\\d{6}-\\d{7}\"\n",
    "\n",
    "result = re.findall(regFormat, data)\n",
    "print(result)"
   ]
  },
  {
   "cell_type": "code",
   "execution_count": null,
   "metadata": {},
   "outputs": [],
   "source": []
  },
  {
   "cell_type": "code",
   "execution_count": 42,
   "metadata": {},
   "outputs": [
    {
     "name": "stdout",
     "output_type": "stream",
     "text": [
      "\n",
      "홍길동의 주민번호는 800905-####### 입니다. \n",
      "그리고 고길동의 주민번호는 700905-####### 입니다.\n",
      "그렇다면 누가 형님일까요?\n",
      "\n"
     ]
    }
   ],
   "source": [
    "import re\n",
    "data = \"\"\"\n",
    "홍길동의 주민번호는 800905-1049118 입니다. \n",
    "그리고 고길동의 주민번호는 700905-1059119 입니다.\n",
    "그렇다면 누가 형님일까요?\n",
    "\"\"\"\n",
    "regFormat=\"(\\d{6})-(\\d{7})\"\n",
    "patten = re.compile(regFormat)\n",
    "result = patten.sub(\"\\g<1>-#######\",data)\n",
    "print(result)"
   ]
  },
  {
   "cell_type": "code",
   "execution_count": 56,
   "metadata": {},
   "outputs": [
    {
     "name": "stdout",
     "output_type": "stream",
     "text": [
      "['hong@test.com', 'ko123@domain.net', 'lee.soon@naver.co']\n"
     ]
    }
   ],
   "source": [
    "import re\n",
    "\n",
    "# 예시 데이터: 이메일 주소가 포함된 문자열\n",
    "data = \"\"\"\n",
    "홍길동의 이메일은 hong@test.com 입니다.\n",
    "그리고 고길동의 이메일은 ko123@domain.net 입니다.\n",
    "또한 이순신의 이메일은 lee.soon@naver.co.kr 입니다.\n",
    "\"\"\"\n",
    "# 1.이메일 모두 출력해보세요\n",
    "# 2.이메일 아이디를 앞에 2글자를 빼고 나머지를 *표시해주세요\n",
    "email_pattern = r'[\\w\\.]{3,}@\\w{3,}\\.\\w{2,}'   #1\n",
    "#email_pattern = r'\\w{2}\\w+@\\w{3,}\\.\\w{2,}'#2\n",
    "# email_pattern = r'(\\w{2})(\\w+)@\\w{3,}\\.\\w{2,}'\n",
    "result = re.findall(email_pattern,data)\n",
    "print(result)"
   ]
  },
  {
   "cell_type": "code",
   "execution_count": 61,
   "metadata": {},
   "outputs": [
    {
     "name": "stdout",
     "output_type": "stream",
     "text": [
      "<re.Match object; span=(11, 24), match='hong@test.com'>\n",
      "<re.Match object; span=(44, 60), match='ko123@domain.net'>\n",
      "<re.Match object; span=(79, 99), match='lee.soon@naver.co.kr'>\n",
      "\n",
      "홍길동의 이메일은 ho**@test.com 입니다.\n",
      "그리고 고길동의 이메일은 ko***@domain.net 입니다.\n",
      "또한 이순신의 이메일은 le******@naver.co.kr 입니다.\n",
      "\n"
     ]
    }
   ],
   "source": [
    "import re\n",
    "\n",
    "# 예시 데이터: 이메일 주소가 포함된 문자열\n",
    "data = \"\"\"\n",
    "홍길동의 이메일은 hong@test.com 입니다.\n",
    "그리고 고길동의 이메일은 ko123@domain.net 입니다.\n",
    "또한 이순신의 이메일은 lee.soon@naver.co.kr 입니다.\n",
    "\"\"\"\n",
    "# 1.이메일 모두 출력해보세요\n",
    "# 2.이메일 아이디를 앞에 2글자를 빼고 나머지를 *표시해주세요\n",
    "email_pattern = r'([\\w\\.]{2})([\\w\\.]+)@\\w{3,}\\.[\\w\\.]{2,}'\n",
    "#re.sub(패턴, 치환값, 원본)\n",
    "def rep(match):\n",
    "  print(match)\n",
    "  email = match.group()\n",
    "  name1= match.group(1)\n",
    "  name2= match.group(2)\n",
    "  star = \"*\" * len(name2)\n",
    "  result = name1 + star\n",
    "  result = result + email[len(result):]\n",
    "  return result\n",
    "\n",
    "result = re.sub(email_pattern, rep, data)\n",
    "\n",
    "print(result)"
   ]
  },
  {
   "cell_type": "code",
   "execution_count": 46,
   "metadata": {},
   "outputs": [
    {
     "name": "stdout",
     "output_type": "stream",
     "text": [
      "변환된 문자열:\n",
      " \n",
      "홍길동의 이메일은 hon*@test.com 입니다.\n",
      "그리고 고길동의 이메일은 ko1**@domain.net 입니다.\n",
      "또한 이순신의 이메일은 lee.soo*@naver.co.kr 입니다.\n",
      "\n"
     ]
    }
   ],
   "source": [
    "import re\n",
    "\n",
    "# 예시 데이터: 이메일 주소가 포함된 문자열\n",
    "data = \"\"\"\n",
    "홍길동의 이메일은 hong@test.com 입니다.\n",
    "그리고 고길동의 이메일은 ko123@domain.net 입니다.\n",
    "또한 이순신의 이메일은 lee.soon@naver.co.kr 입니다.\n",
    "\"\"\"\n",
    "\n",
    "# 이메일 주소를 찾는 정규식 패턴\n",
    "email_pattern = r'(\\w+)@\\w+\\.[a-zA-Z]{2,}'\n",
    "\n",
    "# 이메일 주소 찾기 및 변환된 문자열 생성\n",
    "def mask_email(match):\n",
    "    email = match.group()  # 전체 이메일 주소\n",
    "    username = match.group(1)  # 이메일 아이디 부분\n",
    "    # 아이디의 길이가 3 이하인 경우 모두 *로 변환\n",
    "    if len(username) <= 3:\n",
    "        masked_username = '*' * len(username)\n",
    "    else:\n",
    "        masked_username = username[:3] + '*' * (len(username) - 3)\n",
    "    \n",
    "    # 변환된 이메일 주소 리턴\n",
    "    return masked_username + email[len(username):]\n",
    "\n",
    "# 원본 문자열에서 이메일 주소 변환\n",
    "masked_data = re.sub(email_pattern, mask_email, data)\n",
    "\n",
    "# 결과 출력\n",
    "print(\"변환된 문자열:\\n\", masked_data)\n"
   ]
  }
 ],
 "metadata": {
  "kernelspec": {
   "display_name": "Python 3",
   "language": "python",
   "name": "python3"
  },
  "language_info": {
   "codemirror_mode": {
    "name": "ipython",
    "version": 3
   },
   "file_extension": ".py",
   "mimetype": "text/x-python",
   "name": "python",
   "nbconvert_exporter": "python",
   "pygments_lexer": "ipython3",
   "version": "3.11.2"
  }
 },
 "nbformat": 4,
 "nbformat_minor": 2
}
