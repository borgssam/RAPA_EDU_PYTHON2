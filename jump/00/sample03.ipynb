{
 "cells": [
  {
   "cell_type": "code",
   "execution_count": 5,
   "metadata": {},
   "outputs": [
    {
     "name": "stdout",
     "output_type": "stream",
     "text": [
      "0=>140704291877672\n",
      "1=>140704291877704\n",
      "2=>140704291877704\n",
      "2\n"
     ]
    }
   ],
   "source": [
    "# vartest_return.py\n",
    "a0 = 1\n",
    "print(\"0=>\"+str(id(a0)))\n",
    "def vartest(a1): \n",
    "    a1 = a1 +1 \n",
    "    print(\"1=>\"+str(id(a1)))\n",
    "    return a1\n",
    "\n",
    "a2 = vartest(a0) \n",
    "print(\"2=>\"+str(id(a2)))\n",
    "print(a2)\n"
   ]
  },
  {
   "cell_type": "code",
   "execution_count": 6,
   "metadata": {},
   "outputs": [
    {
     "name": "stdout",
     "output_type": "stream",
     "text": [
      "2\n"
     ]
    }
   ],
   "source": [
    "# vartest_global.py\n",
    "a = 1 \n",
    "def vartest(): \n",
    "    global a \n",
    "    a = a+1\n",
    "\n",
    "vartest() \n",
    "print(a)\n"
   ]
  },
  {
   "cell_type": "code",
   "execution_count": 8,
   "metadata": {},
   "outputs": [
    {
     "name": "stdout",
     "output_type": "stream",
     "text": [
      "7\n"
     ]
    }
   ],
   "source": [
    "number1 = int(input(\"숫자를 입력하세요: \"))\n",
    "number2 = int(input(\"숫자를 입력하세요: \"))\n",
    "\n",
    "print(number1+number2)\n",
    "\n"
   ]
  },
  {
   "cell_type": "code",
   "execution_count": 14,
   "metadata": {},
   "outputs": [],
   "source": [
    "# write_data.py\n",
    "f = open(\"C:/EDU/edu_python/rapa311/새파일.txt\", 'a')\n",
    "for i in range(21, 31):\n",
    "    data = \"%d번째 줄입니다.\\n\" % i\n",
    "    f.write(data)\n",
    "f.close()"
   ]
  },
  {
   "cell_type": "code",
   "execution_count": 15,
   "metadata": {},
   "outputs": [
    {
     "name": "stdout",
     "output_type": "stream",
     "text": [
      "11번째 줄입니다.\n",
      "\n"
     ]
    }
   ],
   "source": [
    "# read_data.py\n",
    "f = open(\"C:/EDU/edu_python/rapa311/새파일.txt\", 'r')\n",
    "line = f.readline()\n",
    "print(line)\n",
    "f.close()"
   ]
  },
  {
   "cell_type": "code",
   "execution_count": null,
   "metadata": {},
   "outputs": [],
   "source": [
    "# read_data.py\n",
    "f = open(\"C:/EDU/edu_python/rapa311/새파일.txt\", 'r')\n",
    "while True:\n",
    "  line = f.readline()\n",
    "  if not line: break;\n",
    "  print(line)\n",
    "  \n",
    "f.close()"
   ]
  },
  {
   "cell_type": "code",
   "execution_count": null,
   "metadata": {},
   "outputs": [],
   "source": [
    "# read_data.py\n",
    "f = open(\"C:/EDU/edu_python/rapa311/새파일.txt\", 'r')\n",
    "\n",
    "lines = f.readlines()\n",
    "\n",
    "for line in lines:\n",
    "  print(line)\n",
    "  \n",
    "f.close()"
   ]
  },
  {
   "cell_type": "code",
   "execution_count": null,
   "metadata": {},
   "outputs": [],
   "source": [
    "# read_data.py\n",
    "f = open(\"C:/EDU/edu_python/rapa311/새파일.txt\", 'r')\n",
    "\n",
    "data = f.read()\n",
    "print(data)\n",
    "  \n",
    "f.close()"
   ]
  },
  {
   "cell_type": "code",
   "execution_count": null,
   "metadata": {},
   "outputs": [],
   "source": [
    "with open(\"C:/EDU/edu_python/rapa311/새파일.txt\", 'r') as f:\n",
    "  data = f.read()\n",
    "  print(data)"
   ]
  }
 ],
 "metadata": {
  "kernelspec": {
   "display_name": "Python 3",
   "language": "python",
   "name": "python3"
  },
  "language_info": {
   "codemirror_mode": {
    "name": "ipython",
    "version": 3
   },
   "file_extension": ".py",
   "mimetype": "text/x-python",
   "name": "python",
   "nbconvert_exporter": "python",
   "pygments_lexer": "ipython3",
   "version": "3.11.2"
  }
 },
 "nbformat": 4,
 "nbformat_minor": 2
}
