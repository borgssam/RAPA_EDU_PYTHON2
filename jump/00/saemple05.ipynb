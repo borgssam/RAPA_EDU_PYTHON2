{
 "cells": [
  {
   "cell_type": "code",
   "execution_count": 4,
   "metadata": {},
   "outputs": [
    {
     "name": "stdout",
     "output_type": "stream",
     "text": [
      "3\n",
      "7\n",
      "2\n",
      "7\n"
     ]
    }
   ],
   "source": [
    "result1 = 0\n",
    "result2 =0\n",
    "def add1(num):\n",
    "  global result1\n",
    "  result1 += num\n",
    "  return result1\n",
    "\n",
    "def add2(num):\n",
    "  global result2\n",
    "  result2 += num\n",
    "  return result2\n",
    "\n",
    "add1(3)\n",
    "print(result1) \n",
    "add1(4)\n",
    "print(result1)\n",
    "\n",
    "print(add2(2))\n",
    "print(add2(5))"
   ]
  },
  {
   "cell_type": "code",
   "execution_count": 6,
   "metadata": {},
   "outputs": [
    {
     "name": "stdout",
     "output_type": "stream",
     "text": [
      "2\n",
      "7\n",
      "4\n"
     ]
    }
   ],
   "source": [
    "class Calculatotr:\n",
    "  result = 0\n",
    "  def __init__(self):\n",
    "    self.result = 0\n",
    "    \n",
    "  def add(self, num):\n",
    "    self.result += num\n",
    "    return self.result\n",
    "  def sub(self, num):\n",
    "    self.result -= num\n",
    "    return self.result\n",
    "  \n",
    "  #곱하기 mul 나누기 div\n",
    "\n",
    "cal1 = Calculatotr()\n",
    "cal2 = Calculatotr()\n",
    "\n",
    "# print(cal1.add(3))\n",
    "# print(cal1.add(4))\n",
    "print(cal2.add(2))\n",
    "print(cal2.add(5))\n",
    "print(cal2.sub(3))"
   ]
  }
 ],
 "metadata": {
  "kernelspec": {
   "display_name": "Python 3",
   "language": "python",
   "name": "python3"
  },
  "language_info": {
   "codemirror_mode": {
    "name": "ipython",
    "version": 3
   },
   "file_extension": ".py",
   "mimetype": "text/x-python",
   "name": "python",
   "nbconvert_exporter": "python",
   "pygments_lexer": "ipython3",
   "version": "3.11.2"
  }
 },
 "nbformat": 4,
 "nbformat_minor": 2
}
